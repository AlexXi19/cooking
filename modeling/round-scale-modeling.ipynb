{
 "cells": [
  {
   "cell_type": "code",
   "execution_count": 41,
   "id": "4d5a797c",
   "metadata": {},
   "outputs": [],
   "source": [
    "from sklearn.ensemble import RandomForestClassifier\n",
    "import pandas as pd\n",
    "import numpy as np"
   ]
  },
  {
   "cell_type": "code",
   "execution_count": 42,
   "id": "2f05bd81",
   "metadata": {},
   "outputs": [
    {
     "data": {
      "text/plain": [
       "'/Users/yuanruizhu/Desktop/cooking-main/modeling'"
      ]
     },
     "execution_count": 42,
     "metadata": {},
     "output_type": "execute_result"
    }
   ],
   "source": [
    "pwd"
   ]
  },
  {
   "cell_type": "markdown",
   "id": "0d8a49a1",
   "metadata": {},
   "source": [
    "###  DataGenerating"
   ]
  },
  {
   "cell_type": "code",
   "execution_count": 43,
   "id": "39b9c0d0",
   "metadata": {},
   "outputs": [
    {
     "data": {
      "text/html": [
       "<div>\n",
       "<style scoped>\n",
       "    .dataframe tbody tr th:only-of-type {\n",
       "        vertical-align: middle;\n",
       "    }\n",
       "\n",
       "    .dataframe tbody tr th {\n",
       "        vertical-align: top;\n",
       "    }\n",
       "\n",
       "    .dataframe thead th {\n",
       "        text-align: right;\n",
       "    }\n",
       "</style>\n",
       "<table border=\"1\" class=\"dataframe\">\n",
       "  <thead>\n",
       "    <tr style=\"text-align: right;\">\n",
       "      <th></th>\n",
       "      <th>ResponseId</th>\n",
       "      <th>label</th>\n",
       "    </tr>\n",
       "  </thead>\n",
       "  <tbody>\n",
       "    <tr>\n",
       "      <th>0</th>\n",
       "      <td>R_0IcuUZHN9dKfH0Z</td>\n",
       "      <td>3.0</td>\n",
       "    </tr>\n",
       "    <tr>\n",
       "      <th>1</th>\n",
       "      <td>R_0VXJLbkyY71lN4J</td>\n",
       "      <td>1.0</td>\n",
       "    </tr>\n",
       "    <tr>\n",
       "      <th>2</th>\n",
       "      <td>R_125AKwC51ygjjQk</td>\n",
       "      <td>3.0</td>\n",
       "    </tr>\n",
       "    <tr>\n",
       "      <th>3</th>\n",
       "      <td>R_12Dt0DJZNmFiKry</td>\n",
       "      <td>1.0</td>\n",
       "    </tr>\n",
       "    <tr>\n",
       "      <th>4</th>\n",
       "      <td>R_12QMTavRK76D6Gq</td>\n",
       "      <td>3.0</td>\n",
       "    </tr>\n",
       "    <tr>\n",
       "      <th>...</th>\n",
       "      <td>...</td>\n",
       "      <td>...</td>\n",
       "    </tr>\n",
       "    <tr>\n",
       "      <th>1296</th>\n",
       "      <td>R_2uO0jriCjacBmex</td>\n",
       "      <td>NaN</td>\n",
       "    </tr>\n",
       "    <tr>\n",
       "      <th>1297</th>\n",
       "      <td>R_2CVv4NSDE4SkU22</td>\n",
       "      <td>NaN</td>\n",
       "    </tr>\n",
       "    <tr>\n",
       "      <th>1298</th>\n",
       "      <td>R_pQcs83rkz3Z2mxb</td>\n",
       "      <td>NaN</td>\n",
       "    </tr>\n",
       "    <tr>\n",
       "      <th>1299</th>\n",
       "      <td>R_DOwVqDWhTsSnR9n</td>\n",
       "      <td>3.0</td>\n",
       "    </tr>\n",
       "    <tr>\n",
       "      <th>1300</th>\n",
       "      <td>R_3st9dQgP2ylI7hA</td>\n",
       "      <td>3.0</td>\n",
       "    </tr>\n",
       "  </tbody>\n",
       "</table>\n",
       "<p>1301 rows × 2 columns</p>\n",
       "</div>"
      ],
      "text/plain": [
       "             ResponseId  label\n",
       "0     R_0IcuUZHN9dKfH0Z    3.0\n",
       "1     R_0VXJLbkyY71lN4J    1.0\n",
       "2     R_125AKwC51ygjjQk    3.0\n",
       "3     R_12Dt0DJZNmFiKry    1.0\n",
       "4     R_12QMTavRK76D6Gq    3.0\n",
       "...                 ...    ...\n",
       "1296  R_2uO0jriCjacBmex    NaN\n",
       "1297  R_2CVv4NSDE4SkU22    NaN\n",
       "1298  R_pQcs83rkz3Z2mxb    NaN\n",
       "1299  R_DOwVqDWhTsSnR9n    3.0\n",
       "1300  R_3st9dQgP2ylI7hA    3.0\n",
       "\n",
       "[1301 rows x 2 columns]"
      ]
     },
     "execution_count": 43,
     "metadata": {},
     "output_type": "execute_result"
    }
   ],
   "source": [
    "main_df = pd.read_csv(\"../data/Archive/Cooking Game Suggested Tips  - BBS21-Phase2-Disruption.csv\")\n",
    "main_df = main_df[['ResponseId', 'Group #']].rename(columns = {\"Group #\": \"label\"})\n",
    "main_df"
   ]
  },
  {
   "cell_type": "code",
   "execution_count": 44,
   "id": "73fff83a",
   "metadata": {
    "scrolled": true
   },
   "outputs": [
    {
     "data": {
      "text/html": [
       "<div>\n",
       "<style scoped>\n",
       "    .dataframe tbody tr th:only-of-type {\n",
       "        vertical-align: middle;\n",
       "    }\n",
       "\n",
       "    .dataframe tbody tr th {\n",
       "        vertical-align: top;\n",
       "    }\n",
       "\n",
       "    .dataframe thead th {\n",
       "        text-align: right;\n",
       "    }\n",
       "</style>\n",
       "<table border=\"1\" class=\"dataframe\">\n",
       "  <thead>\n",
       "    <tr style=\"text-align: right;\">\n",
       "      <th></th>\n",
       "      <th>ResponseId</th>\n",
       "      <th>round</th>\n",
       "      <th>tick</th>\n",
       "      <th>orderId</th>\n",
       "      <th>taskId</th>\n",
       "      <th>taskTicks</th>\n",
       "      <th>workerId</th>\n",
       "      <th>workerTicks</th>\n",
       "      <th>label</th>\n",
       "    </tr>\n",
       "  </thead>\n",
       "  <tbody>\n",
       "    <tr>\n",
       "      <th>0</th>\n",
       "      <td>R_0DNcJqALC3UG9Db</td>\n",
       "      <td>1</td>\n",
       "      <td>1</td>\n",
       "      <td>1</td>\n",
       "      <td>1</td>\n",
       "      <td>2</td>\n",
       "      <td>1</td>\n",
       "      <td>0</td>\n",
       "      <td>2.0</td>\n",
       "    </tr>\n",
       "    <tr>\n",
       "      <th>1</th>\n",
       "      <td>R_0DNcJqALC3UG9Db</td>\n",
       "      <td>1</td>\n",
       "      <td>1</td>\n",
       "      <td>2</td>\n",
       "      <td>1</td>\n",
       "      <td>2</td>\n",
       "      <td>2</td>\n",
       "      <td>0</td>\n",
       "      <td>2.0</td>\n",
       "    </tr>\n",
       "    <tr>\n",
       "      <th>2</th>\n",
       "      <td>R_0DNcJqALC3UG9Db</td>\n",
       "      <td>1</td>\n",
       "      <td>1</td>\n",
       "      <td>3</td>\n",
       "      <td>1</td>\n",
       "      <td>2</td>\n",
       "      <td>3</td>\n",
       "      <td>0</td>\n",
       "      <td>2.0</td>\n",
       "    </tr>\n",
       "    <tr>\n",
       "      <th>3</th>\n",
       "      <td>R_0DNcJqALC3UG9Db</td>\n",
       "      <td>1</td>\n",
       "      <td>2</td>\n",
       "      <td>0</td>\n",
       "      <td>0</td>\n",
       "      <td>0</td>\n",
       "      <td>0</td>\n",
       "      <td>0</td>\n",
       "      <td>2.0</td>\n",
       "    </tr>\n",
       "    <tr>\n",
       "      <th>4</th>\n",
       "      <td>R_0DNcJqALC3UG9Db</td>\n",
       "      <td>1</td>\n",
       "      <td>2</td>\n",
       "      <td>0</td>\n",
       "      <td>0</td>\n",
       "      <td>0</td>\n",
       "      <td>0</td>\n",
       "      <td>0</td>\n",
       "      <td>2.0</td>\n",
       "    </tr>\n",
       "    <tr>\n",
       "      <th>...</th>\n",
       "      <td>...</td>\n",
       "      <td>...</td>\n",
       "      <td>...</td>\n",
       "      <td>...</td>\n",
       "      <td>...</td>\n",
       "      <td>...</td>\n",
       "      <td>...</td>\n",
       "      <td>...</td>\n",
       "      <td>...</td>\n",
       "    </tr>\n",
       "    <tr>\n",
       "      <th>140812</th>\n",
       "      <td>R_z6DSJfELElPHABP</td>\n",
       "      <td>6</td>\n",
       "      <td>34</td>\n",
       "      <td>0</td>\n",
       "      <td>0</td>\n",
       "      <td>0</td>\n",
       "      <td>0</td>\n",
       "      <td>0</td>\n",
       "      <td>3.0</td>\n",
       "    </tr>\n",
       "    <tr>\n",
       "      <th>140813</th>\n",
       "      <td>R_z6DSJfELElPHABP</td>\n",
       "      <td>6</td>\n",
       "      <td>34</td>\n",
       "      <td>0</td>\n",
       "      <td>0</td>\n",
       "      <td>0</td>\n",
       "      <td>0</td>\n",
       "      <td>0</td>\n",
       "      <td>3.0</td>\n",
       "    </tr>\n",
       "    <tr>\n",
       "      <th>140814</th>\n",
       "      <td>R_z6DSJfELElPHABP</td>\n",
       "      <td>6</td>\n",
       "      <td>35</td>\n",
       "      <td>4</td>\n",
       "      <td>3</td>\n",
       "      <td>2</td>\n",
       "      <td>2</td>\n",
       "      <td>0</td>\n",
       "      <td>3.0</td>\n",
       "    </tr>\n",
       "    <tr>\n",
       "      <th>140815</th>\n",
       "      <td>R_z6DSJfELElPHABP</td>\n",
       "      <td>6</td>\n",
       "      <td>35</td>\n",
       "      <td>0</td>\n",
       "      <td>0</td>\n",
       "      <td>0</td>\n",
       "      <td>0</td>\n",
       "      <td>0</td>\n",
       "      <td>3.0</td>\n",
       "    </tr>\n",
       "    <tr>\n",
       "      <th>140816</th>\n",
       "      <td>R_z6DSJfELElPHABP</td>\n",
       "      <td>6</td>\n",
       "      <td>35</td>\n",
       "      <td>0</td>\n",
       "      <td>0</td>\n",
       "      <td>0</td>\n",
       "      <td>0</td>\n",
       "      <td>0</td>\n",
       "      <td>3.0</td>\n",
       "    </tr>\n",
       "  </tbody>\n",
       "</table>\n",
       "<p>140817 rows × 9 columns</p>\n",
       "</div>"
      ],
      "text/plain": [
       "               ResponseId  round  tick  orderId  taskId  taskTicks  workerId  \\\n",
       "0       R_0DNcJqALC3UG9Db      1     1        1       1          2         1   \n",
       "1       R_0DNcJqALC3UG9Db      1     1        2       1          2         2   \n",
       "2       R_0DNcJqALC3UG9Db      1     1        3       1          2         3   \n",
       "3       R_0DNcJqALC3UG9Db      1     2        0       0          0         0   \n",
       "4       R_0DNcJqALC3UG9Db      1     2        0       0          0         0   \n",
       "...                   ...    ...   ...      ...     ...        ...       ...   \n",
       "140812  R_z6DSJfELElPHABP      6    34        0       0          0         0   \n",
       "140813  R_z6DSJfELElPHABP      6    34        0       0          0         0   \n",
       "140814  R_z6DSJfELElPHABP      6    35        4       3          2         2   \n",
       "140815  R_z6DSJfELElPHABP      6    35        0       0          0         0   \n",
       "140816  R_z6DSJfELElPHABP      6    35        0       0          0         0   \n",
       "\n",
       "        workerTicks  label  \n",
       "0                 0    2.0  \n",
       "1                 0    2.0  \n",
       "2                 0    2.0  \n",
       "3                 0    2.0  \n",
       "4                 0    2.0  \n",
       "...             ...    ...  \n",
       "140812            0    3.0  \n",
       "140813            0    3.0  \n",
       "140814            0    3.0  \n",
       "140815            0    3.0  \n",
       "140816            0    3.0  \n",
       "\n",
       "[140817 rows x 9 columns]"
      ]
     },
     "execution_count": 44,
     "metadata": {},
     "output_type": "execute_result"
    }
   ],
   "source": [
    "df = pd.read_csv(\"../data/Archive/combined_phase2.csv\")\n",
    "df = df.rename(columns={\"best_tip\":\"label\"}).drop(columns = ['label']).merge(main_df, on = 'ResponseId')\n",
    "df"
   ]
  },
  {
   "cell_type": "code",
   "execution_count": 45,
   "id": "3b061333",
   "metadata": {},
   "outputs": [
    {
     "data": {
      "text/html": [
       "<div>\n",
       "<style scoped>\n",
       "    .dataframe tbody tr th:only-of-type {\n",
       "        vertical-align: middle;\n",
       "    }\n",
       "\n",
       "    .dataframe tbody tr th {\n",
       "        vertical-align: top;\n",
       "    }\n",
       "\n",
       "    .dataframe thead th {\n",
       "        text-align: right;\n",
       "    }\n",
       "</style>\n",
       "<table border=\"1\" class=\"dataframe\">\n",
       "  <thead>\n",
       "    <tr style=\"text-align: right;\">\n",
       "      <th></th>\n",
       "      <th>ResponseId</th>\n",
       "      <th>round</th>\n",
       "      <th>tick</th>\n",
       "      <th>orderId</th>\n",
       "      <th>taskId</th>\n",
       "      <th>taskTicks</th>\n",
       "      <th>workerId</th>\n",
       "      <th>workerTicks</th>\n",
       "      <th>label</th>\n",
       "    </tr>\n",
       "  </thead>\n",
       "  <tbody>\n",
       "    <tr>\n",
       "      <th>0</th>\n",
       "      <td>R_09f8RCjNyCadwPv</td>\n",
       "      <td>1</td>\n",
       "      <td>1</td>\n",
       "      <td>1</td>\n",
       "      <td>1</td>\n",
       "      <td>2</td>\n",
       "      <td>1</td>\n",
       "      <td>0</td>\n",
       "      <td>3.0</td>\n",
       "    </tr>\n",
       "    <tr>\n",
       "      <th>1</th>\n",
       "      <td>R_09f8RCjNyCadwPv</td>\n",
       "      <td>1</td>\n",
       "      <td>1</td>\n",
       "      <td>2</td>\n",
       "      <td>1</td>\n",
       "      <td>2</td>\n",
       "      <td>2</td>\n",
       "      <td>0</td>\n",
       "      <td>3.0</td>\n",
       "    </tr>\n",
       "    <tr>\n",
       "      <th>2</th>\n",
       "      <td>R_09f8RCjNyCadwPv</td>\n",
       "      <td>1</td>\n",
       "      <td>1</td>\n",
       "      <td>3</td>\n",
       "      <td>1</td>\n",
       "      <td>2</td>\n",
       "      <td>3</td>\n",
       "      <td>0</td>\n",
       "      <td>3.0</td>\n",
       "    </tr>\n",
       "    <tr>\n",
       "      <th>3</th>\n",
       "      <td>R_09f8RCjNyCadwPv</td>\n",
       "      <td>1</td>\n",
       "      <td>2</td>\n",
       "      <td>0</td>\n",
       "      <td>0</td>\n",
       "      <td>0</td>\n",
       "      <td>0</td>\n",
       "      <td>0</td>\n",
       "      <td>3.0</td>\n",
       "    </tr>\n",
       "    <tr>\n",
       "      <th>4</th>\n",
       "      <td>R_09f8RCjNyCadwPv</td>\n",
       "      <td>1</td>\n",
       "      <td>2</td>\n",
       "      <td>0</td>\n",
       "      <td>0</td>\n",
       "      <td>0</td>\n",
       "      <td>0</td>\n",
       "      <td>0</td>\n",
       "      <td>3.0</td>\n",
       "    </tr>\n",
       "    <tr>\n",
       "      <th>...</th>\n",
       "      <td>...</td>\n",
       "      <td>...</td>\n",
       "      <td>...</td>\n",
       "      <td>...</td>\n",
       "      <td>...</td>\n",
       "      <td>...</td>\n",
       "      <td>...</td>\n",
       "      <td>...</td>\n",
       "      <td>...</td>\n",
       "    </tr>\n",
       "    <tr>\n",
       "      <th>142615</th>\n",
       "      <td>R_yURk5fqt6tj7kjL</td>\n",
       "      <td>6</td>\n",
       "      <td>36</td>\n",
       "      <td>0</td>\n",
       "      <td>0</td>\n",
       "      <td>0</td>\n",
       "      <td>0</td>\n",
       "      <td>0</td>\n",
       "      <td>3.0</td>\n",
       "    </tr>\n",
       "    <tr>\n",
       "      <th>142616</th>\n",
       "      <td>R_yURk5fqt6tj7kjL</td>\n",
       "      <td>6</td>\n",
       "      <td>36</td>\n",
       "      <td>0</td>\n",
       "      <td>0</td>\n",
       "      <td>0</td>\n",
       "      <td>0</td>\n",
       "      <td>0</td>\n",
       "      <td>3.0</td>\n",
       "    </tr>\n",
       "    <tr>\n",
       "      <th>142617</th>\n",
       "      <td>R_yURk5fqt6tj7kjL</td>\n",
       "      <td>6</td>\n",
       "      <td>37</td>\n",
       "      <td>4</td>\n",
       "      <td>3</td>\n",
       "      <td>2</td>\n",
       "      <td>2</td>\n",
       "      <td>0</td>\n",
       "      <td>3.0</td>\n",
       "    </tr>\n",
       "    <tr>\n",
       "      <th>142618</th>\n",
       "      <td>R_yURk5fqt6tj7kjL</td>\n",
       "      <td>6</td>\n",
       "      <td>37</td>\n",
       "      <td>0</td>\n",
       "      <td>0</td>\n",
       "      <td>0</td>\n",
       "      <td>0</td>\n",
       "      <td>0</td>\n",
       "      <td>3.0</td>\n",
       "    </tr>\n",
       "    <tr>\n",
       "      <th>142619</th>\n",
       "      <td>R_yURk5fqt6tj7kjL</td>\n",
       "      <td>6</td>\n",
       "      <td>37</td>\n",
       "      <td>0</td>\n",
       "      <td>0</td>\n",
       "      <td>0</td>\n",
       "      <td>0</td>\n",
       "      <td>0</td>\n",
       "      <td>3.0</td>\n",
       "    </tr>\n",
       "  </tbody>\n",
       "</table>\n",
       "<p>142620 rows × 9 columns</p>\n",
       "</div>"
      ],
      "text/plain": [
       "               ResponseId  round  tick  orderId  taskId  taskTicks  workerId  \\\n",
       "0       R_09f8RCjNyCadwPv      1     1        1       1          2         1   \n",
       "1       R_09f8RCjNyCadwPv      1     1        2       1          2         2   \n",
       "2       R_09f8RCjNyCadwPv      1     1        3       1          2         3   \n",
       "3       R_09f8RCjNyCadwPv      1     2        0       0          0         0   \n",
       "4       R_09f8RCjNyCadwPv      1     2        0       0          0         0   \n",
       "...                   ...    ...   ...      ...     ...        ...       ...   \n",
       "142615  R_yURk5fqt6tj7kjL      6    36        0       0          0         0   \n",
       "142616  R_yURk5fqt6tj7kjL      6    36        0       0          0         0   \n",
       "142617  R_yURk5fqt6tj7kjL      6    37        4       3          2         2   \n",
       "142618  R_yURk5fqt6tj7kjL      6    37        0       0          0         0   \n",
       "142619  R_yURk5fqt6tj7kjL      6    37        0       0          0         0   \n",
       "\n",
       "        workerTicks  label  \n",
       "0                 0    3.0  \n",
       "1                 0    3.0  \n",
       "2                 0    3.0  \n",
       "3                 0    3.0  \n",
       "4                 0    3.0  \n",
       "...             ...    ...  \n",
       "142615            0    3.0  \n",
       "142616            0    3.0  \n",
       "142617            0    3.0  \n",
       "142618            0    3.0  \n",
       "142619            0    3.0  \n",
       "\n",
       "[142620 rows x 9 columns]"
      ]
     },
     "execution_count": 45,
     "metadata": {},
     "output_type": "execute_result"
    }
   ],
   "source": [
    "s1 = pd.read_csv(\"../data/Archive/combined_phase2_s1.csv\")\n",
    "s1 = s1.rename(columns={\"best_tip\":\"label\"}).drop(columns = ['label']).merge(main_df, on = 'ResponseId')\n",
    "s1"
   ]
  },
  {
   "cell_type": "code",
   "execution_count": 46,
   "id": "8b173780",
   "metadata": {},
   "outputs": [
    {
     "data": {
      "text/html": [
       "<div>\n",
       "<style scoped>\n",
       "    .dataframe tbody tr th:only-of-type {\n",
       "        vertical-align: middle;\n",
       "    }\n",
       "\n",
       "    .dataframe tbody tr th {\n",
       "        vertical-align: top;\n",
       "    }\n",
       "\n",
       "    .dataframe thead th {\n",
       "        text-align: right;\n",
       "    }\n",
       "</style>\n",
       "<table border=\"1\" class=\"dataframe\">\n",
       "  <thead>\n",
       "    <tr style=\"text-align: right;\">\n",
       "      <th></th>\n",
       "      <th>ResponseId</th>\n",
       "      <th>round</th>\n",
       "      <th>tick</th>\n",
       "      <th>orderId</th>\n",
       "      <th>taskId</th>\n",
       "      <th>taskTicks</th>\n",
       "      <th>workerId</th>\n",
       "      <th>workerTicks</th>\n",
       "      <th>label</th>\n",
       "    </tr>\n",
       "  </thead>\n",
       "  <tbody>\n",
       "    <tr>\n",
       "      <th>0</th>\n",
       "      <td>R_0HBxBV8U696D9QJ</td>\n",
       "      <td>1</td>\n",
       "      <td>1</td>\n",
       "      <td>1</td>\n",
       "      <td>1</td>\n",
       "      <td>2</td>\n",
       "      <td>1</td>\n",
       "      <td>0</td>\n",
       "      <td>3.0</td>\n",
       "    </tr>\n",
       "    <tr>\n",
       "      <th>1</th>\n",
       "      <td>R_0HBxBV8U696D9QJ</td>\n",
       "      <td>1</td>\n",
       "      <td>1</td>\n",
       "      <td>2</td>\n",
       "      <td>1</td>\n",
       "      <td>2</td>\n",
       "      <td>2</td>\n",
       "      <td>0</td>\n",
       "      <td>3.0</td>\n",
       "    </tr>\n",
       "    <tr>\n",
       "      <th>2</th>\n",
       "      <td>R_0HBxBV8U696D9QJ</td>\n",
       "      <td>1</td>\n",
       "      <td>1</td>\n",
       "      <td>3</td>\n",
       "      <td>1</td>\n",
       "      <td>2</td>\n",
       "      <td>3</td>\n",
       "      <td>0</td>\n",
       "      <td>3.0</td>\n",
       "    </tr>\n",
       "    <tr>\n",
       "      <th>3</th>\n",
       "      <td>R_0HBxBV8U696D9QJ</td>\n",
       "      <td>1</td>\n",
       "      <td>2</td>\n",
       "      <td>0</td>\n",
       "      <td>0</td>\n",
       "      <td>0</td>\n",
       "      <td>0</td>\n",
       "      <td>0</td>\n",
       "      <td>3.0</td>\n",
       "    </tr>\n",
       "    <tr>\n",
       "      <th>4</th>\n",
       "      <td>R_0HBxBV8U696D9QJ</td>\n",
       "      <td>1</td>\n",
       "      <td>2</td>\n",
       "      <td>0</td>\n",
       "      <td>0</td>\n",
       "      <td>0</td>\n",
       "      <td>0</td>\n",
       "      <td>0</td>\n",
       "      <td>3.0</td>\n",
       "    </tr>\n",
       "    <tr>\n",
       "      <th>...</th>\n",
       "      <td>...</td>\n",
       "      <td>...</td>\n",
       "      <td>...</td>\n",
       "      <td>...</td>\n",
       "      <td>...</td>\n",
       "      <td>...</td>\n",
       "      <td>...</td>\n",
       "      <td>...</td>\n",
       "      <td>...</td>\n",
       "    </tr>\n",
       "    <tr>\n",
       "      <th>140536</th>\n",
       "      <td>R_zZQIbE0LFD13yRX</td>\n",
       "      <td>6</td>\n",
       "      <td>37</td>\n",
       "      <td>0</td>\n",
       "      <td>0</td>\n",
       "      <td>0</td>\n",
       "      <td>0</td>\n",
       "      <td>0</td>\n",
       "      <td>3.0</td>\n",
       "    </tr>\n",
       "    <tr>\n",
       "      <th>140537</th>\n",
       "      <td>R_zZQIbE0LFD13yRX</td>\n",
       "      <td>6</td>\n",
       "      <td>37</td>\n",
       "      <td>0</td>\n",
       "      <td>0</td>\n",
       "      <td>0</td>\n",
       "      <td>0</td>\n",
       "      <td>0</td>\n",
       "      <td>3.0</td>\n",
       "    </tr>\n",
       "    <tr>\n",
       "      <th>140538</th>\n",
       "      <td>R_zZQIbE0LFD13yRX</td>\n",
       "      <td>6</td>\n",
       "      <td>38</td>\n",
       "      <td>4</td>\n",
       "      <td>3</td>\n",
       "      <td>2</td>\n",
       "      <td>2</td>\n",
       "      <td>0</td>\n",
       "      <td>3.0</td>\n",
       "    </tr>\n",
       "    <tr>\n",
       "      <th>140539</th>\n",
       "      <td>R_zZQIbE0LFD13yRX</td>\n",
       "      <td>6</td>\n",
       "      <td>38</td>\n",
       "      <td>0</td>\n",
       "      <td>0</td>\n",
       "      <td>0</td>\n",
       "      <td>0</td>\n",
       "      <td>0</td>\n",
       "      <td>3.0</td>\n",
       "    </tr>\n",
       "    <tr>\n",
       "      <th>140540</th>\n",
       "      <td>R_zZQIbE0LFD13yRX</td>\n",
       "      <td>6</td>\n",
       "      <td>38</td>\n",
       "      <td>0</td>\n",
       "      <td>0</td>\n",
       "      <td>0</td>\n",
       "      <td>0</td>\n",
       "      <td>0</td>\n",
       "      <td>3.0</td>\n",
       "    </tr>\n",
       "  </tbody>\n",
       "</table>\n",
       "<p>140541 rows × 9 columns</p>\n",
       "</div>"
      ],
      "text/plain": [
       "               ResponseId  round  tick  orderId  taskId  taskTicks  workerId  \\\n",
       "0       R_0HBxBV8U696D9QJ      1     1        1       1          2         1   \n",
       "1       R_0HBxBV8U696D9QJ      1     1        2       1          2         2   \n",
       "2       R_0HBxBV8U696D9QJ      1     1        3       1          2         3   \n",
       "3       R_0HBxBV8U696D9QJ      1     2        0       0          0         0   \n",
       "4       R_0HBxBV8U696D9QJ      1     2        0       0          0         0   \n",
       "...                   ...    ...   ...      ...     ...        ...       ...   \n",
       "140536  R_zZQIbE0LFD13yRX      6    37        0       0          0         0   \n",
       "140537  R_zZQIbE0LFD13yRX      6    37        0       0          0         0   \n",
       "140538  R_zZQIbE0LFD13yRX      6    38        4       3          2         2   \n",
       "140539  R_zZQIbE0LFD13yRX      6    38        0       0          0         0   \n",
       "140540  R_zZQIbE0LFD13yRX      6    38        0       0          0         0   \n",
       "\n",
       "        workerTicks  label  \n",
       "0                 0    3.0  \n",
       "1                 0    3.0  \n",
       "2                 0    3.0  \n",
       "3                 0    3.0  \n",
       "4                 0    3.0  \n",
       "...             ...    ...  \n",
       "140536            0    3.0  \n",
       "140537            0    3.0  \n",
       "140538            0    3.0  \n",
       "140539            0    3.0  \n",
       "140540            0    3.0  \n",
       "\n",
       "[140541 rows x 9 columns]"
      ]
     },
     "execution_count": 46,
     "metadata": {},
     "output_type": "execute_result"
    }
   ],
   "source": [
    "t1 = pd.read_csv(\"../data/Archive/combined_phase2_t1.csv\")\n",
    "t1 = t1.rename(columns={\"best_tip\":\"label\"}).drop(columns = ['label']).merge(main_df, on = 'ResponseId')\n",
    "t1"
   ]
  },
  {
   "cell_type": "code",
   "execution_count": 47,
   "id": "005fe34d",
   "metadata": {},
   "outputs": [],
   "source": [
    "NUM_FEATURE = 10\n",
    "from tqdm import tqdm\n",
    "def get_feature(df):\n",
    "    ids = []\n",
    "    rounds = []\n",
    "    chef_chop = []\n",
    "    chef_cook = []\n",
    "    chef_plate = []\n",
    "    \n",
    "    sou_chop = []\n",
    "    sou_cook = []\n",
    "    sou_plate = []\n",
    "    \n",
    "    server_chop = []\n",
    "    server_cook = []\n",
    "    server_plate = []\n",
    "\n",
    "    idle = []\n",
    "    \n",
    "    label = []\n",
    "    label_2 = []\n",
    "    \n",
    "    for player in tqdm(set(np.array(df[\"ResponseId\"]))):\n",
    "        for i in np.arange(1,7):\n",
    "            tem = df[(df[\"ResponseId\"] == player) & (df[\"round\"] == i)]\n",
    "            if len(tem) != 0: # no response there\n",
    "                ids.append(player)\n",
    "                rounds.append(i)\n",
    "                \n",
    "                label.append( df[(df[\"ResponseId\"] == player)][\"label\"].iloc[0])\n",
    "\n",
    "                chef_chop.append( sum((tem[\"workerId\"] == 1) & (tem[\"taskId\"] == 1)) )\n",
    "                chef_cook.append(sum((tem[\"workerId\"] == 1) & (tem[\"taskId\"] == 2)) )\n",
    "                chef_plate.append( sum((tem[\"workerId\"] == 1) & (tem[\"taskId\"] == 3)) )\n",
    "\n",
    "                sou_chop.append( sum((tem[\"workerId\"] == 2) & (tem[\"taskId\"] == 1)) )\n",
    "                sou_cook.append( sum((tem[\"workerId\"] == 2) & (tem[\"taskId\"] == 2)) )\n",
    "                sou_plate.append( sum((tem[\"workerId\"] == 2) & (tem[\"taskId\"] == 3)) )\n",
    "\n",
    "                server_chop.append( sum((tem[\"workerId\"] == 3) & (tem[\"taskId\"] == 1)) )\n",
    "                server_cook.append( sum((tem[\"workerId\"] == 3) & (tem[\"taskId\"] == 2)) )\n",
    "                server_plate.append( sum((tem[\"workerId\"] == 3) & (tem[\"taskId\"] == 3)) )\n",
    "\n",
    "                idle.append( sum((tem[\"workerId\"] == 0) & (tem[\"taskId\"] == 0)) )\n",
    "            \n",
    "\n",
    "    d = {\n",
    "        \"ResponseId\": ids,\n",
    "        \"round\": rounds,\n",
    "        \"label_1\": label,\n",
    "\n",
    "        \"chef_chop\" : chef_chop,\n",
    "        \"chef_cook\" : chef_cook,\n",
    "        \"chef_plate\" : chef_plate,\n",
    "\n",
    "        \"sou_chop\" : sou_chop,\n",
    "        \"sou_cook\" : sou_cook,\n",
    "        \"sou_plate\" : sou_plate,\n",
    "\n",
    "        \"server_chop\" : server_chop,\n",
    "        \"server_cook\" : server_cook,\n",
    "        \"server_plate\" : server_plate,\n",
    "\n",
    "        'idle' : idle\n",
    "    }\n",
    "    return pd.DataFrame(d)"
   ]
  },
  {
   "cell_type": "code",
   "execution_count": 48,
   "id": "52d43148",
   "metadata": {
    "scrolled": false
   },
   "outputs": [
    {
     "name": "stderr",
     "output_type": "stream",
     "text": [
      "100%|██████████| 241/241 [00:24<00:00,  9.71it/s]\n",
      "100%|██████████| 245/245 [00:25<00:00,  9.63it/s]\n",
      "100%|██████████| 243/243 [00:26<00:00,  9.28it/s]\n"
     ]
    }
   ],
   "source": [
    "X = get_feature(df)\n",
    "X\n",
    "\n",
    "X_s1 = get_feature(s1)\n",
    "X_t1 = get_feature(t1)"
   ]
  },
  {
   "cell_type": "code",
   "execution_count": 50,
   "id": "b60efae6",
   "metadata": {},
   "outputs": [],
   "source": [
    "X1 = X.groupby(\"ResponseId\", as_index=False).agg(lambda x:x.iloc[0])\n",
    "X1\n",
    "\n",
    "X1_s1 = X_s1.groupby(\"ResponseId\", as_index=False).agg(lambda x:x.iloc[0])\n",
    "X1_t1 = X_t1.groupby(\"ResponseId\", as_index=False).agg(lambda x:x.iloc[0])"
   ]
  },
  {
   "cell_type": "code",
   "execution_count": 51,
   "id": "092ea229",
   "metadata": {},
   "outputs": [
    {
     "data": {
      "text/html": [
       "<div>\n",
       "<style scoped>\n",
       "    .dataframe tbody tr th:only-of-type {\n",
       "        vertical-align: middle;\n",
       "    }\n",
       "\n",
       "    .dataframe tbody tr th {\n",
       "        vertical-align: top;\n",
       "    }\n",
       "\n",
       "    .dataframe thead th {\n",
       "        text-align: right;\n",
       "    }\n",
       "</style>\n",
       "<table border=\"1\" class=\"dataframe\">\n",
       "  <thead>\n",
       "    <tr style=\"text-align: right;\">\n",
       "      <th></th>\n",
       "      <th>ResponseId</th>\n",
       "      <th>round</th>\n",
       "      <th>label_1</th>\n",
       "      <th>chef_chop</th>\n",
       "      <th>chef_cook</th>\n",
       "      <th>chef_plate</th>\n",
       "      <th>sou_chop</th>\n",
       "      <th>sou_cook</th>\n",
       "      <th>sou_plate</th>\n",
       "      <th>server_chop</th>\n",
       "      <th>server_cook</th>\n",
       "      <th>server_plate</th>\n",
       "      <th>idle</th>\n",
       "    </tr>\n",
       "  </thead>\n",
       "  <tbody>\n",
       "    <tr>\n",
       "      <th>0</th>\n",
       "      <td>R_09f8RCjNyCadwPv</td>\n",
       "      <td>1</td>\n",
       "      <td>3.0</td>\n",
       "      <td>1</td>\n",
       "      <td>2</td>\n",
       "      <td>1</td>\n",
       "      <td>1</td>\n",
       "      <td>2</td>\n",
       "      <td>1</td>\n",
       "      <td>2</td>\n",
       "      <td>0</td>\n",
       "      <td>2</td>\n",
       "      <td>63</td>\n",
       "    </tr>\n",
       "    <tr>\n",
       "      <th>1</th>\n",
       "      <td>R_0OFNLlTMtF6YuXf</td>\n",
       "      <td>1</td>\n",
       "      <td>2.0</td>\n",
       "      <td>2</td>\n",
       "      <td>2</td>\n",
       "      <td>1</td>\n",
       "      <td>1</td>\n",
       "      <td>2</td>\n",
       "      <td>0</td>\n",
       "      <td>1</td>\n",
       "      <td>0</td>\n",
       "      <td>3</td>\n",
       "      <td>60</td>\n",
       "    </tr>\n",
       "    <tr>\n",
       "      <th>2</th>\n",
       "      <td>R_0SrUdDhR075sWyZ</td>\n",
       "      <td>1</td>\n",
       "      <td>2.0</td>\n",
       "      <td>2</td>\n",
       "      <td>3</td>\n",
       "      <td>0</td>\n",
       "      <td>1</td>\n",
       "      <td>1</td>\n",
       "      <td>0</td>\n",
       "      <td>1</td>\n",
       "      <td>0</td>\n",
       "      <td>4</td>\n",
       "      <td>48</td>\n",
       "    </tr>\n",
       "    <tr>\n",
       "      <th>3</th>\n",
       "      <td>R_0dkmFxzVGbM4H17</td>\n",
       "      <td>1</td>\n",
       "      <td>3.0</td>\n",
       "      <td>1</td>\n",
       "      <td>5</td>\n",
       "      <td>0</td>\n",
       "      <td>5</td>\n",
       "      <td>1</td>\n",
       "      <td>2</td>\n",
       "      <td>1</td>\n",
       "      <td>0</td>\n",
       "      <td>2</td>\n",
       "      <td>64</td>\n",
       "    </tr>\n",
       "    <tr>\n",
       "      <th>4</th>\n",
       "      <td>R_0kTTXuzLnqZsQzT</td>\n",
       "      <td>1</td>\n",
       "      <td>3.0</td>\n",
       "      <td>2</td>\n",
       "      <td>7</td>\n",
       "      <td>0</td>\n",
       "      <td>4</td>\n",
       "      <td>1</td>\n",
       "      <td>0</td>\n",
       "      <td>1</td>\n",
       "      <td>0</td>\n",
       "      <td>5</td>\n",
       "      <td>40</td>\n",
       "    </tr>\n",
       "    <tr>\n",
       "      <th>...</th>\n",
       "      <td>...</td>\n",
       "      <td>...</td>\n",
       "      <td>...</td>\n",
       "      <td>...</td>\n",
       "      <td>...</td>\n",
       "      <td>...</td>\n",
       "      <td>...</td>\n",
       "      <td>...</td>\n",
       "      <td>...</td>\n",
       "      <td>...</td>\n",
       "      <td>...</td>\n",
       "      <td>...</td>\n",
       "      <td>...</td>\n",
       "    </tr>\n",
       "    <tr>\n",
       "      <th>240</th>\n",
       "      <td>R_wZQyUQosD7jAiC5</td>\n",
       "      <td>1</td>\n",
       "      <td>3.0</td>\n",
       "      <td>2</td>\n",
       "      <td>2</td>\n",
       "      <td>1</td>\n",
       "      <td>1</td>\n",
       "      <td>2</td>\n",
       "      <td>2</td>\n",
       "      <td>1</td>\n",
       "      <td>0</td>\n",
       "      <td>1</td>\n",
       "      <td>66</td>\n",
       "    </tr>\n",
       "    <tr>\n",
       "      <th>241</th>\n",
       "      <td>R_x3LIwiuSIOWPNN7</td>\n",
       "      <td>1</td>\n",
       "      <td>3.0</td>\n",
       "      <td>2</td>\n",
       "      <td>2</td>\n",
       "      <td>1</td>\n",
       "      <td>1</td>\n",
       "      <td>1</td>\n",
       "      <td>1</td>\n",
       "      <td>1</td>\n",
       "      <td>1</td>\n",
       "      <td>2</td>\n",
       "      <td>54</td>\n",
       "    </tr>\n",
       "    <tr>\n",
       "      <th>242</th>\n",
       "      <td>R_yBZYkqf9LaJZxFn</td>\n",
       "      <td>1</td>\n",
       "      <td>3.0</td>\n",
       "      <td>2</td>\n",
       "      <td>5</td>\n",
       "      <td>0</td>\n",
       "      <td>5</td>\n",
       "      <td>2</td>\n",
       "      <td>2</td>\n",
       "      <td>1</td>\n",
       "      <td>0</td>\n",
       "      <td>3</td>\n",
       "      <td>43</td>\n",
       "    </tr>\n",
       "    <tr>\n",
       "      <th>243</th>\n",
       "      <td>R_yK1zeitEqOJSgEx</td>\n",
       "      <td>1</td>\n",
       "      <td>3.0</td>\n",
       "      <td>2</td>\n",
       "      <td>2</td>\n",
       "      <td>0</td>\n",
       "      <td>1</td>\n",
       "      <td>1</td>\n",
       "      <td>2</td>\n",
       "      <td>1</td>\n",
       "      <td>1</td>\n",
       "      <td>2</td>\n",
       "      <td>57</td>\n",
       "    </tr>\n",
       "    <tr>\n",
       "      <th>244</th>\n",
       "      <td>R_yURk5fqt6tj7kjL</td>\n",
       "      <td>1</td>\n",
       "      <td>3.0</td>\n",
       "      <td>2</td>\n",
       "      <td>2</td>\n",
       "      <td>2</td>\n",
       "      <td>1</td>\n",
       "      <td>1</td>\n",
       "      <td>2</td>\n",
       "      <td>1</td>\n",
       "      <td>1</td>\n",
       "      <td>0</td>\n",
       "      <td>69</td>\n",
       "    </tr>\n",
       "  </tbody>\n",
       "</table>\n",
       "<p>245 rows × 13 columns</p>\n",
       "</div>"
      ],
      "text/plain": [
       "            ResponseId  round  label_1  chef_chop  chef_cook  chef_plate  \\\n",
       "0    R_09f8RCjNyCadwPv      1      3.0          1          2           1   \n",
       "1    R_0OFNLlTMtF6YuXf      1      2.0          2          2           1   \n",
       "2    R_0SrUdDhR075sWyZ      1      2.0          2          3           0   \n",
       "3    R_0dkmFxzVGbM4H17      1      3.0          1          5           0   \n",
       "4    R_0kTTXuzLnqZsQzT      1      3.0          2          7           0   \n",
       "..                 ...    ...      ...        ...        ...         ...   \n",
       "240  R_wZQyUQosD7jAiC5      1      3.0          2          2           1   \n",
       "241  R_x3LIwiuSIOWPNN7      1      3.0          2          2           1   \n",
       "242  R_yBZYkqf9LaJZxFn      1      3.0          2          5           0   \n",
       "243  R_yK1zeitEqOJSgEx      1      3.0          2          2           0   \n",
       "244  R_yURk5fqt6tj7kjL      1      3.0          2          2           2   \n",
       "\n",
       "     sou_chop  sou_cook  sou_plate  server_chop  server_cook  server_plate  \\\n",
       "0           1         2          1            2            0             2   \n",
       "1           1         2          0            1            0             3   \n",
       "2           1         1          0            1            0             4   \n",
       "3           5         1          2            1            0             2   \n",
       "4           4         1          0            1            0             5   \n",
       "..        ...       ...        ...          ...          ...           ...   \n",
       "240         1         2          2            1            0             1   \n",
       "241         1         1          1            1            1             2   \n",
       "242         5         2          2            1            0             3   \n",
       "243         1         1          2            1            1             2   \n",
       "244         1         1          2            1            1             0   \n",
       "\n",
       "     idle  \n",
       "0      63  \n",
       "1      60  \n",
       "2      48  \n",
       "3      64  \n",
       "4      40  \n",
       "..    ...  \n",
       "240    66  \n",
       "241    54  \n",
       "242    43  \n",
       "243    57  \n",
       "244    69  \n",
       "\n",
       "[245 rows x 13 columns]"
      ]
     },
     "execution_count": 51,
     "metadata": {},
     "output_type": "execute_result"
    }
   ],
   "source": [
    "X1_s1"
   ]
  },
  {
   "cell_type": "code",
   "execution_count": 52,
   "id": "921370be",
   "metadata": {
    "scrolled": false
   },
   "outputs": [
    {
     "data": {
      "text/html": [
       "<div>\n",
       "<style scoped>\n",
       "    .dataframe tbody tr th:only-of-type {\n",
       "        vertical-align: middle;\n",
       "    }\n",
       "\n",
       "    .dataframe tbody tr th {\n",
       "        vertical-align: top;\n",
       "    }\n",
       "\n",
       "    .dataframe thead th {\n",
       "        text-align: right;\n",
       "    }\n",
       "</style>\n",
       "<table border=\"1\" class=\"dataframe\">\n",
       "  <thead>\n",
       "    <tr style=\"text-align: right;\">\n",
       "      <th></th>\n",
       "      <th>ResponseId</th>\n",
       "      <th>label_1_x</th>\n",
       "      <th>chef_chop_x</th>\n",
       "      <th>chef_cook_x</th>\n",
       "      <th>chef_plate_x</th>\n",
       "      <th>sou_chop_x</th>\n",
       "      <th>sou_cook_x</th>\n",
       "      <th>sou_plate_x</th>\n",
       "      <th>server_chop_x</th>\n",
       "      <th>server_cook_x</th>\n",
       "      <th>...</th>\n",
       "      <th>0</th>\n",
       "      <th>1</th>\n",
       "      <th>2</th>\n",
       "      <th>3</th>\n",
       "      <th>4</th>\n",
       "      <th>5</th>\n",
       "      <th>6</th>\n",
       "      <th>7</th>\n",
       "      <th>8</th>\n",
       "      <th>9</th>\n",
       "    </tr>\n",
       "  </thead>\n",
       "  <tbody>\n",
       "    <tr>\n",
       "      <th>0</th>\n",
       "      <td>R_0HBxBV8U696D9QJ</td>\n",
       "      <td>3.0</td>\n",
       "      <td>1</td>\n",
       "      <td>3</td>\n",
       "      <td>0</td>\n",
       "      <td>1</td>\n",
       "      <td>1</td>\n",
       "      <td>1</td>\n",
       "      <td>2</td>\n",
       "      <td>0</td>\n",
       "      <td>...</td>\n",
       "      <td>0</td>\n",
       "      <td>4</td>\n",
       "      <td>0</td>\n",
       "      <td>0</td>\n",
       "      <td>0</td>\n",
       "      <td>1</td>\n",
       "      <td>0</td>\n",
       "      <td>0</td>\n",
       "      <td>-1</td>\n",
       "      <td>-1</td>\n",
       "    </tr>\n",
       "    <tr>\n",
       "      <th>1</th>\n",
       "      <td>R_0SZ9OfuWvmqeMqR</td>\n",
       "      <td>3.0</td>\n",
       "      <td>4</td>\n",
       "      <td>3</td>\n",
       "      <td>0</td>\n",
       "      <td>0</td>\n",
       "      <td>1</td>\n",
       "      <td>4</td>\n",
       "      <td>0</td>\n",
       "      <td>0</td>\n",
       "      <td>...</td>\n",
       "      <td>-2</td>\n",
       "      <td>-1</td>\n",
       "      <td>2</td>\n",
       "      <td>1</td>\n",
       "      <td>0</td>\n",
       "      <td>-2</td>\n",
       "      <td>1</td>\n",
       "      <td>1</td>\n",
       "      <td>0</td>\n",
       "      <td>6</td>\n",
       "    </tr>\n",
       "    <tr>\n",
       "      <th>2</th>\n",
       "      <td>R_10DdLv5uPLAfpAR</td>\n",
       "      <td>3.0</td>\n",
       "      <td>1</td>\n",
       "      <td>4</td>\n",
       "      <td>0</td>\n",
       "      <td>1</td>\n",
       "      <td>1</td>\n",
       "      <td>1</td>\n",
       "      <td>2</td>\n",
       "      <td>0</td>\n",
       "      <td>...</td>\n",
       "      <td>0</td>\n",
       "      <td>-1</td>\n",
       "      <td>0</td>\n",
       "      <td>0</td>\n",
       "      <td>0</td>\n",
       "      <td>-1</td>\n",
       "      <td>0</td>\n",
       "      <td>0</td>\n",
       "      <td>2</td>\n",
       "      <td>0</td>\n",
       "    </tr>\n",
       "    <tr>\n",
       "      <th>3</th>\n",
       "      <td>R_10Ggl6dEPfo9ipw</td>\n",
       "      <td>3.0</td>\n",
       "      <td>1</td>\n",
       "      <td>3</td>\n",
       "      <td>0</td>\n",
       "      <td>1</td>\n",
       "      <td>1</td>\n",
       "      <td>1</td>\n",
       "      <td>2</td>\n",
       "      <td>0</td>\n",
       "      <td>...</td>\n",
       "      <td>1</td>\n",
       "      <td>-1</td>\n",
       "      <td>1</td>\n",
       "      <td>0</td>\n",
       "      <td>0</td>\n",
       "      <td>2</td>\n",
       "      <td>-1</td>\n",
       "      <td>1</td>\n",
       "      <td>-3</td>\n",
       "      <td>15</td>\n",
       "    </tr>\n",
       "    <tr>\n",
       "      <th>4</th>\n",
       "      <td>R_10HkPUkR6o0qDFT</td>\n",
       "      <td>3.0</td>\n",
       "      <td>1</td>\n",
       "      <td>3</td>\n",
       "      <td>0</td>\n",
       "      <td>1</td>\n",
       "      <td>1</td>\n",
       "      <td>1</td>\n",
       "      <td>2</td>\n",
       "      <td>0</td>\n",
       "      <td>...</td>\n",
       "      <td>0</td>\n",
       "      <td>-1</td>\n",
       "      <td>1</td>\n",
       "      <td>0</td>\n",
       "      <td>1</td>\n",
       "      <td>0</td>\n",
       "      <td>0</td>\n",
       "      <td>0</td>\n",
       "      <td>-1</td>\n",
       "      <td>18</td>\n",
       "    </tr>\n",
       "    <tr>\n",
       "      <th>...</th>\n",
       "      <td>...</td>\n",
       "      <td>...</td>\n",
       "      <td>...</td>\n",
       "      <td>...</td>\n",
       "      <td>...</td>\n",
       "      <td>...</td>\n",
       "      <td>...</td>\n",
       "      <td>...</td>\n",
       "      <td>...</td>\n",
       "      <td>...</td>\n",
       "      <td>...</td>\n",
       "      <td>...</td>\n",
       "      <td>...</td>\n",
       "      <td>...</td>\n",
       "      <td>...</td>\n",
       "      <td>...</td>\n",
       "      <td>...</td>\n",
       "      <td>...</td>\n",
       "      <td>...</td>\n",
       "      <td>...</td>\n",
       "      <td>...</td>\n",
       "    </tr>\n",
       "    <tr>\n",
       "      <th>238</th>\n",
       "      <td>R_wZ8QFIOF6tAu7aV</td>\n",
       "      <td>3.0</td>\n",
       "      <td>2</td>\n",
       "      <td>3</td>\n",
       "      <td>0</td>\n",
       "      <td>1</td>\n",
       "      <td>1</td>\n",
       "      <td>2</td>\n",
       "      <td>1</td>\n",
       "      <td>0</td>\n",
       "      <td>...</td>\n",
       "      <td>0</td>\n",
       "      <td>-1</td>\n",
       "      <td>1</td>\n",
       "      <td>0</td>\n",
       "      <td>0</td>\n",
       "      <td>1</td>\n",
       "      <td>0</td>\n",
       "      <td>1</td>\n",
       "      <td>-2</td>\n",
       "      <td>-12</td>\n",
       "    </tr>\n",
       "    <tr>\n",
       "      <th>239</th>\n",
       "      <td>R_yZJ03FFfe8jfazn</td>\n",
       "      <td>3.0</td>\n",
       "      <td>1</td>\n",
       "      <td>3</td>\n",
       "      <td>0</td>\n",
       "      <td>1</td>\n",
       "      <td>1</td>\n",
       "      <td>1</td>\n",
       "      <td>2</td>\n",
       "      <td>0</td>\n",
       "      <td>...</td>\n",
       "      <td>1</td>\n",
       "      <td>0</td>\n",
       "      <td>0</td>\n",
       "      <td>0</td>\n",
       "      <td>0</td>\n",
       "      <td>-1</td>\n",
       "      <td>-1</td>\n",
       "      <td>0</td>\n",
       "      <td>1</td>\n",
       "      <td>6</td>\n",
       "    </tr>\n",
       "    <tr>\n",
       "      <th>240</th>\n",
       "      <td>R_ykkhkGYu1KpIM8h</td>\n",
       "      <td>2.0</td>\n",
       "      <td>2</td>\n",
       "      <td>2</td>\n",
       "      <td>0</td>\n",
       "      <td>1</td>\n",
       "      <td>1</td>\n",
       "      <td>8</td>\n",
       "      <td>1</td>\n",
       "      <td>1</td>\n",
       "      <td>...</td>\n",
       "      <td>0</td>\n",
       "      <td>0</td>\n",
       "      <td>0</td>\n",
       "      <td>0</td>\n",
       "      <td>0</td>\n",
       "      <td>-5</td>\n",
       "      <td>0</td>\n",
       "      <td>0</td>\n",
       "      <td>0</td>\n",
       "      <td>2</td>\n",
       "    </tr>\n",
       "    <tr>\n",
       "      <th>241</th>\n",
       "      <td>R_ym9gyf6T2XORxAt</td>\n",
       "      <td>3.0</td>\n",
       "      <td>2</td>\n",
       "      <td>2</td>\n",
       "      <td>0</td>\n",
       "      <td>1</td>\n",
       "      <td>1</td>\n",
       "      <td>0</td>\n",
       "      <td>1</td>\n",
       "      <td>1</td>\n",
       "      <td>...</td>\n",
       "      <td>0</td>\n",
       "      <td>-1</td>\n",
       "      <td>2</td>\n",
       "      <td>0</td>\n",
       "      <td>1</td>\n",
       "      <td>1</td>\n",
       "      <td>0</td>\n",
       "      <td>0</td>\n",
       "      <td>-3</td>\n",
       "      <td>-3</td>\n",
       "    </tr>\n",
       "    <tr>\n",
       "      <th>242</th>\n",
       "      <td>R_zZQIbE0LFD13yRX</td>\n",
       "      <td>3.0</td>\n",
       "      <td>1</td>\n",
       "      <td>4</td>\n",
       "      <td>1</td>\n",
       "      <td>1</td>\n",
       "      <td>0</td>\n",
       "      <td>3</td>\n",
       "      <td>2</td>\n",
       "      <td>0</td>\n",
       "      <td>...</td>\n",
       "      <td>1</td>\n",
       "      <td>-2</td>\n",
       "      <td>1</td>\n",
       "      <td>0</td>\n",
       "      <td>1</td>\n",
       "      <td>-1</td>\n",
       "      <td>-1</td>\n",
       "      <td>1</td>\n",
       "      <td>0</td>\n",
       "      <td>-9</td>\n",
       "    </tr>\n",
       "  </tbody>\n",
       "</table>\n",
       "<p>243 rows × 32 columns</p>\n",
       "</div>"
      ],
      "text/plain": [
       "            ResponseId  label_1_x  chef_chop_x  chef_cook_x  chef_plate_x  \\\n",
       "0    R_0HBxBV8U696D9QJ        3.0            1            3             0   \n",
       "1    R_0SZ9OfuWvmqeMqR        3.0            4            3             0   \n",
       "2    R_10DdLv5uPLAfpAR        3.0            1            4             0   \n",
       "3    R_10Ggl6dEPfo9ipw        3.0            1            3             0   \n",
       "4    R_10HkPUkR6o0qDFT        3.0            1            3             0   \n",
       "..                 ...        ...          ...          ...           ...   \n",
       "238  R_wZ8QFIOF6tAu7aV        3.0            2            3             0   \n",
       "239  R_yZJ03FFfe8jfazn        3.0            1            3             0   \n",
       "240  R_ykkhkGYu1KpIM8h        2.0            2            2             0   \n",
       "241  R_ym9gyf6T2XORxAt        3.0            2            2             0   \n",
       "242  R_zZQIbE0LFD13yRX        3.0            1            4             1   \n",
       "\n",
       "     sou_chop_x  sou_cook_x  sou_plate_x  server_chop_x  server_cook_x  ...  \\\n",
       "0             1           1            1              2              0  ...   \n",
       "1             0           1            4              0              0  ...   \n",
       "2             1           1            1              2              0  ...   \n",
       "3             1           1            1              2              0  ...   \n",
       "4             1           1            1              2              0  ...   \n",
       "..          ...         ...          ...            ...            ...  ...   \n",
       "238           1           1            2              1              0  ...   \n",
       "239           1           1            1              2              0  ...   \n",
       "240           1           1            8              1              1  ...   \n",
       "241           1           1            0              1              1  ...   \n",
       "242           1           0            3              2              0  ...   \n",
       "\n",
       "     0  1  2  3  4  5  6  7  8   9  \n",
       "0    0  4  0  0  0  1  0  0 -1  -1  \n",
       "1   -2 -1  2  1  0 -2  1  1  0   6  \n",
       "2    0 -1  0  0  0 -1  0  0  2   0  \n",
       "3    1 -1  1  0  0  2 -1  1 -3  15  \n",
       "4    0 -1  1  0  1  0  0  0 -1  18  \n",
       "..  .. .. .. .. .. .. .. .. ..  ..  \n",
       "238  0 -1  1  0  0  1  0  1 -2 -12  \n",
       "239  1  0  0  0  0 -1 -1  0  1   6  \n",
       "240  0  0  0  0  0 -5  0  0  0   2  \n",
       "241  0 -1  2  0  1  1  0  0 -3  -3  \n",
       "242  1 -2  1  0  1 -1 -1  1  0  -9  \n",
       "\n",
       "[243 rows x 32 columns]"
      ]
     },
     "execution_count": 52,
     "metadata": {},
     "output_type": "execute_result"
    }
   ],
   "source": [
    "X2 = X.groupby(\"ResponseId\", as_index=False).agg(lambda x:x.iloc[1])\n",
    "dat = X2.merge(X1, left_on=\"ResponseId\", right_on=\"ResponseId\")\n",
    "dat.pop(\"round_x\")\n",
    "dat.pop(\"round_y\")\n",
    "dat.pop(\"label_1_y\")\n",
    "# dat.pop(\"label_2_y\")\n",
    "num_feature = NUM_FEATURE\n",
    "bef = dat.iloc[:,np.arange(2, 2 + num_feature)]\n",
    "aft = dat.iloc[:,np.arange(2 + num_feature, dat.shape[1])]\n",
    "\n",
    "for i in np.arange(num_feature):\n",
    "    dat[i] = aft.iloc[:,i] - bef.iloc[:,i]\n",
    "dat.columns\n",
    "dat\n",
    "\n",
    "X2_s1 = X_s1.groupby(\"ResponseId\", as_index=False).agg(lambda x:x.iloc[1])\n",
    "dat_s1 = X2_s1.merge(X1_s1, left_on=\"ResponseId\", right_on=\"ResponseId\")\n",
    "dat_s1.pop(\"round_x\")\n",
    "dat_s1.pop(\"round_y\")\n",
    "dat_s1.pop(\"label_1_y\")\n",
    "# dat.pop(\"label_2_y\")\n",
    "num_feature = NUM_FEATURE\n",
    "bef = dat_s1.iloc[:,np.arange(2, 2 + num_feature)]\n",
    "aft = dat_s1.iloc[:,np.arange(2 + num_feature, dat_s1.shape[1])]\n",
    "\n",
    "for i in np.arange(num_feature):\n",
    "    dat_s1[i] = aft.iloc[:,i] - bef.iloc[:,i]\n",
    "dat_s1.columns\n",
    "dat_s1\n",
    "\n",
    "X2_t1 = X_t1.groupby(\"ResponseId\", as_index=False).agg(lambda x:x.iloc[1])\n",
    "dat_t1 = X2_t1.merge(X1_t1, left_on=\"ResponseId\", right_on=\"ResponseId\")\n",
    "dat_t1.pop(\"round_x\")\n",
    "dat_t1.pop(\"round_y\")\n",
    "dat_t1.pop(\"label_1_y\")\n",
    "# dat.pop(\"label_2_y\")\n",
    "num_feature = NUM_FEATURE\n",
    "bef = dat_t1.iloc[:,np.arange(2, 2 + num_feature)]\n",
    "aft = dat_t1.iloc[:,np.arange(2 + num_feature, dat_t1.shape[1])]\n",
    "\n",
    "for i in np.arange(num_feature):\n",
    "    dat_t1[i] = aft.iloc[:,i] - bef.iloc[:,i]\n",
    "dat_t1.columns\n",
    "dat_t1"
   ]
  },
  {
   "cell_type": "code",
   "execution_count": 53,
   "id": "cc760f12",
   "metadata": {},
   "outputs": [
    {
     "data": {
      "text/html": [
       "<div>\n",
       "<style scoped>\n",
       "    .dataframe tbody tr th:only-of-type {\n",
       "        vertical-align: middle;\n",
       "    }\n",
       "\n",
       "    .dataframe tbody tr th {\n",
       "        vertical-align: top;\n",
       "    }\n",
       "\n",
       "    .dataframe thead th {\n",
       "        text-align: right;\n",
       "    }\n",
       "</style>\n",
       "<table border=\"1\" class=\"dataframe\">\n",
       "  <thead>\n",
       "    <tr style=\"text-align: right;\">\n",
       "      <th></th>\n",
       "      <th>ResponseId</th>\n",
       "      <th>label_1_x</th>\n",
       "      <th>chef_chop_x</th>\n",
       "      <th>chef_cook_x</th>\n",
       "      <th>chef_plate_x</th>\n",
       "      <th>sou_chop_x</th>\n",
       "      <th>sou_cook_x</th>\n",
       "      <th>sou_plate_x</th>\n",
       "      <th>server_chop_x</th>\n",
       "      <th>server_cook_x</th>\n",
       "      <th>...</th>\n",
       "      <th>0</th>\n",
       "      <th>1</th>\n",
       "      <th>2</th>\n",
       "      <th>3</th>\n",
       "      <th>4</th>\n",
       "      <th>5</th>\n",
       "      <th>6</th>\n",
       "      <th>7</th>\n",
       "      <th>8</th>\n",
       "      <th>9</th>\n",
       "    </tr>\n",
       "  </thead>\n",
       "  <tbody>\n",
       "    <tr>\n",
       "      <th>0</th>\n",
       "      <td>R_0DNcJqALC3UG9Db</td>\n",
       "      <td>2.0</td>\n",
       "      <td>2</td>\n",
       "      <td>3</td>\n",
       "      <td>0</td>\n",
       "      <td>2</td>\n",
       "      <td>1</td>\n",
       "      <td>1</td>\n",
       "      <td>0</td>\n",
       "      <td>0</td>\n",
       "      <td>...</td>\n",
       "      <td>0</td>\n",
       "      <td>-1</td>\n",
       "      <td>0</td>\n",
       "      <td>-1</td>\n",
       "      <td>0</td>\n",
       "      <td>1</td>\n",
       "      <td>1</td>\n",
       "      <td>1</td>\n",
       "      <td>-1</td>\n",
       "      <td>0</td>\n",
       "    </tr>\n",
       "    <tr>\n",
       "      <th>1</th>\n",
       "      <td>R_0HbfbDtnkUIRbvH</td>\n",
       "      <td>3.0</td>\n",
       "      <td>1</td>\n",
       "      <td>4</td>\n",
       "      <td>0</td>\n",
       "      <td>2</td>\n",
       "      <td>0</td>\n",
       "      <td>0</td>\n",
       "      <td>1</td>\n",
       "      <td>0</td>\n",
       "      <td>...</td>\n",
       "      <td>1</td>\n",
       "      <td>-1</td>\n",
       "      <td>0</td>\n",
       "      <td>0</td>\n",
       "      <td>1</td>\n",
       "      <td>0</td>\n",
       "      <td>-1</td>\n",
       "      <td>0</td>\n",
       "      <td>0</td>\n",
       "      <td>-6</td>\n",
       "    </tr>\n",
       "    <tr>\n",
       "      <th>2</th>\n",
       "      <td>R_0cVkkjfJMy8V6P7</td>\n",
       "      <td>3.0</td>\n",
       "      <td>1</td>\n",
       "      <td>3</td>\n",
       "      <td>0</td>\n",
       "      <td>3</td>\n",
       "      <td>3</td>\n",
       "      <td>0</td>\n",
       "      <td>1</td>\n",
       "      <td>0</td>\n",
       "      <td>...</td>\n",
       "      <td>1</td>\n",
       "      <td>-1</td>\n",
       "      <td>2</td>\n",
       "      <td>-2</td>\n",
       "      <td>-2</td>\n",
       "      <td>2</td>\n",
       "      <td>0</td>\n",
       "      <td>1</td>\n",
       "      <td>-4</td>\n",
       "      <td>15</td>\n",
       "    </tr>\n",
       "    <tr>\n",
       "      <th>3</th>\n",
       "      <td>R_10OZ3Fgz4TJo8Vx</td>\n",
       "      <td>2.0</td>\n",
       "      <td>2</td>\n",
       "      <td>2</td>\n",
       "      <td>1</td>\n",
       "      <td>1</td>\n",
       "      <td>1</td>\n",
       "      <td>1</td>\n",
       "      <td>1</td>\n",
       "      <td>1</td>\n",
       "      <td>...</td>\n",
       "      <td>0</td>\n",
       "      <td>0</td>\n",
       "      <td>0</td>\n",
       "      <td>0</td>\n",
       "      <td>0</td>\n",
       "      <td>1</td>\n",
       "      <td>0</td>\n",
       "      <td>0</td>\n",
       "      <td>-1</td>\n",
       "      <td>0</td>\n",
       "    </tr>\n",
       "    <tr>\n",
       "      <th>4</th>\n",
       "      <td>R_11WSDnMOeKXakQH</td>\n",
       "      <td>2.0</td>\n",
       "      <td>3</td>\n",
       "      <td>2</td>\n",
       "      <td>0</td>\n",
       "      <td>3</td>\n",
       "      <td>2</td>\n",
       "      <td>1</td>\n",
       "      <td>1</td>\n",
       "      <td>0</td>\n",
       "      <td>...</td>\n",
       "      <td>-2</td>\n",
       "      <td>0</td>\n",
       "      <td>0</td>\n",
       "      <td>-1</td>\n",
       "      <td>-1</td>\n",
       "      <td>1</td>\n",
       "      <td>0</td>\n",
       "      <td>1</td>\n",
       "      <td>3</td>\n",
       "      <td>2</td>\n",
       "    </tr>\n",
       "    <tr>\n",
       "      <th>...</th>\n",
       "      <td>...</td>\n",
       "      <td>...</td>\n",
       "      <td>...</td>\n",
       "      <td>...</td>\n",
       "      <td>...</td>\n",
       "      <td>...</td>\n",
       "      <td>...</td>\n",
       "      <td>...</td>\n",
       "      <td>...</td>\n",
       "      <td>...</td>\n",
       "      <td>...</td>\n",
       "      <td>...</td>\n",
       "      <td>...</td>\n",
       "      <td>...</td>\n",
       "      <td>...</td>\n",
       "      <td>...</td>\n",
       "      <td>...</td>\n",
       "      <td>...</td>\n",
       "      <td>...</td>\n",
       "      <td>...</td>\n",
       "      <td>...</td>\n",
       "    </tr>\n",
       "    <tr>\n",
       "      <th>236</th>\n",
       "      <td>R_xlnJEPOkxxHspJT</td>\n",
       "      <td>2.0</td>\n",
       "      <td>1</td>\n",
       "      <td>3</td>\n",
       "      <td>0</td>\n",
       "      <td>1</td>\n",
       "      <td>1</td>\n",
       "      <td>1</td>\n",
       "      <td>2</td>\n",
       "      <td>0</td>\n",
       "      <td>...</td>\n",
       "      <td>0</td>\n",
       "      <td>0</td>\n",
       "      <td>0</td>\n",
       "      <td>0</td>\n",
       "      <td>0</td>\n",
       "      <td>0</td>\n",
       "      <td>0</td>\n",
       "      <td>0</td>\n",
       "      <td>0</td>\n",
       "      <td>3</td>\n",
       "    </tr>\n",
       "    <tr>\n",
       "      <th>237</th>\n",
       "      <td>R_yNJaIImQ7EY3J5v</td>\n",
       "      <td>2.0</td>\n",
       "      <td>1</td>\n",
       "      <td>3</td>\n",
       "      <td>0</td>\n",
       "      <td>1</td>\n",
       "      <td>1</td>\n",
       "      <td>1</td>\n",
       "      <td>2</td>\n",
       "      <td>0</td>\n",
       "      <td>...</td>\n",
       "      <td>0</td>\n",
       "      <td>0</td>\n",
       "      <td>0</td>\n",
       "      <td>0</td>\n",
       "      <td>0</td>\n",
       "      <td>0</td>\n",
       "      <td>0</td>\n",
       "      <td>0</td>\n",
       "      <td>0</td>\n",
       "      <td>0</td>\n",
       "    </tr>\n",
       "    <tr>\n",
       "      <th>238</th>\n",
       "      <td>R_yqY6xKo4dUHco6d</td>\n",
       "      <td>3.0</td>\n",
       "      <td>1</td>\n",
       "      <td>3</td>\n",
       "      <td>0</td>\n",
       "      <td>1</td>\n",
       "      <td>1</td>\n",
       "      <td>1</td>\n",
       "      <td>2</td>\n",
       "      <td>0</td>\n",
       "      <td>...</td>\n",
       "      <td>0</td>\n",
       "      <td>0</td>\n",
       "      <td>0</td>\n",
       "      <td>0</td>\n",
       "      <td>0</td>\n",
       "      <td>1</td>\n",
       "      <td>0</td>\n",
       "      <td>0</td>\n",
       "      <td>-1</td>\n",
       "      <td>3</td>\n",
       "    </tr>\n",
       "    <tr>\n",
       "      <th>239</th>\n",
       "      <td>R_yrKr3inrXDL5Lvb</td>\n",
       "      <td>3.0</td>\n",
       "      <td>1</td>\n",
       "      <td>7</td>\n",
       "      <td>0</td>\n",
       "      <td>1</td>\n",
       "      <td>1</td>\n",
       "      <td>1</td>\n",
       "      <td>2</td>\n",
       "      <td>0</td>\n",
       "      <td>...</td>\n",
       "      <td>1</td>\n",
       "      <td>-3</td>\n",
       "      <td>1</td>\n",
       "      <td>0</td>\n",
       "      <td>0</td>\n",
       "      <td>0</td>\n",
       "      <td>-1</td>\n",
       "      <td>1</td>\n",
       "      <td>-2</td>\n",
       "      <td>12</td>\n",
       "    </tr>\n",
       "    <tr>\n",
       "      <th>240</th>\n",
       "      <td>R_z6DSJfELElPHABP</td>\n",
       "      <td>3.0</td>\n",
       "      <td>2</td>\n",
       "      <td>3</td>\n",
       "      <td>0</td>\n",
       "      <td>1</td>\n",
       "      <td>1</td>\n",
       "      <td>0</td>\n",
       "      <td>1</td>\n",
       "      <td>0</td>\n",
       "      <td>...</td>\n",
       "      <td>0</td>\n",
       "      <td>-1</td>\n",
       "      <td>1</td>\n",
       "      <td>0</td>\n",
       "      <td>0</td>\n",
       "      <td>0</td>\n",
       "      <td>0</td>\n",
       "      <td>1</td>\n",
       "      <td>-1</td>\n",
       "      <td>15</td>\n",
       "    </tr>\n",
       "  </tbody>\n",
       "</table>\n",
       "<p>241 rows × 32 columns</p>\n",
       "</div>"
      ],
      "text/plain": [
       "            ResponseId  label_1_x  chef_chop_x  chef_cook_x  chef_plate_x  \\\n",
       "0    R_0DNcJqALC3UG9Db        2.0            2            3             0   \n",
       "1    R_0HbfbDtnkUIRbvH        3.0            1            4             0   \n",
       "2    R_0cVkkjfJMy8V6P7        3.0            1            3             0   \n",
       "3    R_10OZ3Fgz4TJo8Vx        2.0            2            2             1   \n",
       "4    R_11WSDnMOeKXakQH        2.0            3            2             0   \n",
       "..                 ...        ...          ...          ...           ...   \n",
       "236  R_xlnJEPOkxxHspJT        2.0            1            3             0   \n",
       "237  R_yNJaIImQ7EY3J5v        2.0            1            3             0   \n",
       "238  R_yqY6xKo4dUHco6d        3.0            1            3             0   \n",
       "239  R_yrKr3inrXDL5Lvb        3.0            1            7             0   \n",
       "240  R_z6DSJfELElPHABP        3.0            2            3             0   \n",
       "\n",
       "     sou_chop_x  sou_cook_x  sou_plate_x  server_chop_x  server_cook_x  ...  \\\n",
       "0             2           1            1              0              0  ...   \n",
       "1             2           0            0              1              0  ...   \n",
       "2             3           3            0              1              0  ...   \n",
       "3             1           1            1              1              1  ...   \n",
       "4             3           2            1              1              0  ...   \n",
       "..          ...         ...          ...            ...            ...  ...   \n",
       "236           1           1            1              2              0  ...   \n",
       "237           1           1            1              2              0  ...   \n",
       "238           1           1            1              2              0  ...   \n",
       "239           1           1            1              2              0  ...   \n",
       "240           1           1            0              1              0  ...   \n",
       "\n",
       "     0  1  2  3  4  5  6  7  8   9  \n",
       "0    0 -1  0 -1  0  1  1  1 -1   0  \n",
       "1    1 -1  0  0  1  0 -1  0  0  -6  \n",
       "2    1 -1  2 -2 -2  2  0  1 -4  15  \n",
       "3    0  0  0  0  0  1  0  0 -1   0  \n",
       "4   -2  0  0 -1 -1  1  0  1  3   2  \n",
       "..  .. .. .. .. .. .. .. .. ..  ..  \n",
       "236  0  0  0  0  0  0  0  0  0   3  \n",
       "237  0  0  0  0  0  0  0  0  0   0  \n",
       "238  0  0  0  0  0  1  0  0 -1   3  \n",
       "239  1 -3  1  0  0  0 -1  1 -2  12  \n",
       "240  0 -1  1  0  0  0  0  1 -1  15  \n",
       "\n",
       "[241 rows x 32 columns]"
      ]
     },
     "execution_count": 53,
     "metadata": {},
     "output_type": "execute_result"
    }
   ],
   "source": [
    "dat"
   ]
  },
  {
   "cell_type": "code",
   "execution_count": 54,
   "id": "d38e969b",
   "metadata": {},
   "outputs": [
    {
     "data": {
      "text/html": [
       "<div>\n",
       "<style scoped>\n",
       "    .dataframe tbody tr th:only-of-type {\n",
       "        vertical-align: middle;\n",
       "    }\n",
       "\n",
       "    .dataframe tbody tr th {\n",
       "        vertical-align: top;\n",
       "    }\n",
       "\n",
       "    .dataframe thead th {\n",
       "        text-align: right;\n",
       "    }\n",
       "</style>\n",
       "<table border=\"1\" class=\"dataframe\">\n",
       "  <thead>\n",
       "    <tr style=\"text-align: right;\">\n",
       "      <th></th>\n",
       "      <th>ResponseId</th>\n",
       "      <th>round</th>\n",
       "      <th>tick</th>\n",
       "      <th>orderId</th>\n",
       "      <th>taskId</th>\n",
       "      <th>taskTicks</th>\n",
       "      <th>workerId</th>\n",
       "      <th>workerTicks</th>\n",
       "      <th>label</th>\n",
       "    </tr>\n",
       "  </thead>\n",
       "  <tbody>\n",
       "    <tr>\n",
       "      <th>0</th>\n",
       "      <td>R_0DNcJqALC3UG9Db</td>\n",
       "      <td>1</td>\n",
       "      <td>1</td>\n",
       "      <td>1</td>\n",
       "      <td>1</td>\n",
       "      <td>2</td>\n",
       "      <td>1</td>\n",
       "      <td>0</td>\n",
       "      <td>2.0</td>\n",
       "    </tr>\n",
       "    <tr>\n",
       "      <th>1</th>\n",
       "      <td>R_0DNcJqALC3UG9Db</td>\n",
       "      <td>1</td>\n",
       "      <td>1</td>\n",
       "      <td>2</td>\n",
       "      <td>1</td>\n",
       "      <td>2</td>\n",
       "      <td>2</td>\n",
       "      <td>0</td>\n",
       "      <td>2.0</td>\n",
       "    </tr>\n",
       "    <tr>\n",
       "      <th>2</th>\n",
       "      <td>R_0DNcJqALC3UG9Db</td>\n",
       "      <td>1</td>\n",
       "      <td>1</td>\n",
       "      <td>3</td>\n",
       "      <td>1</td>\n",
       "      <td>2</td>\n",
       "      <td>3</td>\n",
       "      <td>0</td>\n",
       "      <td>2.0</td>\n",
       "    </tr>\n",
       "    <tr>\n",
       "      <th>3</th>\n",
       "      <td>R_0DNcJqALC3UG9Db</td>\n",
       "      <td>1</td>\n",
       "      <td>2</td>\n",
       "      <td>0</td>\n",
       "      <td>0</td>\n",
       "      <td>0</td>\n",
       "      <td>0</td>\n",
       "      <td>0</td>\n",
       "      <td>2.0</td>\n",
       "    </tr>\n",
       "    <tr>\n",
       "      <th>4</th>\n",
       "      <td>R_0DNcJqALC3UG9Db</td>\n",
       "      <td>1</td>\n",
       "      <td>2</td>\n",
       "      <td>0</td>\n",
       "      <td>0</td>\n",
       "      <td>0</td>\n",
       "      <td>0</td>\n",
       "      <td>0</td>\n",
       "      <td>2.0</td>\n",
       "    </tr>\n",
       "    <tr>\n",
       "      <th>...</th>\n",
       "      <td>...</td>\n",
       "      <td>...</td>\n",
       "      <td>...</td>\n",
       "      <td>...</td>\n",
       "      <td>...</td>\n",
       "      <td>...</td>\n",
       "      <td>...</td>\n",
       "      <td>...</td>\n",
       "      <td>...</td>\n",
       "    </tr>\n",
       "    <tr>\n",
       "      <th>616</th>\n",
       "      <td>R_0DNcJqALC3UG9Db</td>\n",
       "      <td>6</td>\n",
       "      <td>43</td>\n",
       "      <td>0</td>\n",
       "      <td>0</td>\n",
       "      <td>0</td>\n",
       "      <td>0</td>\n",
       "      <td>0</td>\n",
       "      <td>2.0</td>\n",
       "    </tr>\n",
       "    <tr>\n",
       "      <th>617</th>\n",
       "      <td>R_0DNcJqALC3UG9Db</td>\n",
       "      <td>6</td>\n",
       "      <td>43</td>\n",
       "      <td>0</td>\n",
       "      <td>0</td>\n",
       "      <td>0</td>\n",
       "      <td>0</td>\n",
       "      <td>0</td>\n",
       "      <td>2.0</td>\n",
       "    </tr>\n",
       "    <tr>\n",
       "      <th>618</th>\n",
       "      <td>R_0DNcJqALC3UG9Db</td>\n",
       "      <td>6</td>\n",
       "      <td>44</td>\n",
       "      <td>4</td>\n",
       "      <td>3</td>\n",
       "      <td>2</td>\n",
       "      <td>2</td>\n",
       "      <td>0</td>\n",
       "      <td>2.0</td>\n",
       "    </tr>\n",
       "    <tr>\n",
       "      <th>619</th>\n",
       "      <td>R_0DNcJqALC3UG9Db</td>\n",
       "      <td>6</td>\n",
       "      <td>44</td>\n",
       "      <td>0</td>\n",
       "      <td>0</td>\n",
       "      <td>0</td>\n",
       "      <td>0</td>\n",
       "      <td>0</td>\n",
       "      <td>2.0</td>\n",
       "    </tr>\n",
       "    <tr>\n",
       "      <th>620</th>\n",
       "      <td>R_0DNcJqALC3UG9Db</td>\n",
       "      <td>6</td>\n",
       "      <td>44</td>\n",
       "      <td>0</td>\n",
       "      <td>0</td>\n",
       "      <td>0</td>\n",
       "      <td>0</td>\n",
       "      <td>0</td>\n",
       "      <td>2.0</td>\n",
       "    </tr>\n",
       "  </tbody>\n",
       "</table>\n",
       "<p>621 rows × 9 columns</p>\n",
       "</div>"
      ],
      "text/plain": [
       "            ResponseId  round  tick  orderId  taskId  taskTicks  workerId  \\\n",
       "0    R_0DNcJqALC3UG9Db      1     1        1       1          2         1   \n",
       "1    R_0DNcJqALC3UG9Db      1     1        2       1          2         2   \n",
       "2    R_0DNcJqALC3UG9Db      1     1        3       1          2         3   \n",
       "3    R_0DNcJqALC3UG9Db      1     2        0       0          0         0   \n",
       "4    R_0DNcJqALC3UG9Db      1     2        0       0          0         0   \n",
       "..                 ...    ...   ...      ...     ...        ...       ...   \n",
       "616  R_0DNcJqALC3UG9Db      6    43        0       0          0         0   \n",
       "617  R_0DNcJqALC3UG9Db      6    43        0       0          0         0   \n",
       "618  R_0DNcJqALC3UG9Db      6    44        4       3          2         2   \n",
       "619  R_0DNcJqALC3UG9Db      6    44        0       0          0         0   \n",
       "620  R_0DNcJqALC3UG9Db      6    44        0       0          0         0   \n",
       "\n",
       "     workerTicks  label  \n",
       "0              0    2.0  \n",
       "1              0    2.0  \n",
       "2              0    2.0  \n",
       "3              0    2.0  \n",
       "4              0    2.0  \n",
       "..           ...    ...  \n",
       "616            0    2.0  \n",
       "617            0    2.0  \n",
       "618            0    2.0  \n",
       "619            0    2.0  \n",
       "620            0    2.0  \n",
       "\n",
       "[621 rows x 9 columns]"
      ]
     },
     "execution_count": 54,
     "metadata": {},
     "output_type": "execute_result"
    }
   ],
   "source": [
    "df[df[\"ResponseId\"] == \"R_0DNcJqALC3UG9Db\"]"
   ]
  },
  {
   "cell_type": "code",
   "execution_count": 55,
   "id": "b61fb893",
   "metadata": {},
   "outputs": [
    {
     "name": "stdout",
     "output_type": "stream",
     "text": [
      "1 1 1\n",
      "1.759493670886076\n",
      "1 1 2\n",
      "2.8595041322314048\n",
      "1 1 3\n",
      "1.404040404040404\n",
      "1 2 1\n",
      "1.537190082644628\n",
      "1 2 2\n",
      "1.5481171548117154\n",
      "1 2 3\n",
      "1.881720430107527\n",
      "1 3 1\n",
      "1.3257918552036199\n",
      "1 3 2\n",
      "1.025\n",
      "1 3 3\n",
      "2.8904761904761904\n"
     ]
    }
   ],
   "source": [
    "jerry = t1\n",
    "for r in np.arange(1,2):\n",
    "    for w in np.arange(1, 4):\n",
    "        for t in np.arange(1, 4):\n",
    "            print(r,w,t)\n",
    "            roundid = r\n",
    "            taskid = t\n",
    "            workerid = w\n",
    "            rounds = jerry[jerry[\"round\"]==roundid]\n",
    "            if rounds[(rounds[\"taskId\"]==taskid) & (rounds[\"workerId\"]==workerid)][\"ResponseId\"].shape[0] != 0:\n",
    "                a = rounds[(rounds[\"taskId\"]==taskid) & (rounds[\"workerId\"]==workerid)][\"ResponseId\"].shape[0] / len(rounds[(rounds[\"taskId\"]==taskid) & (rounds[\"workerId\"]==workerid)][\"ResponseId\"].unique())\n",
    "            else: \n",
    "                a= 0\n",
    "            print(a)"
   ]
  },
  {
   "cell_type": "markdown",
   "id": "c6b5dc2a",
   "metadata": {},
   "source": [
    "### Features Visualization Joint"
   ]
  },
  {
   "cell_type": "code",
   "execution_count": 56,
   "id": "0b95e80c",
   "metadata": {},
   "outputs": [],
   "source": [
    "import matplotlib.pyplot as plt\n",
    "import seaborn as sns"
   ]
  },
  {
   "cell_type": "code",
   "execution_count": 57,
   "id": "40793605",
   "metadata": {},
   "outputs": [],
   "source": [
    "# # figure, axis = plt.subplots(4, 27)\n",
    "# df0, df1, df2, df3 = dat[dat[\"label_1_x\"]==0], dat[dat[\"label_1_x\"]==1], dat[dat[\"label_1_x\"]==2], dat[dat[\"label_1_x\"]==3]\n",
    "# kin = \"hist\"\n",
    "# sns.displot(data=dat, x=\"chef_chop_x\", col=\"label_1_x\", kind=kin, stat=\"probability\")\n",
    "# sns.displot(data=dat, x=\"chef_chop_y\", col=\"label_1_x\", kind=kin, stat=\"probability\")\n",
    "# sns.displot(data=dat, x=\"chef_cook_x\", col=\"label_1_x\", kind=kin, stat=\"probability\")\n",
    "# sns.displot(data=dat, x=\"chef_cook_y\", col=\"label_1_x\", kind=kin, stat=\"probability\")\n",
    "# sns.displot(data=dat, x=\"chef_plate_x\", col=\"label_1_x\", kind=kin, stat=\"probability\")\n",
    "# sns.displot(data=dat, x=\"chef_plate_y\", col=\"label_1_x\", kind=kin, stat=\"probability\")\n",
    "\n",
    "# sns.displot(data=dat, x=\"sou_chop_x\", col=\"label_1_x\", kind=kin, stat=\"probability\")\n",
    "# sns.displot(data=dat, x=\"sou_chop_y\", col=\"label_1_x\", kind=kin, stat=\"probability\")\n",
    "# sns.displot(data=dat, x=\"sou_cook_x\", col=\"label_1_x\", kind=kin, stat=\"probability\")\n",
    "# sns.displot(data=dat, x=\"sou_cook_y\", col=\"label_1_x\", kind=kin, stat=\"probability\")\n",
    "# sns.displot(data=dat, x=\"sou_plate_x\", col=\"label_1_x\", kind=kin, stat=\"probability\")\n",
    "# sns.displot(data=dat, x=\"sou_plate_y\", col=\"label_1_x\", kind=kin, stat=\"probability\")\n",
    "\n",
    "# sns.displot(data=dat, x=\"server_chop_x\", col=\"label_1_x\", kind=kin, stat=\"probability\")\n",
    "# sns.displot(data=dat, x=\"server_chop_y\", col=\"label_1_x\", kind=kin, stat=\"probability\")\n",
    "# sns.displot(data=dat, x=\"server_cook_x\", col=\"label_1_x\", kind=kin, stat=\"probability\")\n",
    "# sns.displot(data=dat, x=\"server_cook_y\", col=\"label_1_x\", kind=kin, stat=\"probability\")\n",
    "# sns.displot(data=dat, x=\"server_plate_x\", col=\"label_1_x\", kind=kin, stat=\"probability\")\n",
    "# sns.displot(data=dat, x=\"server_plate_y\", col=\"label_1_x\", kind=kin, stat=\"probability\")\n",
    "\n",
    "# sns.displot(data=dat, x=\"idle_x\", col=\"label_1_x\", kind=kin, stat=\"probability\")\n",
    "# sns.displot(data=dat, x=\"idle_y\", col=\"label_1_x\", kind=kin, stat=\"probability\")\n",
    "\n",
    "\n",
    "# sns.displot(data=dat, x=0, col=\"label_1_x\", kind=kin, stat=\"probability\")\n",
    "# sns.displot(data=dat, x=1, col=\"label_1_x\", kind=kin, stat=\"probability\")\n",
    "# sns.displot(data=dat, x=2, col=\"label_1_x\", kind=kin, stat=\"probability\")\n",
    "# sns.displot(data=dat, x=3, col=\"label_1_x\", kind=kin, stat=\"probability\")\n",
    "# sns.displot(data=dat, x=4, col=\"label_1_x\", kind=kin, stat=\"probability\")\n",
    "# sns.displot(data=dat, x=5, col=\"label_1_x\", kind=kin, stat=\"probability\")\n",
    "# sns.displot(data=dat, x=6, col=\"label_1_x\", kind=kin, stat=\"probability\")\n",
    "# sns.displot(data=dat, x=7, col=\"label_1_x\", kind=kin, stat=\"probability\")\n",
    "# sns.displot(data=dat, x=8, col=\"label_1_x\", kind=kin, stat=\"probability\")\n",
    "# sns.displot(data=dat, x=9, col=\"label_1_x\", kind=kin, stat=\"probability\")\n"
   ]
  },
  {
   "cell_type": "code",
   "execution_count": null,
   "id": "57d57513",
   "metadata": {},
   "outputs": [],
   "source": []
  },
  {
   "cell_type": "markdown",
   "id": "c75a9f79",
   "metadata": {},
   "source": [
    "### TRAIN VAL SPLIT"
   ]
  },
  {
   "cell_type": "code",
   "execution_count": 58,
   "id": "a6827b83",
   "metadata": {},
   "outputs": [
    {
     "data": {
      "text/html": [
       "<div>\n",
       "<style scoped>\n",
       "    .dataframe tbody tr th:only-of-type {\n",
       "        vertical-align: middle;\n",
       "    }\n",
       "\n",
       "    .dataframe tbody tr th {\n",
       "        vertical-align: top;\n",
       "    }\n",
       "\n",
       "    .dataframe thead th {\n",
       "        text-align: right;\n",
       "    }\n",
       "</style>\n",
       "<table border=\"1\" class=\"dataframe\">\n",
       "  <thead>\n",
       "    <tr style=\"text-align: right;\">\n",
       "      <th></th>\n",
       "      <th>ResponseId</th>\n",
       "      <th>label_1_x</th>\n",
       "      <th>chef_chop_x</th>\n",
       "      <th>chef_cook_x</th>\n",
       "      <th>chef_plate_x</th>\n",
       "      <th>sou_chop_x</th>\n",
       "      <th>sou_cook_x</th>\n",
       "      <th>sou_plate_x</th>\n",
       "      <th>server_chop_x</th>\n",
       "      <th>server_cook_x</th>\n",
       "      <th>...</th>\n",
       "      <th>0</th>\n",
       "      <th>1</th>\n",
       "      <th>2</th>\n",
       "      <th>3</th>\n",
       "      <th>4</th>\n",
       "      <th>5</th>\n",
       "      <th>6</th>\n",
       "      <th>7</th>\n",
       "      <th>8</th>\n",
       "      <th>9</th>\n",
       "    </tr>\n",
       "  </thead>\n",
       "  <tbody>\n",
       "    <tr>\n",
       "      <th>24</th>\n",
       "      <td>R_1JDSVNry9Dw9OT9</td>\n",
       "      <td>1.0</td>\n",
       "      <td>5</td>\n",
       "      <td>5</td>\n",
       "      <td>0</td>\n",
       "      <td>1</td>\n",
       "      <td>2</td>\n",
       "      <td>1</td>\n",
       "      <td>1</td>\n",
       "      <td>0</td>\n",
       "      <td>...</td>\n",
       "      <td>-1</td>\n",
       "      <td>1</td>\n",
       "      <td>0</td>\n",
       "      <td>0</td>\n",
       "      <td>-1</td>\n",
       "      <td>-1</td>\n",
       "      <td>0</td>\n",
       "      <td>0</td>\n",
       "      <td>2</td>\n",
       "      <td>3</td>\n",
       "    </tr>\n",
       "    <tr>\n",
       "      <th>6</th>\n",
       "      <td>R_12Lv8qnpFy9Vt0s</td>\n",
       "      <td>1.0</td>\n",
       "      <td>3</td>\n",
       "      <td>2</td>\n",
       "      <td>0</td>\n",
       "      <td>2</td>\n",
       "      <td>2</td>\n",
       "      <td>3</td>\n",
       "      <td>2</td>\n",
       "      <td>1</td>\n",
       "      <td>...</td>\n",
       "      <td>-1</td>\n",
       "      <td>0</td>\n",
       "      <td>1</td>\n",
       "      <td>0</td>\n",
       "      <td>-1</td>\n",
       "      <td>-2</td>\n",
       "      <td>-1</td>\n",
       "      <td>0</td>\n",
       "      <td>-3</td>\n",
       "      <td>4</td>\n",
       "    </tr>\n",
       "    <tr>\n",
       "      <th>222</th>\n",
       "      <td>R_eXIJw6uOCxUvYeR</td>\n",
       "      <td>3.0</td>\n",
       "      <td>2</td>\n",
       "      <td>2</td>\n",
       "      <td>0</td>\n",
       "      <td>1</td>\n",
       "      <td>1</td>\n",
       "      <td>2</td>\n",
       "      <td>1</td>\n",
       "      <td>1</td>\n",
       "      <td>...</td>\n",
       "      <td>-1</td>\n",
       "      <td>1</td>\n",
       "      <td>1</td>\n",
       "      <td>1</td>\n",
       "      <td>1</td>\n",
       "      <td>-1</td>\n",
       "      <td>0</td>\n",
       "      <td>0</td>\n",
       "      <td>0</td>\n",
       "      <td>-2</td>\n",
       "    </tr>\n",
       "    <tr>\n",
       "      <th>208</th>\n",
       "      <td>R_RElq0Da0R5awmMV</td>\n",
       "      <td>3.0</td>\n",
       "      <td>2</td>\n",
       "      <td>3</td>\n",
       "      <td>0</td>\n",
       "      <td>2</td>\n",
       "      <td>1</td>\n",
       "      <td>0</td>\n",
       "      <td>0</td>\n",
       "      <td>0</td>\n",
       "      <td>...</td>\n",
       "      <td>0</td>\n",
       "      <td>-1</td>\n",
       "      <td>1</td>\n",
       "      <td>-1</td>\n",
       "      <td>0</td>\n",
       "      <td>1</td>\n",
       "      <td>1</td>\n",
       "      <td>1</td>\n",
       "      <td>-2</td>\n",
       "      <td>3</td>\n",
       "    </tr>\n",
       "    <tr>\n",
       "      <th>236</th>\n",
       "      <td>R_xlnJEPOkxxHspJT</td>\n",
       "      <td>2.0</td>\n",
       "      <td>1</td>\n",
       "      <td>3</td>\n",
       "      <td>0</td>\n",
       "      <td>1</td>\n",
       "      <td>1</td>\n",
       "      <td>1</td>\n",
       "      <td>2</td>\n",
       "      <td>0</td>\n",
       "      <td>...</td>\n",
       "      <td>0</td>\n",
       "      <td>0</td>\n",
       "      <td>0</td>\n",
       "      <td>0</td>\n",
       "      <td>0</td>\n",
       "      <td>0</td>\n",
       "      <td>0</td>\n",
       "      <td>0</td>\n",
       "      <td>0</td>\n",
       "      <td>3</td>\n",
       "    </tr>\n",
       "    <tr>\n",
       "      <th>...</th>\n",
       "      <td>...</td>\n",
       "      <td>...</td>\n",
       "      <td>...</td>\n",
       "      <td>...</td>\n",
       "      <td>...</td>\n",
       "      <td>...</td>\n",
       "      <td>...</td>\n",
       "      <td>...</td>\n",
       "      <td>...</td>\n",
       "      <td>...</td>\n",
       "      <td>...</td>\n",
       "      <td>...</td>\n",
       "      <td>...</td>\n",
       "      <td>...</td>\n",
       "      <td>...</td>\n",
       "      <td>...</td>\n",
       "      <td>...</td>\n",
       "      <td>...</td>\n",
       "      <td>...</td>\n",
       "      <td>...</td>\n",
       "      <td>...</td>\n",
       "    </tr>\n",
       "    <tr>\n",
       "      <th>106</th>\n",
       "      <td>R_2Yg1VJrnusl9XTH</td>\n",
       "      <td>3.0</td>\n",
       "      <td>3</td>\n",
       "      <td>4</td>\n",
       "      <td>0</td>\n",
       "      <td>1</td>\n",
       "      <td>1</td>\n",
       "      <td>1</td>\n",
       "      <td>1</td>\n",
       "      <td>0</td>\n",
       "      <td>...</td>\n",
       "      <td>2</td>\n",
       "      <td>2</td>\n",
       "      <td>0</td>\n",
       "      <td>0</td>\n",
       "      <td>0</td>\n",
       "      <td>0</td>\n",
       "      <td>0</td>\n",
       "      <td>0</td>\n",
       "      <td>0</td>\n",
       "      <td>-4</td>\n",
       "    </tr>\n",
       "    <tr>\n",
       "      <th>14</th>\n",
       "      <td>R_1FeTRLYeZzRxepn</td>\n",
       "      <td>3.0</td>\n",
       "      <td>2</td>\n",
       "      <td>3</td>\n",
       "      <td>0</td>\n",
       "      <td>2</td>\n",
       "      <td>1</td>\n",
       "      <td>0</td>\n",
       "      <td>0</td>\n",
       "      <td>0</td>\n",
       "      <td>...</td>\n",
       "      <td>-2</td>\n",
       "      <td>1</td>\n",
       "      <td>0</td>\n",
       "      <td>2</td>\n",
       "      <td>-1</td>\n",
       "      <td>0</td>\n",
       "      <td>0</td>\n",
       "      <td>0</td>\n",
       "      <td>0</td>\n",
       "      <td>9</td>\n",
       "    </tr>\n",
       "    <tr>\n",
       "      <th>92</th>\n",
       "      <td>R_2QmoU1bwH81BIb8</td>\n",
       "      <td>3.0</td>\n",
       "      <td>1</td>\n",
       "      <td>3</td>\n",
       "      <td>0</td>\n",
       "      <td>1</td>\n",
       "      <td>1</td>\n",
       "      <td>1</td>\n",
       "      <td>2</td>\n",
       "      <td>0</td>\n",
       "      <td>...</td>\n",
       "      <td>0</td>\n",
       "      <td>1</td>\n",
       "      <td>0</td>\n",
       "      <td>0</td>\n",
       "      <td>0</td>\n",
       "      <td>0</td>\n",
       "      <td>0</td>\n",
       "      <td>0</td>\n",
       "      <td>0</td>\n",
       "      <td>-1</td>\n",
       "    </tr>\n",
       "    <tr>\n",
       "      <th>179</th>\n",
       "      <td>R_3rZp2BTjwcnNGPw</td>\n",
       "      <td>3.0</td>\n",
       "      <td>1</td>\n",
       "      <td>3</td>\n",
       "      <td>0</td>\n",
       "      <td>1</td>\n",
       "      <td>1</td>\n",
       "      <td>1</td>\n",
       "      <td>2</td>\n",
       "      <td>0</td>\n",
       "      <td>...</td>\n",
       "      <td>0</td>\n",
       "      <td>-1</td>\n",
       "      <td>1</td>\n",
       "      <td>1</td>\n",
       "      <td>0</td>\n",
       "      <td>0</td>\n",
       "      <td>-1</td>\n",
       "      <td>1</td>\n",
       "      <td>-1</td>\n",
       "      <td>18</td>\n",
       "    </tr>\n",
       "    <tr>\n",
       "      <th>102</th>\n",
       "      <td>R_2VF5HGRijAzPImK</td>\n",
       "      <td>3.0</td>\n",
       "      <td>2</td>\n",
       "      <td>6</td>\n",
       "      <td>8</td>\n",
       "      <td>3</td>\n",
       "      <td>2</td>\n",
       "      <td>7</td>\n",
       "      <td>0</td>\n",
       "      <td>0</td>\n",
       "      <td>...</td>\n",
       "      <td>1</td>\n",
       "      <td>-3</td>\n",
       "      <td>-2</td>\n",
       "      <td>0</td>\n",
       "      <td>-1</td>\n",
       "      <td>-6</td>\n",
       "      <td>1</td>\n",
       "      <td>1</td>\n",
       "      <td>3</td>\n",
       "      <td>0</td>\n",
       "    </tr>\n",
       "  </tbody>\n",
       "</table>\n",
       "<p>241 rows × 32 columns</p>\n",
       "</div>"
      ],
      "text/plain": [
       "            ResponseId  label_1_x  chef_chop_x  chef_cook_x  chef_plate_x  \\\n",
       "24   R_1JDSVNry9Dw9OT9        1.0            5            5             0   \n",
       "6    R_12Lv8qnpFy9Vt0s        1.0            3            2             0   \n",
       "222  R_eXIJw6uOCxUvYeR        3.0            2            2             0   \n",
       "208  R_RElq0Da0R5awmMV        3.0            2            3             0   \n",
       "236  R_xlnJEPOkxxHspJT        2.0            1            3             0   \n",
       "..                 ...        ...          ...          ...           ...   \n",
       "106  R_2Yg1VJrnusl9XTH        3.0            3            4             0   \n",
       "14   R_1FeTRLYeZzRxepn        3.0            2            3             0   \n",
       "92   R_2QmoU1bwH81BIb8        3.0            1            3             0   \n",
       "179  R_3rZp2BTjwcnNGPw        3.0            1            3             0   \n",
       "102  R_2VF5HGRijAzPImK        3.0            2            6             8   \n",
       "\n",
       "     sou_chop_x  sou_cook_x  sou_plate_x  server_chop_x  server_cook_x  ...  \\\n",
       "24            1           2            1              1              0  ...   \n",
       "6             2           2            3              2              1  ...   \n",
       "222           1           1            2              1              1  ...   \n",
       "208           2           1            0              0              0  ...   \n",
       "236           1           1            1              2              0  ...   \n",
       "..          ...         ...          ...            ...            ...  ...   \n",
       "106           1           1            1              1              0  ...   \n",
       "14            2           1            0              0              0  ...   \n",
       "92            1           1            1              2              0  ...   \n",
       "179           1           1            1              2              0  ...   \n",
       "102           3           2            7              0              0  ...   \n",
       "\n",
       "     0  1  2  3  4  5  6  7  8   9  \n",
       "24  -1  1  0  0 -1 -1  0  0  2   3  \n",
       "6   -1  0  1  0 -1 -2 -1  0 -3   4  \n",
       "222 -1  1  1  1  1 -1  0  0  0  -2  \n",
       "208  0 -1  1 -1  0  1  1  1 -2   3  \n",
       "236  0  0  0  0  0  0  0  0  0   3  \n",
       "..  .. .. .. .. .. .. .. .. ..  ..  \n",
       "106  2  2  0  0  0  0  0  0  0  -4  \n",
       "14  -2  1  0  2 -1  0  0  0  0   9  \n",
       "92   0  1  0  0  0  0  0  0  0  -1  \n",
       "179  0 -1  1  1  0  0 -1  1 -1  18  \n",
       "102  1 -3 -2  0 -1 -6  1  1  3   0  \n",
       "\n",
       "[241 rows x 32 columns]"
      ]
     },
     "execution_count": 58,
     "metadata": {},
     "output_type": "execute_result"
    }
   ],
   "source": [
    "dat = dat.sample(frac=1, random_state=42)\n",
    "dat"
   ]
  },
  {
   "cell_type": "code",
   "execution_count": 59,
   "id": "2947ffe4",
   "metadata": {},
   "outputs": [],
   "source": [
    "FEATURES = [\"ResponseId\",\"label_1_x\",\"chef_cook_x\", \"chef_cook_y\", \"sou_chop_y\", \"sou_plate_x\",\"sou_plate_y\", \n",
    "            \"server_chop_x\", \"server_plate_x\", \"server_plate_y\", \"idle_x\", \"idle_y\",\n",
    "            0,1,2,7,8,9]\n",
    "dat = dat[FEATURES]\n",
    "dat.shape\n",
    "\n",
    "dat_s1, dat_t1 = dat_s1[FEATURES], dat_t1[FEATURES]"
   ]
  },
  {
   "cell_type": "code",
   "execution_count": 60,
   "id": "ac39f7f3",
   "metadata": {},
   "outputs": [],
   "source": [
    "dat.columns = dat.columns.astype(\"str\")\n",
    "dat_s1.columns = dat_s1.columns.astype(\"str\")\n",
    "dat_t1.columns = dat_t1.columns.astype(\"str\")"
   ]
  },
  {
   "cell_type": "code",
   "execution_count": 61,
   "id": "91c12b36",
   "metadata": {},
   "outputs": [],
   "source": [
    "# X_train, X_test = dat.iloc[:104,2:], dat.iloc[70:,2:]\n",
    "# y_train_1, y_test_1 = dat.iloc[:104,1], dat.iloc[70:,1]\n",
    "# y_train_2, y_test_2 = dat.iloc[:70,2], dat.iloc[130:,2]\n",
    "X_train, X_val = dat.iloc[:190, 2:], dat.iloc[190:, 2:]\n",
    "y_train, y_val = dat.iloc[:190, 1], dat.iloc[190:,  1]\n",
    "\n",
    "X_s1, y_s1 = dat_s1.iloc[:, 2:], dat_s1.iloc[:, 1]\n",
    "X_t1, y_t1 = dat_t1.iloc[:, 2:], dat_t1.iloc[:, 1]"
   ]
  },
  {
   "cell_type": "code",
   "execution_count": 62,
   "id": "e03e67a0",
   "metadata": {},
   "outputs": [
    {
     "data": {
      "text/plain": [
       "(array([ 17.,  47., 126.]), array([1, 2, 3, 4]), <a list of 3 Patch objects>)"
      ]
     },
     "execution_count": 62,
     "metadata": {},
     "output_type": "execute_result"
    },
    {
     "data": {
      "image/png": "[encoded data removed]",
      "text/plain": [
       "<Figure size 432x288 with 1 Axes>"
      ]
     },
     "metadata": {
      "needs_background": "light"
     },
     "output_type": "display_data"
    }
   ],
   "source": [
    "import matplotlib.pyplot as plt\n",
    "plt.hist(y_train, bins=[1,2,3,4])"
   ]
  },
  {
   "attachments": {},
   "cell_type": "markdown",
   "id": "98daea56",
   "metadata": {},
   "source": [
    "### Counter-Factual Algorithm"
   ]
  },
  {
   "cell_type": "code",
   "execution_count": 63,
   "id": "333e519b",
   "metadata": {},
   "outputs": [],
   "source": [
    "from sklearn.cluster import KMeans"
   ]
  },
  {
   "cell_type": "code",
   "execution_count": 64,
   "id": "d44a469f",
   "metadata": {},
   "outputs": [],
   "source": [
    "# choosing the number of K using elbow method\n",
    "\n",
    "def sum_of_squares(model):\n",
    "    \n",
    "    s1_prob_pred = pd.DataFrame(model.predict_proba(X_s1))\n",
    "    t1_prob_pred = pd.DataFrame(model.predict_proba(X_t1))\n",
    "    merge_s1_t1 = s1_prob_pred.append(t1_prob_pred, ignore_index = True)\n",
    "    sum_of_squares = []\n",
    "    for k in range(2, 9):\n",
    "        kmeans = KMeans(n_clusters = k, random_state = 42)\n",
    "        kmeans.fit(merge_s1_t1)\n",
    "        sum_of_squares.append(kmeans.inertia_)\n",
    "    plt.plot(range(2, 9), sum_of_squares)"
   ]
  },
  {
   "cell_type": "code",
   "execution_count": 100,
   "id": "f5a4d9ef",
   "metadata": {},
   "outputs": [
    {
     "data": {
      "text/html": [
       "<div>\n",
       "<style scoped>\n",
       "    .dataframe tbody tr th:only-of-type {\n",
       "        vertical-align: middle;\n",
       "    }\n",
       "\n",
       "    .dataframe tbody tr th {\n",
       "        vertical-align: top;\n",
       "    }\n",
       "\n",
       "    .dataframe thead th {\n",
       "        text-align: right;\n",
       "    }\n",
       "</style>\n",
       "<table border=\"1\" class=\"dataframe\">\n",
       "  <thead>\n",
       "    <tr style=\"text-align: right;\">\n",
       "      <th></th>\n",
       "      <th>ResponseId</th>\n",
       "      <th>average score</th>\n",
       "    </tr>\n",
       "  </thead>\n",
       "  <tbody>\n",
       "    <tr>\n",
       "      <th>0</th>\n",
       "      <td>R_0IcuUZHN9dKfH0Z</td>\n",
       "      <td>32.166667</td>\n",
       "    </tr>\n",
       "    <tr>\n",
       "      <th>1</th>\n",
       "      <td>R_0VXJLbkyY71lN4J</td>\n",
       "      <td>35.166667</td>\n",
       "    </tr>\n",
       "    <tr>\n",
       "      <th>2</th>\n",
       "      <td>R_125AKwC51ygjjQk</td>\n",
       "      <td>32.166667</td>\n",
       "    </tr>\n",
       "    <tr>\n",
       "      <th>3</th>\n",
       "      <td>R_12Dt0DJZNmFiKry</td>\n",
       "      <td>50.000000</td>\n",
       "    </tr>\n",
       "    <tr>\n",
       "      <th>4</th>\n",
       "      <td>R_12QMTavRK76D6Gq</td>\n",
       "      <td>31.833333</td>\n",
       "    </tr>\n",
       "    <tr>\n",
       "      <th>...</th>\n",
       "      <td>...</td>\n",
       "      <td>...</td>\n",
       "    </tr>\n",
       "    <tr>\n",
       "      <th>1296</th>\n",
       "      <td>R_2uO0jriCjacBmex</td>\n",
       "      <td>NaN</td>\n",
       "    </tr>\n",
       "    <tr>\n",
       "      <th>1297</th>\n",
       "      <td>R_2CVv4NSDE4SkU22</td>\n",
       "      <td>NaN</td>\n",
       "    </tr>\n",
       "    <tr>\n",
       "      <th>1298</th>\n",
       "      <td>R_pQcs83rkz3Z2mxb</td>\n",
       "      <td>NaN</td>\n",
       "    </tr>\n",
       "    <tr>\n",
       "      <th>1299</th>\n",
       "      <td>R_DOwVqDWhTsSnR9n</td>\n",
       "      <td>NaN</td>\n",
       "    </tr>\n",
       "    <tr>\n",
       "      <th>1300</th>\n",
       "      <td>R_3st9dQgP2ylI7hA</td>\n",
       "      <td>NaN</td>\n",
       "    </tr>\n",
       "  </tbody>\n",
       "</table>\n",
       "<p>1301 rows × 2 columns</p>\n",
       "</div>"
      ],
      "text/plain": [
       "             ResponseId  average score\n",
       "0     R_0IcuUZHN9dKfH0Z      32.166667\n",
       "1     R_0VXJLbkyY71lN4J      35.166667\n",
       "2     R_125AKwC51ygjjQk      32.166667\n",
       "3     R_12Dt0DJZNmFiKry      50.000000\n",
       "4     R_12QMTavRK76D6Gq      31.833333\n",
       "...                 ...            ...\n",
       "1296  R_2uO0jriCjacBmex            NaN\n",
       "1297  R_2CVv4NSDE4SkU22            NaN\n",
       "1298  R_pQcs83rkz3Z2mxb            NaN\n",
       "1299  R_DOwVqDWhTsSnR9n            NaN\n",
       "1300  R_3st9dQgP2ylI7hA            NaN\n",
       "\n",
       "[1301 rows x 2 columns]"
      ]
     },
     "execution_count": 100,
     "metadata": {},
     "output_type": "execute_result"
    }
   ],
   "source": [
    "# read again the suggested tip table to extract performance\n",
    "main_df_2 = pd.read_csv(\"../data/Archive/Cooking Game Suggested Tips  - BBS21-Phase2-Disruption.csv\")\n",
    "main_df_2 = main_df_2[['ResponseId', 'average score']]\n",
    "main_df_2"
   ]
  },
  {
   "cell_type": "code",
   "execution_count": 101,
   "id": "5098b654",
   "metadata": {},
   "outputs": [],
   "source": [
    "def constructing_df(model, cluster_size):\n",
    "    # gives the clustered class of each sample in s1 and t1\n",
    "    s1_prob_pred = pd.DataFrame(model.predict_proba(X_s1))\n",
    "    s1_prob_pred['class'] = 's1'\n",
    "    s1_prob_pred['ResponseId'] = dat_s1[\"ResponseId\"]\n",
    "    \n",
    "    t1_prob_pred = pd.DataFrame(model.predict_proba(X_t1))\n",
    "    t1_prob_pred['class'] = 't1'\n",
    "    t1_prob_pred['ResponseId'] = dat_t1['ResponseId']\n",
    "    \n",
    "    merge_s1_t1 = s1_prob_pred.append(t1_prob_pred, ignore_index = True)\n",
    "    merge_s1_t1 =  merge_s1_t1.merge(main_df_2, on = 'ResponseId')\n",
    "\n",
    "    return merge_s1_t1"
   ]
  },
  {
   "cell_type": "code",
   "execution_count": 102,
   "id": "a78691d9",
   "metadata": {},
   "outputs": [],
   "source": [
    "# counter-factual with K-Means Clustering\n",
    "# and print out the centers them\n",
    "\n",
    "def clustering_label(df, cluster_size):\n",
    "    \n",
    "    kmeans = KMeans(n_clusters = cluster_size, random_state = 42)\n",
    "    labels = kmeans.fit_predict(df.iloc[:,0:3])\n",
    "    df['cluster'] = labels\n",
    "    \n",
    "    print(\"Cluster centers for all the groups\")\n",
    "    print(kmeans.cluster_centers_)\n",
    "\n",
    "    return df\n",
    "    "
   ]
  },
  {
   "cell_type": "code",
   "execution_count": 121,
   "id": "d3c877d8",
   "metadata": {},
   "outputs": [],
   "source": [
    "# plotting the distribution of each cluster for the two classes\n",
    "\n",
    "def plotting_label(df, cluster_size):\n",
    "    \n",
    "    #spliting the two groups with class label\n",
    "    g1 = df[df['class'] == 's1']['cluster'].to_list()\n",
    "    g2 = df[df['class'] == 't1']['cluster'].to_list()\n",
    "\n",
    "    X = list(range(cluster_size))\n",
    "    X_axis = np.arange(len(X))\n",
    "\n",
    "    lst1 = [g1.count(x) for x in X]\n",
    "    lst2 = [g2.count(x) for x in X]\n",
    "\n",
    "    plt.bar(X_axis - 0.2, lst1, 0.4, label = 's1')\n",
    "    plt.bar(X_axis + 0.2, lst2, 0.4, label = 't1')\n",
    "\n",
    "    plt.xticks(X_axis, X)\n",
    "    plt.xlabel(\"Groups\")\n",
    "    plt.ylabel(\"Reponse Number\")\n",
    "    \n",
    "    plt.title(\"Number of Responses in each group\")\n",
    "    plt.legend()\n",
    "    plt.show()\n"
   ]
  },
  {
   "cell_type": "code",
   "execution_count": 128,
   "id": "7f8a3e9e",
   "metadata": {},
   "outputs": [],
   "source": [
    "def comparing_performance(df, cluster_size):\n",
    "\n",
    "    #spliting the two groups with class label\n",
    "    g1 = df[df['class'] == 's1']\n",
    "    g2 = df[df['class'] == 't1']\n",
    "\n",
    "    for i in range(cluster_size):\n",
    "\n",
    "        lst1 = g1[g1['cluster'] == i]['average score'].to_list()\n",
    "        lst2 = g2[g2['cluster'] == i]['average score'].to_list()\n",
    "\n",
    "        plt.boxplot([lst1, lst2], labels = ['s1', 't1'])\n",
    "        plt.xlabel(\"Groups\")\n",
    "        plt.ylabel(\"score distribution\")\n",
    "        \n",
    "        plt.title(\"score distribution for group %s\" %(i+1))\n",
    "        plt.legend()\n",
    "        plt.show()"
   ]
  },
  {
   "cell_type": "markdown",
   "id": "21d50674",
   "metadata": {},
   "source": [
    "### Random Forest"
   ]
  },
  {
   "cell_type": "code",
   "execution_count": 69,
   "id": "023e1e3c",
   "metadata": {},
   "outputs": [],
   "source": [
    "from sklearn.ensemble import RandomForestClassifier\n",
    "from sklearn.tree import DecisionTreeRegressor\n",
    "from sklearn.model_selection import GridSearchCV"
   ]
  },
  {
   "cell_type": "code",
   "execution_count": 70,
   "id": "61c6da3f",
   "metadata": {},
   "outputs": [],
   "source": [
    "param_grid = { \n",
    "    \"criterion\": [\"gini\"],\n",
    "    \"n_estimators\": [85, 90, 95, 100, 110, 115],\n",
    "    \"max_depth\": [3,4,5],\n",
    "    'min_samples_split': [3,4,5],\n",
    "    'min_samples_leaf':  [1,2,3],\n",
    "}"
   ]
  },
  {
   "cell_type": "code",
   "execution_count": 71,
   "id": "481f2918",
   "metadata": {
    "scrolled": false
   },
   "outputs": [
    {
     "data": {
      "text/plain": [
       "RandomForestClassifier(bootstrap=True, ccp_alpha=0.0, class_weight=None,\n",
       "                       criterion='gini', max_depth=None, max_features='auto',\n",
       "                       max_leaf_nodes=None, max_samples=None,\n",
       "                       min_impurity_decrease=0.0, min_impurity_split=None,\n",
       "                       min_samples_leaf=1, min_samples_split=2,\n",
       "                       min_weight_fraction_leaf=0.0, n_estimators=100,\n",
       "                       n_jobs=None, oob_score=False, random_state=42, verbose=0,\n",
       "                       warm_start=False)"
      ]
     },
     "execution_count": 71,
     "metadata": {},
     "output_type": "execute_result"
    }
   ],
   "source": [
    "clf = RandomForestClassifier(random_state=42)\n",
    "clf.fit(X_train, y_train)"
   ]
  },
  {
   "cell_type": "code",
   "execution_count": 72,
   "id": "d2c91214",
   "metadata": {},
   "outputs": [
    {
     "data": {
      "text/plain": [
       "GridSearchCV(cv=5, error_score=nan,\n",
       "             estimator=RandomForestClassifier(bootstrap=True, ccp_alpha=0.0,\n",
       "                                              class_weight=None,\n",
       "                                              criterion='gini', max_depth=None,\n",
       "                                              max_features='auto',\n",
       "                                              max_leaf_nodes=None,\n",
       "                                              max_samples=None,\n",
       "                                              min_impurity_decrease=0.0,\n",
       "                                              min_impurity_split=None,\n",
       "                                              min_samples_leaf=1,\n",
       "                                              min_samples_split=2,\n",
       "                                              min_weight_fraction_leaf=0.0,\n",
       "                                              n_estimators=100, n_jobs=None,\n",
       "                                              oob_score=False, random_state=42,\n",
       "                                              verbose=0, warm_start=False),\n",
       "             iid='deprecated', n_jobs=None,\n",
       "             param_grid={'criterion': ['gini'], 'max_depth': [3, 4, 5],\n",
       "                         'min_samples_leaf': [1, 2, 3],\n",
       "                         'min_samples_split': [3, 4, 5],\n",
       "                         'n_estimators': [85, 90, 95, 100, 110, 115]},\n",
       "             pre_dispatch='2*n_jobs', refit=True, return_train_score=False,\n",
       "             scoring=None, verbose=0)"
      ]
     },
     "execution_count": 72,
     "metadata": {},
     "output_type": "execute_result"
    }
   ],
   "source": [
    "RF = GridSearchCV(estimator=clf, param_grid = param_grid, cv=5)\n",
    "# RF = RandomForestClassifier(random_state=42, max_depth=3, min_samples_leaf=2, min_samples_split=2, n_estimators=110)\n",
    "RF.fit(X_train, y_train)"
   ]
  },
  {
   "cell_type": "code",
   "execution_count": 73,
   "id": "13fa0743",
   "metadata": {
    "scrolled": true
   },
   "outputs": [
    {
     "data": {
      "text/plain": [
       "array([3., 3., 3., 3., 3., 3., 2., 3., 3., 3., 3., 3., 3., 3., 3., 3., 3.,\n",
       "       3., 3., 3., 3., 3., 3., 3., 3., 3., 3., 3., 3., 3., 3., 3., 3., 3.,\n",
       "       3., 3., 3., 3., 3., 3., 3., 3., 3., 3., 3., 3., 3., 3., 3., 3., 3.])"
      ]
     },
     "execution_count": 73,
     "metadata": {},
     "output_type": "execute_result"
    }
   ],
   "source": [
    "# clf.score(X_train, y_train)\n",
    "# RF.score(X_train, y_train)\n",
    "RF.predict(X_val)"
   ]
  },
  {
   "cell_type": "code",
   "execution_count": 74,
   "id": "d54c4fe0",
   "metadata": {},
   "outputs": [],
   "source": [
    "# RF = RandomForestClassifier(random_state=42, max_depth=3, min_samples_leaf=1, min_samples_split=5, n_estimators=85) \n",
    "# RF.fit(X_train, y_train)"
   ]
  },
  {
   "cell_type": "code",
   "execution_count": 75,
   "id": "ac6599d9",
   "metadata": {
    "scrolled": true
   },
   "outputs": [
    {
     "data": {
      "text/plain": [
       "0.7450980392156863"
      ]
     },
     "execution_count": 75,
     "metadata": {},
     "output_type": "execute_result"
    }
   ],
   "source": [
    "# clf.score(X_val, y_val)\n",
    "RF.score(X_val, y_val)"
   ]
  },
  {
   "cell_type": "code",
   "execution_count": 76,
   "id": "e41e635c",
   "metadata": {},
   "outputs": [
    {
     "data": {
      "text/plain": [
       "{'criterion': 'gini',\n",
       " 'max_depth': 3,\n",
       " 'min_samples_leaf': 1,\n",
       " 'min_samples_split': 3,\n",
       " 'n_estimators': 85}"
      ]
     },
     "execution_count": 76,
     "metadata": {},
     "output_type": "execute_result"
    }
   ],
   "source": [
    "RF.best_params_ "
   ]
  },
  {
   "cell_type": "markdown",
   "id": "b3639ecb",
   "metadata": {},
   "source": [
    "### S1+T1"
   ]
  },
  {
   "cell_type": "code",
   "execution_count": 77,
   "id": "8051accc",
   "metadata": {},
   "outputs": [
    {
     "data": {
      "image/png": "[encoded data removed]",
      "text/plain": [
       "<Figure size 720x360 with 1 Axes>"
      ]
     },
     "metadata": {
      "needs_background": "light"
     },
     "output_type": "display_data"
    }
   ],
   "source": [
    "y_pred_s1 = RF.predict(X_s1)\n",
    "y_pred_t1 = RF.predict(X_t1)\n",
    "\n",
    "# Numbers of pairs of bars you want\n",
    "N = 3\n",
    "\n",
    "# Data on X-axis\n",
    "\n",
    "# Specify the values of blue bars (height)\n",
    "blue_bar = (np.count_nonzero(y_pred_t1==1), np.count_nonzero(y_pred_t1==2), np.count_nonzero(y_pred_t1==3))\n",
    "# Specify the values of orange bars (height)\n",
    "orange_bar = (np.count_nonzero(y_t1==1), np.count_nonzero(y_t1==2), np.count_nonzero(y_t1==3))\n",
    "\n",
    "# Position of bars on x-axis\n",
    "ind = np.arange(N)\n",
    "\n",
    "# Figure size\n",
    "plt.figure(figsize=(10, 5))\n",
    "\n",
    "# Width of a bar \n",
    "width = 0.3       \n",
    "\n",
    "# Plotting\n",
    "plt.bar(ind, blue_bar , width, label='Blue bar label')\n",
    "plt.bar(ind + width, orange_bar, width, label='Orange bar label')\n",
    "\n",
    "plt.xlabel('Here goes x-axis label')\n",
    "plt.ylabel('Here goes y-axis label')\n",
    "plt.title('Here goes title of the plot')\n",
    "\n",
    "# xticks()\n",
    "# First argument - A list of positions at which ticks should be placed\n",
    "# Second argument -  A list of labels to place at the given locations\n",
    "plt.xticks(ind + width / 2, ('Xtick1', 'Xtick2', 'Xtick3'))\n",
    "\n",
    "# Finding the best position for legends and putting it\n",
    "plt.legend(loc='best')\n",
    "plt.show()"
   ]
  },
  {
   "cell_type": "code",
   "execution_count": 78,
   "id": "ce7b7da8",
   "metadata": {},
   "outputs": [
    {
     "name": "stdout",
     "output_type": "stream",
     "text": [
      "0.9835390946502057 0.9755102040816327\n",
      "245\n",
      "243 None\n"
     ]
    }
   ],
   "source": [
    "y_pred_s1 = RF.predict(X_s1)\n",
    "y_pred_t1 = RF.predict(X_t1)\n",
    "class0_t1 = y_t1[y_pred_t1 == 3]\n",
    "class0_s1 = y_s1[y_pred_s1 == 3]\n",
    "print(len(class0_t1)/len(y_pred_t1), len(class0_s1)/len(y_pred_s1))\n",
    "print(len(y_pred_t1),print(len(y_pred_s1)))"
   ]
  },
  {
   "cell_type": "code",
   "execution_count": 79,
   "id": "a581c08e",
   "metadata": {},
   "outputs": [
    {
     "name": "stdout",
     "output_type": "stream",
     "text": [
      "(0.08368200836820083, 0.2217573221757322, 0.694560669456067)\n",
      "(0.0794979079497908, 0.22594142259414227, 0.694560669456067)\n"
     ]
    },
    {
     "data": {
      "image/png": "[encoded data removed]",
      "text/plain": [
       "<Figure size 720x360 with 1 Axes>"
      ]
     },
     "metadata": {
      "needs_background": "light"
     },
     "output_type": "display_data"
    }
   ],
   "source": [
    "### predicted class-0\n",
    "y_pred_s1 = RF.predict(X_s1)\n",
    "y_pred_t1 = RF.predict(X_t1)\n",
    "class0_t1 = y_t1[y_pred_t1 == 3]\n",
    "class0_s1 = y_s1[y_pred_s1 == 3]\n",
    "# Numbers of pairs of bars you want\n",
    "N = 3\n",
    "\n",
    "# Data on X-axis\n",
    "\n",
    "# Specify the values of blue bars (height)\n",
    "blue_bar = (np.count_nonzero(class0_t1==1)/len(class0_t1), \n",
    "            np.count_nonzero(class0_t1==2)/len(class0_t1), np.count_nonzero(class0_t1==3)/len(class0_t1))\n",
    "# Specify the values of orange bars (height)\n",
    "orange_bar = (np.count_nonzero(class0_s1==1)/len(class0_s1), \n",
    "            np.count_nonzero(class0_s1==2)/len(class0_s1), np.count_nonzero(class0_s1==3)/len(class0_s1))\n",
    "\n",
    "print(blue_bar)\n",
    "print(orange_bar)\n",
    "\n",
    "# Position of bars on x-axis\n",
    "ind = np.arange(N)\n",
    "\n",
    "# Figure size\n",
    "plt.figure(figsize=(10, 5))\n",
    "\n",
    "# Width of a bar \n",
    "width = 0.3       \n",
    "\n",
    "# Plotting\n",
    "plt.bar(ind, blue_bar , width, label='Human Condition')\n",
    "plt.bar(ind + width, orange_bar, width, label='Machine Condition')\n",
    "\n",
    "plt.xlabel('Advice-Giving Type')\n",
    "plt.ylabel('Percentage')\n",
    "plt.title('Actual Advice-Giving Type with Predicted Type-3')\n",
    "\n",
    "\n",
    "plt.xticks(ind + width / 2, ('Type 1', 'Type 2', 'Type 3'))\n",
    "\n",
    "plt.legend(loc='best')\n",
    "plt.savefig(\"type-3.pdf\",dpi=300);"
   ]
  },
  {
   "cell_type": "code",
   "execution_count": 83,
   "id": "02d498b1",
   "metadata": {},
   "outputs": [
    {
     "data": {
      "image/png": "[encoded data removed]",
      "text/plain": [
       "<Figure size 432x288 with 1 Axes>"
      ]
     },
     "metadata": {
      "needs_background": "light"
     },
     "output_type": "display_data"
    }
   ],
   "source": [
    "sum_of_squares(RF)"
   ]
  },
  {
   "cell_type": "code",
   "execution_count": 106,
   "id": "132370d1",
   "metadata": {},
   "outputs": [
    {
     "name": "stdout",
     "output_type": "stream",
     "text": [
      "Cluster centers for all the groups\n",
      "[[0.0843076  0.30014509 0.61554731]\n",
      " [0.04589028 0.20764485 0.74646487]\n",
      " [0.13510458 0.21286122 0.6520342 ]\n",
      " [0.13000809 0.38244549 0.48754641]\n",
      " [0.23460871 0.28820735 0.47718394]]\n"
     ]
    },
    {
     "data": {
      "text/html": [
       "<div>\n",
       "<style scoped>\n",
       "    .dataframe tbody tr th:only-of-type {\n",
       "        vertical-align: middle;\n",
       "    }\n",
       "\n",
       "    .dataframe tbody tr th {\n",
       "        vertical-align: top;\n",
       "    }\n",
       "\n",
       "    .dataframe thead th {\n",
       "        text-align: right;\n",
       "    }\n",
       "</style>\n",
       "<table border=\"1\" class=\"dataframe\">\n",
       "  <thead>\n",
       "    <tr style=\"text-align: right;\">\n",
       "      <th></th>\n",
       "      <th>0</th>\n",
       "      <th>1</th>\n",
       "      <th>2</th>\n",
       "      <th>class</th>\n",
       "      <th>ResponseId</th>\n",
       "      <th>average score</th>\n",
       "      <th>cluster</th>\n",
       "    </tr>\n",
       "  </thead>\n",
       "  <tbody>\n",
       "    <tr>\n",
       "      <th>0</th>\n",
       "      <td>0.037287</td>\n",
       "      <td>0.177157</td>\n",
       "      <td>0.785556</td>\n",
       "      <td>s1</td>\n",
       "      <td>R_09f8RCjNyCadwPv</td>\n",
       "      <td>33.000000</td>\n",
       "      <td>1</td>\n",
       "    </tr>\n",
       "    <tr>\n",
       "      <th>1</th>\n",
       "      <td>0.043620</td>\n",
       "      <td>0.282210</td>\n",
       "      <td>0.674170</td>\n",
       "      <td>s1</td>\n",
       "      <td>R_0OFNLlTMtF6YuXf</td>\n",
       "      <td>33.833333</td>\n",
       "      <td>0</td>\n",
       "    </tr>\n",
       "    <tr>\n",
       "      <th>2</th>\n",
       "      <td>0.088619</td>\n",
       "      <td>0.340311</td>\n",
       "      <td>0.571069</td>\n",
       "      <td>s1</td>\n",
       "      <td>R_0SrUdDhR075sWyZ</td>\n",
       "      <td>32.000000</td>\n",
       "      <td>0</td>\n",
       "    </tr>\n",
       "    <tr>\n",
       "      <th>3</th>\n",
       "      <td>0.238481</td>\n",
       "      <td>0.275564</td>\n",
       "      <td>0.485955</td>\n",
       "      <td>s1</td>\n",
       "      <td>R_0dkmFxzVGbM4H17</td>\n",
       "      <td>35.333333</td>\n",
       "      <td>4</td>\n",
       "    </tr>\n",
       "    <tr>\n",
       "      <th>4</th>\n",
       "      <td>0.203538</td>\n",
       "      <td>0.195295</td>\n",
       "      <td>0.601167</td>\n",
       "      <td>s1</td>\n",
       "      <td>R_0kTTXuzLnqZsQzT</td>\n",
       "      <td>32.166667</td>\n",
       "      <td>2</td>\n",
       "    </tr>\n",
       "    <tr>\n",
       "      <th>...</th>\n",
       "      <td>...</td>\n",
       "      <td>...</td>\n",
       "      <td>...</td>\n",
       "      <td>...</td>\n",
       "      <td>...</td>\n",
       "      <td>...</td>\n",
       "      <td>...</td>\n",
       "    </tr>\n",
       "    <tr>\n",
       "      <th>483</th>\n",
       "      <td>0.122816</td>\n",
       "      <td>0.349472</td>\n",
       "      <td>0.527712</td>\n",
       "      <td>t1</td>\n",
       "      <td>R_wZ8QFIOF6tAu7aV</td>\n",
       "      <td>34.000000</td>\n",
       "      <td>3</td>\n",
       "    </tr>\n",
       "    <tr>\n",
       "      <th>484</th>\n",
       "      <td>0.054912</td>\n",
       "      <td>0.212660</td>\n",
       "      <td>0.732428</td>\n",
       "      <td>t1</td>\n",
       "      <td>R_yZJ03FFfe8jfazn</td>\n",
       "      <td>29.833333</td>\n",
       "      <td>1</td>\n",
       "    </tr>\n",
       "    <tr>\n",
       "      <th>485</th>\n",
       "      <td>0.119276</td>\n",
       "      <td>0.246750</td>\n",
       "      <td>0.633974</td>\n",
       "      <td>t1</td>\n",
       "      <td>R_ykkhkGYu1KpIM8h</td>\n",
       "      <td>33.000000</td>\n",
       "      <td>2</td>\n",
       "    </tr>\n",
       "    <tr>\n",
       "      <th>486</th>\n",
       "      <td>0.075555</td>\n",
       "      <td>0.239671</td>\n",
       "      <td>0.684774</td>\n",
       "      <td>t1</td>\n",
       "      <td>R_ym9gyf6T2XORxAt</td>\n",
       "      <td>35.666667</td>\n",
       "      <td>2</td>\n",
       "    </tr>\n",
       "    <tr>\n",
       "      <th>487</th>\n",
       "      <td>0.156490</td>\n",
       "      <td>0.338380</td>\n",
       "      <td>0.505130</td>\n",
       "      <td>t1</td>\n",
       "      <td>R_zZQIbE0LFD13yRX</td>\n",
       "      <td>36.000000</td>\n",
       "      <td>3</td>\n",
       "    </tr>\n",
       "  </tbody>\n",
       "</table>\n",
       "<p>488 rows × 7 columns</p>\n",
       "</div>"
      ],
      "text/plain": [
       "            0         1         2 class         ResponseId  average score  \\\n",
       "0    0.037287  0.177157  0.785556    s1  R_09f8RCjNyCadwPv      33.000000   \n",
       "1    0.043620  0.282210  0.674170    s1  R_0OFNLlTMtF6YuXf      33.833333   \n",
       "2    0.088619  0.340311  0.571069    s1  R_0SrUdDhR075sWyZ      32.000000   \n",
       "3    0.238481  0.275564  0.485955    s1  R_0dkmFxzVGbM4H17      35.333333   \n",
       "4    0.203538  0.195295  0.601167    s1  R_0kTTXuzLnqZsQzT      32.166667   \n",
       "..        ...       ...       ...   ...                ...            ...   \n",
       "483  0.122816  0.349472  0.527712    t1  R_wZ8QFIOF6tAu7aV      34.000000   \n",
       "484  0.054912  0.212660  0.732428    t1  R_yZJ03FFfe8jfazn      29.833333   \n",
       "485  0.119276  0.246750  0.633974    t1  R_ykkhkGYu1KpIM8h      33.000000   \n",
       "486  0.075555  0.239671  0.684774    t1  R_ym9gyf6T2XORxAt      35.666667   \n",
       "487  0.156490  0.338380  0.505130    t1  R_zZQIbE0LFD13yRX      36.000000   \n",
       "\n",
       "     cluster  \n",
       "0          1  \n",
       "1          0  \n",
       "2          0  \n",
       "3          4  \n",
       "4          2  \n",
       "..       ...  \n",
       "483        3  \n",
       "484        1  \n",
       "485        2  \n",
       "486        2  \n",
       "487        3  \n",
       "\n",
       "[488 rows x 7 columns]"
      ]
     },
     "execution_count": 106,
     "metadata": {},
     "output_type": "execute_result"
    }
   ],
   "source": [
    "df_rf = constructing_df(RF, 5)\n",
    "clustering_label(df_rf, 5)"
   ]
  },
  {
   "cell_type": "code",
   "execution_count": 107,
   "id": "68bacc34",
   "metadata": {},
   "outputs": [
    {
     "data": {
      "image/png": "[encoded data removed]",
      "text/plain": [
       "<Figure size 432x432 with 1 Axes>"
      ]
     },
     "metadata": {},
     "output_type": "display_data"
    }
   ],
   "source": [
    "plotting_label(df_rf, 5)"
   ]
  },
  {
   "cell_type": "code",
   "execution_count": 129,
   "id": "2ea77216",
   "metadata": {},
   "outputs": [
    {
     "name": "stderr",
     "output_type": "stream",
     "text": [
      "No handles with labels found to put in legend.\n"
     ]
    },
    {
     "data": {
      "image/png": "[encoded data removed]",
      "text/plain": [
       "<Figure size 432x432 with 1 Axes>"
      ]
     },
     "metadata": {},
     "output_type": "display_data"
    },
    {
     "name": "stderr",
     "output_type": "stream",
     "text": [
      "No handles with labels found to put in legend.\n"
     ]
    },
    {
     "data": {
      "image/png": "[encoded data removed]",
      "text/plain": [
       "<Figure size 432x432 with 1 Axes>"
      ]
     },
     "metadata": {},
     "output_type": "display_data"
    },
    {
     "name": "stderr",
     "output_type": "stream",
     "text": [
      "No handles with labels found to put in legend.\n"
     ]
    },
    {
     "data": {
      "image/png": "[encoded data removed]",
      "text/plain": [
       "<Figure size 432x432 with 1 Axes>"
      ]
     },
     "metadata": {},
     "output_type": "display_data"
    },
    {
     "name": "stderr",
     "output_type": "stream",
     "text": [
      "No handles with labels found to put in legend.\n"
     ]
    },
    {
     "data": {
      "image/png": "[encoded data removed]",
      "text/plain": [
       "<Figure size 432x432 with 1 Axes>"
      ]
     },
     "metadata": {},
     "output_type": "display_data"
    },
    {
     "name": "stderr",
     "output_type": "stream",
     "text": [
      "No handles with labels found to put in legend.\n"
     ]
    },
    {
     "data": {
      "image/png": "[encoded data removed]",
      "text/plain": [
       "<Figure size 432x432 with 1 Axes>"
      ]
     },
     "metadata": {},
     "output_type": "display_data"
    }
   ],
   "source": [
    "comparing_performance(df_rf, 5)"
   ]
  },
  {
   "cell_type": "markdown",
   "id": "70ec4dbb",
   "metadata": {},
   "source": [
    "### ROC"
   ]
  },
  {
   "cell_type": "code",
   "execution_count": 85,
   "id": "6b555362",
   "metadata": {},
   "outputs": [
    {
     "data": {
      "image/png": "[encoded data removed]",
      "text/plain": [
       "<Figure size 432x288 with 1 Axes>"
      ]
     },
     "metadata": {},
     "output_type": "display_data"
    }
   ],
   "source": [
    "import matplotlib.pyplot as plt\n",
    "import seaborn as sns\n",
    "# plt.style.use('seaborn')\n",
    "\n",
    "from sklearn.metrics import roc_curve, confusion_matrix\n",
    "from sklearn.metrics import roc_auc_score\n",
    "\n",
    "pred = RF.predict(X_val)\n",
    "pred_prob = RF.predict_proba(X_val)\n",
    "fpr = {}\n",
    "tpr = {}\n",
    "thresh ={}\n",
    "n_class = 3\n",
    "\n",
    "for i in range(n_class):    \n",
    "    fpr[i], tpr[i], thresh[i] = roc_curve(y_val, pred_prob[:,i], pos_label=i+1)\n",
    "\n",
    "a = []\n",
    "classes = RF.classes_\n",
    "for i in range(len(classes)):\n",
    "    # Gets the class\n",
    "    c = classes[i]\n",
    "    \n",
    "    # Prepares an auxiliar dataframe to help with the plots\n",
    "    df_aux = X_val.copy()\n",
    "    df_aux['class'] = [1 if y == c else 0 for y in y_val]\n",
    "    df_aux['prob'] = pred_prob[:, i]\n",
    "    df_aux = df_aux.reset_index(drop = True)\n",
    "\n",
    "    \n",
    "    # Calculates the ROC AUC OvR\n",
    "    a.append(round(roc_auc_score(df_aux['class'], df_aux['prob']),3))\n",
    "#     print(roc_auc_score(df_aux['class'], df_aux['prob']))    \n",
    "    \n",
    "sns.set_style(\"white\")\n",
    "plt.plot(fpr[0], tpr[0], linestyle='-',color='orange', label=f'class-1 vs Rest {a[0]}')\n",
    "plt.plot(fpr[1], tpr[1], linestyle='-',color='green', label=f'class-2 vs Rest {a[1]}')\n",
    "plt.plot(fpr[2], tpr[2], linestyle='-',color='red', label=f'class-3 vs Rest {a[2]}')\n",
    "\n",
    "plt.title('Multiclass ROC curve using Random Forest (AUC)',)\n",
    "plt.xlabel('False Positive Rate',)\n",
    "plt.ylabel('True Positive Rate',)\n",
    "plt.tick_params(labelsize=15)\n",
    "sns.set(rc={'figure.figsize':(6,6)})\n",
    "plt.plot([0, 1], [0, 1], linestyle='--', lw=2, color='grey', label='Random guess')\n",
    "\n",
    "plt.legend(loc=\"lower right\")\n",
    "plt.savefig(\"RF.pdf\",dpi=300);"
   ]
  },
  {
   "cell_type": "code",
   "execution_count": null,
   "id": "b183a0c7",
   "metadata": {},
   "outputs": [
    {
     "name": "stdout",
     "output_type": "stream",
     "text": [
      "              precision    recall  f1-score   support\n",
      "\n",
      "     class 1       0.00      0.00      0.00         1\n",
      "     class 2       0.00      0.00      0.00        11\n",
      "     class 3       0.76      0.97      0.85        39\n",
      "\n",
      "    accuracy                           0.75        51\n",
      "   macro avg       0.25      0.32      0.28        51\n",
      "weighted avg       0.58      0.75      0.65        51\n",
      "\n"
     ]
    },
    {
     "name": "stderr",
     "output_type": "stream",
     "text": [
      "/Users/yuanruizhu/opt/anaconda3/lib/python3.8/site-packages/sklearn/metrics/_classification.py:1272: UndefinedMetricWarning: Precision and F-score are ill-defined and being set to 0.0 in labels with no predicted samples. Use `zero_division` parameter to control this behavior.\n",
      "  _warn_prf(average, modifier, msg_start, len(result))\n"
     ]
    }
   ],
   "source": [
    "from sklearn.metrics import classification_report\n",
    "y_true = y_val\n",
    "y_pred = RF.predict(X_val)\n",
    "target_names = ['class 1', 'class 2', 'class 3']\n",
    "print(classification_report(y_true, y_pred, target_names=target_names))"
   ]
  },
  {
   "cell_type": "markdown",
   "id": "1c2b2f48",
   "metadata": {},
   "source": [
    "### Feature Selection"
   ]
  },
  {
   "cell_type": "code",
   "execution_count": null,
   "id": "3df84d6b",
   "metadata": {},
   "outputs": [],
   "source": [
    "columns  = {\n",
    "    \"chef_chop_x\":\"number of chef chop 1\",\n",
    "    \"chef_chop_y\":\"number of chef chop 2\",\n",
    "    \"0\":\"changes of chef chop\",\n",
    "\n",
    "    \"chef_cook_x\":\"number of chef cook 1\",\n",
    "    \"chef_cook_y\":\"number of chef cook 2\",\n",
    "    \"1\":\"changes of chef cook\",\n",
    "\n",
    "    \"chef_plate_x\":\"number of chef plate 1\",\n",
    "    \"chef_plate_y\":\"number of chef plate 2\",\n",
    "    \"2\":\"changes of chef plate\",\n",
    "\n",
    "    \"sou_chop_x\":\"number of sou-chef chop 1\",\n",
    "    \"sou_chop_y\":\"number of sou-chef chop 2\",\n",
    "    \"3\":\"changes of sou-chef chop\",\n",
    "\n",
    "    \"sou_cook_x\":\"number of sou-chef cook 1\",\n",
    "    \"sou_cook_y\":\"number of sou-chef cook 2\",\n",
    "    \"4\":\"changes of sou-chef cook\",\n",
    "\n",
    "    \"sou_plate_x\":\"number of sou-chef plate 1\",\n",
    "    \"sou_plate_y\":\"number of sou-chef plate 2\",\n",
    "    \"5\":\"changes of sou-chef plate\",\n",
    "\n",
    "    \"server_chop_x\":\"number of server chop 1\",\n",
    "    \"server_chop_y\":\"number of server chop 2\",\n",
    "    \"6\":\"changes of server chop\",\n",
    "\n",
    "    \"server_cook_x\":\"number of server cook 1\",\n",
    "    \"server_cook_y\":\"number of server cook 2\",\n",
    "    \"7\":\"changes of server cook\",\n",
    "\n",
    "    \"server_plate_x\":\"number of server plate 1\",\n",
    "    \"server_plate_y\":\"number of server plate 2\",\n",
    "    \"8\":\"changes of server plate\",\n",
    "\n",
    "    \"idle_x\":\"number of idle 1\",\n",
    "    \"idle_y\":\"number of idle 2\",\n",
    "    \"9\":\"changes of idle\",\n",
    "}\n",
    "\n",
    "X_train = X_train.rename(columns = columns)"
   ]
  },
  {
   "cell_type": "code",
   "execution_count": null,
   "id": "77da8469",
   "metadata": {},
   "outputs": [
    {
     "data": {
      "image/png": "[encoded data removed]",
      "text/plain": [
       "<Figure size 3600x3600 with 1 Axes>"
      ]
     },
     "metadata": {},
     "output_type": "display_data"
    }
   ],
   "source": [
    "# {'criterion': 'gini',\n",
    "#  'max_depth': 5,\n",
    "#  'min_samples_leaf': 2,\n",
    "#  'min_samples_split': 5,\n",
    "#  'n_estimators': 100}\n",
    "clf = RandomForestClassifier(criterion='gini', max_depth=5, min_samples_leaf=2, min_samples_split=5, n_estimators=100, random_state=42)\n",
    "clf.fit(X_train, y_train)\n",
    "feature_scores = pd.Series(clf.feature_importances_, index=X_train.columns).sort_values(ascending=False)\n",
    "\n",
    "# Creating a seaborn bar plot\n",
    "sns.set(font_scale=3)\n",
    "f, ax = plt.subplots(figsize=(50, 50))\n",
    "ax = sns.barplot(x=feature_scores, y=feature_scores.index, data=df, capsize=1.5)\n",
    "ax.set_title(\"Visualize feature scores of the features\", fontsize=50)\n",
    "ax.set_yticklabels(feature_scores.index)\n",
    "ax.set_xlabel(\"Feature importance score\", fontsize=50)\n",
    "ax.set_ylabel(\"Features\", fontsize=50)\n",
    "plt.show()\n",
    "fig = ax.get_figure()\n",
    "fig.savefig(\"feature_importance-naive.pdf\",dpi=300);\n"
   ]
  },
  {
   "cell_type": "markdown",
   "id": "99b31c82",
   "metadata": {},
   "source": [
    "### SVM"
   ]
  },
  {
   "cell_type": "code",
   "execution_count": null,
   "id": "58322791",
   "metadata": {},
   "outputs": [],
   "source": [
    "from sklearn import svm\n",
    "from sklearn.preprocessing import StandardScaler\n",
    "from sklearn.svm import SVC"
   ]
  },
  {
   "cell_type": "code",
   "execution_count": null,
   "id": "58df6a6c",
   "metadata": {},
   "outputs": [
    {
     "data": {
      "text/plain": [
       "0.7647058823529411"
      ]
     },
     "execution_count": 214,
     "metadata": {},
     "output_type": "execute_result"
    }
   ],
   "source": [
    "from sklearn import svm\n",
    "from sklearn.preprocessing import StandardScaler\n",
    "from sklearn.svm import SVC\n",
    "\n",
    "clf2 = SVC(probability=True, random_state=42, kernel='rbf')\n",
    "clf2.fit(X_train, y_train)\n",
    "\n",
    "param_grid = { \n",
    "    'C': [0.1, 0.5, 1, 2, 3, 4, 5],\n",
    "    'gamma': [0.001, 0.01, 0.1, 0.5, 1, 10, 100]\n",
    "}\n",
    "\n",
    "SVC = GridSearchCV(estimator=clf2, param_grid = param_grid, cv=5)\n",
    "SVC.fit(X_train, y_train)\n",
    "SVC.score(X_val, y_val)\n"
   ]
  },
  {
   "cell_type": "code",
   "execution_count": null,
   "id": "1482d029",
   "metadata": {},
   "outputs": [
    {
     "data": {
      "text/plain": [
       "{'C': 0.1, 'gamma': 0.001}"
      ]
     },
     "execution_count": 215,
     "metadata": {},
     "output_type": "execute_result"
    }
   ],
   "source": [
    "SVC.best_params_"
   ]
  },
  {
   "cell_type": "code",
   "execution_count": null,
   "id": "f00b7c47",
   "metadata": {},
   "outputs": [
    {
     "data": {
      "image/png": "[encoded data removed]",
      "text/plain": [
       "<Figure size 432x432 with 1 Axes>"
      ]
     },
     "metadata": {},
     "output_type": "display_data"
    }
   ],
   "source": [
    "sum_of_squares(SVC)"
   ]
  },
  {
   "cell_type": "code",
   "execution_count": null,
   "id": "e74db74f",
   "metadata": {},
   "outputs": [
    {
     "data": {
      "image/png": "[encoded data removed]",
      "text/plain": [
       "<Figure size 432x432 with 1 Axes>"
      ]
     },
     "metadata": {},
     "output_type": "display_data"
    }
   ],
   "source": [
    "df_svc = clustering_label(SVC, 5)\n",
    "plotting_label(df_svc, 5)"
   ]
  },
  {
   "cell_type": "markdown",
   "id": "228f459e",
   "metadata": {},
   "source": [
    "### ROC"
   ]
  },
  {
   "cell_type": "code",
   "execution_count": null,
   "id": "7e6344fb",
   "metadata": {},
   "outputs": [
    {
     "data": {
      "image/png": "[encoded data removed]",
      "text/plain": [
       "<Figure size 432x432 with 1 Axes>"
      ]
     },
     "metadata": {},
     "output_type": "display_data"
    }
   ],
   "source": [
    "import matplotlib.pyplot as plt\n",
    "import seaborn as sns\n",
    "# plt.style.use('seaborn')\n",
    "\n",
    "from sklearn.metrics import roc_curve, confusion_matrix\n",
    "from sklearn.metrics import roc_auc_score\n",
    "\n",
    "pred = SVC.predict(X_val)\n",
    "pred_prob = SVC.predict_proba(X_val)\n",
    "fpr = {}\n",
    "tpr = {}\n",
    "thresh ={}\n",
    "n_class = 3\n",
    "\n",
    "for i in range(n_class):    \n",
    "    fpr[i], tpr[i], thresh[i] = roc_curve(y_val, pred_prob[:,i], pos_label=i+1)\n",
    "\n",
    "a = []\n",
    "classes = RF.classes_\n",
    "for i in range(len(classes)):\n",
    "    # Gets the class\n",
    "    c = classes[i]\n",
    "    \n",
    "    # Prepares an auxiliar dataframe to help with the plots\n",
    "    df_aux = X_val.copy()\n",
    "    df_aux['class'] = [1 if y == c else 0 for y in y_val]\n",
    "    df_aux['prob'] = pred_prob[:, i]\n",
    "    df_aux = df_aux.reset_index(drop = True)\n",
    "\n",
    "    \n",
    "    # Calculates the ROC AUC OvR\n",
    "    a.append(round(roc_auc_score(df_aux['class'], df_aux['prob']),3))\n",
    "#     print(roc_auc_score(df_aux['class'], df_aux['prob']))    \n",
    "    \n",
    "sns.set_style(\"white\")\n",
    "plt.plot(fpr[0], tpr[0], linestyle='-',color='orange', label=f'class-1 vs Rest {a[0]}')\n",
    "plt.plot(fpr[1], tpr[1], linestyle='-',color='green', label=f'class-2 vs Rest {a[1]}')\n",
    "plt.plot(fpr[2], tpr[2], linestyle='-',color='red', label=f'class-3 vs Rest {a[2]}')\n",
    "\n",
    "plt.title('Multiclass ROC curve using SVC (AUC)',fontsize=15)\n",
    "plt.xlabel('False Positive Rate',fontsize=15)\n",
    "plt.ylabel('True Positive Rate',fontsize=15)\n",
    "plt.tick_params(labelsize=15)\n",
    "sns.set(rc={'figure.figsize':(6,6)})\n",
    "plt.plot([0, 1], [0, 1], linestyle='--', lw=2, color='grey', label='Random guess')\n",
    "# plt.legend(loc='best',fontsize=10)\n",
    "plt.legend(loc=\"lower right\", fontsize=10)\n",
    "plt.savefig(\"SVC.pdf\",dpi=300);"
   ]
  },
  {
   "cell_type": "markdown",
   "id": "e736ab99",
   "metadata": {},
   "source": [
    "### Decision Tree"
   ]
  },
  {
   "cell_type": "code",
   "execution_count": null,
   "id": "de2d3507",
   "metadata": {},
   "outputs": [],
   "source": [
    "from sklearn.tree import DecisionTreeClassifier"
   ]
  },
  {
   "cell_type": "code",
   "execution_count": null,
   "id": "8824d843",
   "metadata": {},
   "outputs": [],
   "source": [
    "param_grid = { \n",
    "    \"criterion\": [\"entropy\", \"gini\"],\n",
    "    \"max_depth\": [3,4,5,6,7,8],\n",
    "    'min_samples_split': [3,4,5,6],\n",
    "    'min_samples_leaf':  [1,2,3,4,5,6],\n",
    "}"
   ]
  },
  {
   "cell_type": "code",
   "execution_count": null,
   "id": "c1a07c72",
   "metadata": {},
   "outputs": [],
   "source": [
    "decision_tree = DecisionTreeClassifier(random_state=42)\n",
    "decision_tree = decision_tree.fit(X_train, y_train)"
   ]
  },
  {
   "cell_type": "code",
   "execution_count": null,
   "id": "23070a68",
   "metadata": {},
   "outputs": [
    {
     "data": {
      "text/plain": [
       "GridSearchCV(cv=5, error_score=nan,\n",
       "             estimator=DecisionTreeClassifier(ccp_alpha=0.0, class_weight=None,\n",
       "                                              criterion='gini', max_depth=None,\n",
       "                                              max_features=None,\n",
       "                                              max_leaf_nodes=None,\n",
       "                                              min_impurity_decrease=0.0,\n",
       "                                              min_impurity_split=None,\n",
       "                                              min_samples_leaf=1,\n",
       "                                              min_samples_split=2,\n",
       "                                              min_weight_fraction_leaf=0.0,\n",
       "                                              presort='deprecated',\n",
       "                                              random_state=42,\n",
       "                                              splitter='best'),\n",
       "             iid='deprecated', n_jobs=None,\n",
       "             param_grid={'criterion': ['entropy', 'gini'],\n",
       "                         'max_depth': [3, 4, 5, 6, 7, 8],\n",
       "                         'min_samples_leaf': [1, 2, 3, 4, 5, 6],\n",
       "                         'min_samples_split': [3, 4, 5, 6]},\n",
       "             pre_dispatch='2*n_jobs', refit=True, return_train_score=False,\n",
       "             scoring=None, verbose=0)"
      ]
     },
     "execution_count": 222,
     "metadata": {},
     "output_type": "execute_result"
    }
   ],
   "source": [
    "DT = GridSearchCV(estimator=decision_tree, param_grid = param_grid, cv=5)\n",
    "DT.fit(X_train, y_train)"
   ]
  },
  {
   "cell_type": "code",
   "execution_count": null,
   "id": "95905191",
   "metadata": {},
   "outputs": [
    {
     "data": {
      "text/plain": [
       "{'criterion': 'entropy',\n",
       " 'max_depth': 3,\n",
       " 'min_samples_leaf': 4,\n",
       " 'min_samples_split': 3}"
      ]
     },
     "execution_count": 223,
     "metadata": {},
     "output_type": "execute_result"
    }
   ],
   "source": [
    "DT.best_params_"
   ]
  },
  {
   "cell_type": "code",
   "execution_count": null,
   "id": "6cc24169",
   "metadata": {},
   "outputs": [
    {
     "data": {
      "text/plain": [
       "0.6274509803921569"
      ]
     },
     "execution_count": 225,
     "metadata": {},
     "output_type": "execute_result"
    }
   ],
   "source": [
    "# Below the baseline\n",
    "\n",
    "DT.score(X_val, y_val)"
   ]
  },
  {
   "cell_type": "code",
   "execution_count": null,
   "id": "68dabe6c",
   "metadata": {},
   "outputs": [
    {
     "data": {
      "image/png": "[encoded data removed]",
      "text/plain": [
       "<Figure size 432x432 with 1 Axes>"
      ]
     },
     "metadata": {},
     "output_type": "display_data"
    }
   ],
   "source": [
    "sum_of_squares(DT)"
   ]
  },
  {
   "cell_type": "code",
   "execution_count": null,
   "id": "7123e23a",
   "metadata": {},
   "outputs": [
    {
     "data": {
      "image/png": "[encoded data removed]",
      "text/plain": [
       "<Figure size 432x432 with 1 Axes>"
      ]
     },
     "metadata": {},
     "output_type": "display_data"
    }
   ],
   "source": [
    "df_dt =  clustering_label(DT, 5)\n",
    "plotting_label(df_dt, 5)"
   ]
  },
  {
   "cell_type": "markdown",
   "id": "63158b72",
   "metadata": {},
   "source": [
    "### ROC"
   ]
  },
  {
   "cell_type": "code",
   "execution_count": null,
   "id": "f7f73ae2",
   "metadata": {},
   "outputs": [
    {
     "data": {
      "image/png": "[encoded data removed]",
      "text/plain": [
       "<Figure size 432x432 with 1 Axes>"
      ]
     },
     "metadata": {},
     "output_type": "display_data"
    }
   ],
   "source": [
    "import matplotlib.pyplot as plt\n",
    "import seaborn as sns\n",
    "# plt.style.use('seaborn')\n",
    "\n",
    "from sklearn.metrics import roc_curve, confusion_matrix\n",
    "from sklearn.metrics import roc_auc_score\n",
    "\n",
    "pred = DT.predict(X_val)\n",
    "pred_prob = DT.predict_proba(X_val)\n",
    "fpr = {}\n",
    "tpr = {}\n",
    "thresh ={}\n",
    "n_class = 3\n",
    "\n",
    "for i in range(n_class):    \n",
    "    fpr[i], tpr[i], thresh[i] = roc_curve(y_val, pred_prob[:,i], pos_label=i+1)\n",
    "\n",
    "a = []\n",
    "classes = clf.classes_\n",
    "for i in range(len(classes)):\n",
    "    # Gets the class\n",
    "    c = classes[i]\n",
    "    \n",
    "    # Prepares an auxiliar dataframe to help with the plots\n",
    "    df_aux = X_val.copy()\n",
    "    df_aux['class'] = [1 if y == c else 0 for y in y_val]\n",
    "    df_aux['prob'] = pred_prob[:, i]\n",
    "    df_aux = df_aux.reset_index(drop = True)\n",
    "\n",
    "    \n",
    "    # Calculates the ROC AUC OvR\n",
    "    a.append(round(roc_auc_score(df_aux['class'], df_aux['prob']),3))\n",
    "#     print(roc_auc_score(df_aux['class'], df_aux['prob']))    \n",
    "    \n",
    "sns.set_style(\"white\")\n",
    "plt.plot(fpr[0], tpr[0], linestyle='-',color='orange', label=f'class-1 vs Rest {a[0]}')\n",
    "plt.plot(fpr[1], tpr[1], linestyle='-',color='green', label=f'class-2 vs Rest {a[1]}')\n",
    "plt.plot(fpr[2], tpr[2], linestyle='-',color='red', label=f'class-3 vs Rest {a[2]}')\n",
    "\n",
    "plt.title('Multiclass ROC curve using Decision Tree (AUC)',fontsize=15)\n",
    "plt.xlabel('False Positive Rate',fontsize=15)\n",
    "plt.ylabel('True Positive Rate',fontsize=15)\n",
    "plt.tick_params(labelsize=15)\n",
    "sns.set(rc={'figure.figsize':(6,6)})\n",
    "plt.plot([0, 1], [0, 1], linestyle='--', lw=2, color='grey', label='Random guess')\n",
    "# plt.legend(loc='best',fontsize=10)\n",
    "plt.legend(loc=\"lower right\", fontsize=10)\n",
    "plt.savefig(\"DT.pdf\",dpi=300);"
   ]
  },
  {
   "cell_type": "markdown",
   "id": "d6e8f252",
   "metadata": {},
   "source": [
    "### XGBoost"
   ]
  },
  {
   "cell_type": "code",
   "execution_count": null,
   "id": "5132dd9d",
   "metadata": {},
   "outputs": [
    {
     "name": "stdout",
     "output_type": "stream",
     "text": [
      "Requirement already satisfied: xgboost in /Users/yuanruizhu/opt/anaconda3/lib/python3.8/site-packages (1.7.1)\n",
      "Requirement already satisfied: numpy in /Users/yuanruizhu/opt/anaconda3/lib/python3.8/site-packages (from xgboost) (1.18.5)\n",
      "Requirement already satisfied: scipy in /Users/yuanruizhu/opt/anaconda3/lib/python3.8/site-packages (from xgboost) (1.8.1)\n"
     ]
    }
   ],
   "source": [
    "!pip install xgboost\n",
    "import xgboost as xgb"
   ]
  },
  {
   "cell_type": "code",
   "execution_count": null,
   "id": "49f0a80d",
   "metadata": {},
   "outputs": [
    {
     "data": {
      "text/plain": [
       "XGBClassifier(base_score=0.5, booster='gbtree', callbacks=None,\n",
       "              colsample_bylevel=1, colsample_bynode=1, colsample_bytree=1,\n",
       "              early_stopping_rounds=None, enable_categorical=False,\n",
       "              eval_metric=None, feature_types=None, gamma=0, gpu_id=-1,\n",
       "              grow_policy='depthwise', importance_type=None,\n",
       "              interaction_constraints='', learning_rate=0.300000012,\n",
       "              max_bin=256, max_cat_threshold=64, max_cat_to_onehot=4,\n",
       "              max_delta_step=0, max_depth=6, max_leaves=0, min_child_weight=1,\n",
       "              missing=nan, monotone_constraints='()', n_estimators=100,\n",
       "              n_jobs=0, num_parallel_tree=1, objective='multi:softprob',\n",
       "              predictor='auto', ...)"
      ]
     },
     "execution_count": 230,
     "metadata": {},
     "output_type": "execute_result"
    }
   ],
   "source": [
    "from sklearn.preprocessing import LabelEncoder\n",
    "le = LabelEncoder()\n",
    "y_train = le.fit_transform(y_train)\n",
    "\n",
    "param_grid = { \n",
    "    'n_estimators': [80,90,100,105,110,115],\n",
    "    'learning_rate': [0.0001, 0.001, 0.005, 0.01, 0.05, 0.1],\n",
    "    'max_depth':[3,4,5]\n",
    "}\n",
    "xgb_model = xgb.XGBClassifier(objective=\"multi:softprob\", random_state=42)\n",
    "xgb_model.fit(X_train.values, y_train)"
   ]
  },
  {
   "cell_type": "code",
   "execution_count": null,
   "id": "a67918ca",
   "metadata": {},
   "outputs": [
    {
     "data": {
      "text/plain": [
       "GridSearchCV(cv=5, error_score=nan,\n",
       "             estimator=XGBClassifier(base_score=0.5, booster='gbtree',\n",
       "                                     callbacks=None, colsample_bylevel=1,\n",
       "                                     colsample_bynode=1, colsample_bytree=1,\n",
       "                                     early_stopping_rounds=None,\n",
       "                                     enable_categorical=False, eval_metric=None,\n",
       "                                     feature_types=None, gamma=0, gpu_id=-1,\n",
       "                                     grow_policy='depthwise',\n",
       "                                     importance_type=None,\n",
       "                                     interaction_constraints='',\n",
       "                                     learning_...\n",
       "                                     missing=nan, monotone_constraints='()',\n",
       "                                     n_estimators=100, n_jobs=0,\n",
       "                                     num_parallel_tree=1,\n",
       "                                     objective='multi:softprob',\n",
       "                                     predictor='auto', ...),\n",
       "             iid='deprecated', n_jobs=None,\n",
       "             param_grid={'learning_rate': [0.0001, 0.001, 0.005, 0.01, 0.05,\n",
       "                                           0.1],\n",
       "                         'max_depth': [3, 4, 5],\n",
       "                         'n_estimators': [80, 90, 100, 105, 110, 115]},\n",
       "             pre_dispatch='2*n_jobs', refit=True, return_train_score=False,\n",
       "             scoring=None, verbose=0)"
      ]
     },
     "execution_count": 231,
     "metadata": {},
     "output_type": "execute_result"
    }
   ],
   "source": [
    "XGB = GridSearchCV(estimator=xgb_model, param_grid = param_grid, cv=5)\n",
    "XGB.fit(X_train.values, y_train)"
   ]
  },
  {
   "cell_type": "code",
   "execution_count": null,
   "id": "d5e9756f",
   "metadata": {},
   "outputs": [
    {
     "data": {
      "text/plain": [
       "0.6078431372549019"
      ]
     },
     "execution_count": 232,
     "metadata": {},
     "output_type": "execute_result"
    }
   ],
   "source": [
    "# does not reach the baseline of 66.6%\n",
    "\n",
    "y_val = le.fit_transform(y_val)\n",
    "XGB.score(X_val.values, y_val)"
   ]
  },
  {
   "cell_type": "code",
   "execution_count": null,
   "id": "3487cf22",
   "metadata": {},
   "outputs": [
    {
     "data": {
      "text/plain": [
       "{'learning_rate': 0.0001, 'max_depth': 3, 'n_estimators': 80}"
      ]
     },
     "execution_count": 233,
     "metadata": {},
     "output_type": "execute_result"
    }
   ],
   "source": [
    "XGB.best_params_"
   ]
  },
  {
   "cell_type": "code",
   "execution_count": null,
   "id": "3d8fe0a9",
   "metadata": {},
   "outputs": [
    {
     "data": {
      "image/png": "[encoded data removed]",
      "text/plain": [
       "<Figure size 432x432 with 1 Axes>"
      ]
     },
     "metadata": {},
     "output_type": "display_data"
    }
   ],
   "source": [
    "sum_of_squares(XGB)"
   ]
  },
  {
   "cell_type": "code",
   "execution_count": null,
   "id": "6f504ea7",
   "metadata": {},
   "outputs": [
    {
     "data": {
      "image/png": "[encoded data removed]",
      "text/plain": [
       "<Figure size 432x432 with 1 Axes>"
      ]
     },
     "metadata": {},
     "output_type": "display_data"
    }
   ],
   "source": [
    "df_sgb = clustering_label(XGB, 4)\n",
    "plotting_label(df_sgb, 4)"
   ]
  },
  {
   "cell_type": "markdown",
   "id": "2bea877d",
   "metadata": {},
   "source": [
    "### ROC"
   ]
  },
  {
   "cell_type": "code",
   "execution_count": null,
   "id": "51057122",
   "metadata": {},
   "outputs": [
    {
     "name": "stderr",
     "output_type": "stream",
     "text": [
      "/Users/yuanruizhu/opt/anaconda3/lib/python3.8/site-packages/sklearn/metrics/_ranking.py:806: UndefinedMetricWarning: No positive samples in y_true, true positive value should be meaningless\n",
      "  warnings.warn(\"No positive samples in y_true, \"\n"
     ]
    },
    {
     "ename": "ValueError",
     "evalue": "Only one class present in y_true. ROC AUC score is not defined in that case.",
     "output_type": "error",
     "traceback": [
      "\u001b[0;31m---------------------------------------------------------------------------\u001b[0m",
      "\u001b[0;31mValueError\u001b[0m                                Traceback (most recent call last)",
      "\u001b[0;32m<ipython-input-234-d2c596fc3847>\u001b[0m in \u001b[0;36m<module>\u001b[0;34m\u001b[0m\n\u001b[1;32m     23\u001b[0m \u001b[0;34m\u001b[0m\u001b[0m\n\u001b[1;32m     24\u001b[0m     \u001b[0;31m# Calculates the ROC AUC OvR\u001b[0m\u001b[0;34m\u001b[0m\u001b[0;34m\u001b[0m\u001b[0;34m\u001b[0m\u001b[0m\n\u001b[0;32m---> 25\u001b[0;31m     \u001b[0ma\u001b[0m\u001b[0;34m.\u001b[0m\u001b[0mappend\u001b[0m\u001b[0;34m(\u001b[0m\u001b[0mround\u001b[0m\u001b[0;34m(\u001b[0m\u001b[0mroc_auc_score\u001b[0m\u001b[0;34m(\u001b[0m\u001b[0mdf_aux\u001b[0m\u001b[0;34m[\u001b[0m\u001b[0;34m'class'\u001b[0m\u001b[0;34m]\u001b[0m\u001b[0;34m,\u001b[0m \u001b[0mdf_aux\u001b[0m\u001b[0;34m[\u001b[0m\u001b[0;34m'prob'\u001b[0m\u001b[0;34m]\u001b[0m\u001b[0;34m)\u001b[0m\u001b[0;34m,\u001b[0m\u001b[0;36m3\u001b[0m\u001b[0;34m)\u001b[0m\u001b[0;34m)\u001b[0m\u001b[0;34m\u001b[0m\u001b[0;34m\u001b[0m\u001b[0m\n\u001b[0m\u001b[1;32m     26\u001b[0m \u001b[0;31m#     print(roc_auc_score(df_aux['class'], df_aux['prob']))\u001b[0m\u001b[0;34m\u001b[0m\u001b[0;34m\u001b[0m\u001b[0;34m\u001b[0m\u001b[0m\n\u001b[1;32m     27\u001b[0m \u001b[0;34m\u001b[0m\u001b[0m\n",
      "\u001b[0;32m~/opt/anaconda3/lib/python3.8/site-packages/sklearn/metrics/_ranking.py\u001b[0m in \u001b[0;36mroc_auc_score\u001b[0;34m(y_true, y_score, average, sample_weight, max_fpr, multi_class, labels)\u001b[0m\n\u001b[1;32m    385\u001b[0m         \u001b[0mlabels\u001b[0m \u001b[0;34m=\u001b[0m \u001b[0mnp\u001b[0m\u001b[0;34m.\u001b[0m\u001b[0munique\u001b[0m\u001b[0;34m(\u001b[0m\u001b[0my_true\u001b[0m\u001b[0;34m)\u001b[0m\u001b[0;34m\u001b[0m\u001b[0;34m\u001b[0m\u001b[0m\n\u001b[1;32m    386\u001b[0m         \u001b[0my_true\u001b[0m \u001b[0;34m=\u001b[0m \u001b[0mlabel_binarize\u001b[0m\u001b[0;34m(\u001b[0m\u001b[0my_true\u001b[0m\u001b[0;34m,\u001b[0m \u001b[0mlabels\u001b[0m\u001b[0;34m)\u001b[0m\u001b[0;34m[\u001b[0m\u001b[0;34m:\u001b[0m\u001b[0;34m,\u001b[0m \u001b[0;36m0\u001b[0m\u001b[0;34m]\u001b[0m\u001b[0;34m\u001b[0m\u001b[0;34m\u001b[0m\u001b[0m\n\u001b[0;32m--> 387\u001b[0;31m         return _average_binary_score(partial(_binary_roc_auc_score,\n\u001b[0m\u001b[1;32m    388\u001b[0m                                              max_fpr=max_fpr),\n\u001b[1;32m    389\u001b[0m                                      \u001b[0my_true\u001b[0m\u001b[0;34m,\u001b[0m \u001b[0my_score\u001b[0m\u001b[0;34m,\u001b[0m \u001b[0maverage\u001b[0m\u001b[0;34m,\u001b[0m\u001b[0;34m\u001b[0m\u001b[0;34m\u001b[0m\u001b[0m\n",
      "\u001b[0;32m~/opt/anaconda3/lib/python3.8/site-packages/sklearn/metrics/_base.py\u001b[0m in \u001b[0;36m_average_binary_score\u001b[0;34m(binary_metric, y_true, y_score, average, sample_weight)\u001b[0m\n\u001b[1;32m     75\u001b[0m \u001b[0;34m\u001b[0m\u001b[0m\n\u001b[1;32m     76\u001b[0m     \u001b[0;32mif\u001b[0m \u001b[0my_type\u001b[0m \u001b[0;34m==\u001b[0m \u001b[0;34m\"binary\"\u001b[0m\u001b[0;34m:\u001b[0m\u001b[0;34m\u001b[0m\u001b[0;34m\u001b[0m\u001b[0m\n\u001b[0;32m---> 77\u001b[0;31m         \u001b[0;32mreturn\u001b[0m \u001b[0mbinary_metric\u001b[0m\u001b[0;34m(\u001b[0m\u001b[0my_true\u001b[0m\u001b[0;34m,\u001b[0m \u001b[0my_score\u001b[0m\u001b[0;34m,\u001b[0m \u001b[0msample_weight\u001b[0m\u001b[0;34m=\u001b[0m\u001b[0msample_weight\u001b[0m\u001b[0;34m)\u001b[0m\u001b[0;34m\u001b[0m\u001b[0;34m\u001b[0m\u001b[0m\n\u001b[0m\u001b[1;32m     78\u001b[0m \u001b[0;34m\u001b[0m\u001b[0m\n\u001b[1;32m     79\u001b[0m     \u001b[0mcheck_consistent_length\u001b[0m\u001b[0;34m(\u001b[0m\u001b[0my_true\u001b[0m\u001b[0;34m,\u001b[0m \u001b[0my_score\u001b[0m\u001b[0;34m,\u001b[0m \u001b[0msample_weight\u001b[0m\u001b[0;34m)\u001b[0m\u001b[0;34m\u001b[0m\u001b[0;34m\u001b[0m\u001b[0m\n",
      "\u001b[0;32m~/opt/anaconda3/lib/python3.8/site-packages/sklearn/metrics/_ranking.py\u001b[0m in \u001b[0;36m_binary_roc_auc_score\u001b[0;34m(y_true, y_score, sample_weight, max_fpr)\u001b[0m\n\u001b[1;32m    219\u001b[0m     \u001b[0;34m\"\"\"Binary roc auc score\"\"\"\u001b[0m\u001b[0;34m\u001b[0m\u001b[0;34m\u001b[0m\u001b[0m\n\u001b[1;32m    220\u001b[0m     \u001b[0;32mif\u001b[0m \u001b[0mlen\u001b[0m\u001b[0;34m(\u001b[0m\u001b[0mnp\u001b[0m\u001b[0;34m.\u001b[0m\u001b[0munique\u001b[0m\u001b[0;34m(\u001b[0m\u001b[0my_true\u001b[0m\u001b[0;34m)\u001b[0m\u001b[0;34m)\u001b[0m \u001b[0;34m!=\u001b[0m \u001b[0;36m2\u001b[0m\u001b[0;34m:\u001b[0m\u001b[0;34m\u001b[0m\u001b[0;34m\u001b[0m\u001b[0m\n\u001b[0;32m--> 221\u001b[0;31m         raise ValueError(\"Only one class present in y_true. ROC AUC score \"\n\u001b[0m\u001b[1;32m    222\u001b[0m                          \"is not defined in that case.\")\n\u001b[1;32m    223\u001b[0m \u001b[0;34m\u001b[0m\u001b[0m\n",
      "\u001b[0;31mValueError\u001b[0m: Only one class present in y_true. ROC AUC score is not defined in that case."
     ]
    }
   ],
   "source": [
    "pred = XGB.predict(X_val)\n",
    "pred_prob = XGB.predict_proba(X_val)\n",
    "fpr = {}\n",
    "tpr = {}\n",
    "thresh ={}\n",
    "n_class = 3\n",
    "\n",
    "for i in range(n_class):    \n",
    "    fpr[i], tpr[i], thresh[i] = roc_curve(y_val, pred_prob[:,i], pos_label=i+1)\n",
    "\n",
    "a = []\n",
    "classes = clf.classes_\n",
    "for i in range(len(classes)):\n",
    "    # Gets the class\n",
    "    c = classes[i]\n",
    "    \n",
    "    # Prepares an auxiliar dataframe to help with the plots\n",
    "    df_aux = X_val.copy()\n",
    "    df_aux['class'] = [1 if y == c else 0 for y in y_val]\n",
    "    df_aux['prob'] = pred_prob[:, i]\n",
    "    df_aux = df_aux.reset_index(drop = True)\n",
    "\n",
    "    \n",
    "    # Calculates the ROC AUC OvR\n",
    "    a.append(round(roc_auc_score(df_aux['class'], df_aux['prob']),3))\n",
    "#     print(roc_auc_score(df_aux['class'], df_aux['prob']))    \n",
    "    \n",
    "sns.set_style(\"white\")\n",
    "plt.plot(fpr[0], tpr[0], linestyle='-',color='orange', label=f'class-1 vs Rest {a[0]}')\n",
    "plt.plot(fpr[1], tpr[1], linestyle='-',color='green', label=f'class-2 vs Rest {a[1]}')\n",
    "plt.plot(fpr[2], tpr[2], linestyle='-',color='red', label=f'class-3 vs Rest {a[2]}')\n",
    "\n",
    "plt.title('Multiclass ROC curve using XGBoost (AUC)',fontsize=15)\n",
    "plt.xlabel('False Positive Rate',fontsize=15)\n",
    "plt.ylabel('True Positive rate',fontsize=15)\n",
    "plt.tick_params(labelsize=15)\n",
    "sns.set(rc={'figure.figsize':(6,6)})\n",
    "plt.plot([0, 1], [1, 1], linestyle='--', lw=2, color='grey', label='Random guess')\n",
    "# plt.legend(loc='best',fontsize=10)\n",
    "plt.legend(loc=\"lower right\", fontsize=10)\n",
    "plt.savefig(\"XGBoost.pdf\",dpi=300);"
   ]
  },
  {
   "cell_type": "markdown",
   "id": "3b8ae407",
   "metadata": {},
   "source": [
    "### Logistic Regression"
   ]
  },
  {
   "cell_type": "code",
   "execution_count": null,
   "id": "81c183ab",
   "metadata": {},
   "outputs": [
    {
     "data": {
      "text/plain": [
       "0.7058823529411765"
      ]
     },
     "execution_count": 235,
     "metadata": {},
     "output_type": "execute_result"
    }
   ],
   "source": [
    "from sklearn.linear_model import LogisticRegression\n",
    "from sklearn.model_selection import cross_val_score\n",
    "from sklearn import metrics\n",
    "\n",
    "LR_model= LogisticRegression(solver = 'lbfgs', max_iter=1e5, random_state=42)\n",
    "\n",
    "tuned_parameters = {\n",
    "               'C': [0.05,0.1,0.15,0.2,0.25,0.3] ,\n",
    "              'penalty':['l2']\n",
    "                   }\n",
    "LR= GridSearchCV(LR_model, tuned_parameters,cv=5)\n",
    "LR.fit(X_train, y_train)\n",
    "LR.score(X_val, y_val)"
   ]
  },
  {
   "cell_type": "code",
   "execution_count": null,
   "id": "95b4c69a",
   "metadata": {},
   "outputs": [
    {
     "data": {
      "text/plain": [
       "{'C': 0.05, 'penalty': 'l2'}"
      ]
     },
     "execution_count": 236,
     "metadata": {},
     "output_type": "execute_result"
    }
   ],
   "source": [
    "LR.best_params_"
   ]
  },
  {
   "cell_type": "code",
   "execution_count": null,
   "id": "23afcdee",
   "metadata": {},
   "outputs": [
    {
     "data": {
      "image/png": "[encoded data removed]",
      "text/plain": [
       "<Figure size 432x432 with 1 Axes>"
      ]
     },
     "metadata": {},
     "output_type": "display_data"
    }
   ],
   "source": [
    "sum_of_squares(LR)"
   ]
  },
  {
   "cell_type": "code",
   "execution_count": null,
   "id": "ad49fd05",
   "metadata": {},
   "outputs": [
    {
     "data": {
      "image/png": "[encoded data removed]",
      "text/plain": [
       "<Figure size 432x432 with 1 Axes>"
      ]
     },
     "metadata": {},
     "output_type": "display_data"
    }
   ],
   "source": [
    "df_logistic = clustering_label(LR, 6)\n",
    "plotting_label(df_logistic, 6)"
   ]
  },
  {
   "cell_type": "markdown",
   "id": "468d0a8f",
   "metadata": {},
   "source": [
    "### ROC"
   ]
  },
  {
   "cell_type": "code",
   "execution_count": null,
   "id": "c267b7dd",
   "metadata": {},
   "outputs": [
    {
     "name": "stderr",
     "output_type": "stream",
     "text": [
      "/Users/yuanruizhu/opt/anaconda3/lib/python3.8/site-packages/sklearn/metrics/_ranking.py:806: UndefinedMetricWarning: No positive samples in y_true, true positive value should be meaningless\n",
      "  warnings.warn(\"No positive samples in y_true, \"\n"
     ]
    },
    {
     "ename": "ValueError",
     "evalue": "Only one class present in y_true. ROC AUC score is not defined in that case.",
     "output_type": "error",
     "traceback": [
      "\u001b[0;31m---------------------------------------------------------------------------\u001b[0m",
      "\u001b[0;31mValueError\u001b[0m                                Traceback (most recent call last)",
      "\u001b[0;32m<ipython-input-241-0515011d06b5>\u001b[0m in \u001b[0;36m<module>\u001b[0;34m\u001b[0m\n\u001b[1;32m     23\u001b[0m \u001b[0;34m\u001b[0m\u001b[0m\n\u001b[1;32m     24\u001b[0m     \u001b[0;31m# Calculates the ROC AUC OvR\u001b[0m\u001b[0;34m\u001b[0m\u001b[0;34m\u001b[0m\u001b[0;34m\u001b[0m\u001b[0m\n\u001b[0;32m---> 25\u001b[0;31m     \u001b[0ma\u001b[0m\u001b[0;34m.\u001b[0m\u001b[0mappend\u001b[0m\u001b[0;34m(\u001b[0m\u001b[0mround\u001b[0m\u001b[0;34m(\u001b[0m\u001b[0mroc_auc_score\u001b[0m\u001b[0;34m(\u001b[0m\u001b[0mdf_aux\u001b[0m\u001b[0;34m[\u001b[0m\u001b[0;34m'class'\u001b[0m\u001b[0;34m]\u001b[0m\u001b[0;34m,\u001b[0m \u001b[0mdf_aux\u001b[0m\u001b[0;34m[\u001b[0m\u001b[0;34m'prob'\u001b[0m\u001b[0;34m]\u001b[0m\u001b[0;34m)\u001b[0m\u001b[0;34m,\u001b[0m\u001b[0;36m3\u001b[0m\u001b[0;34m)\u001b[0m\u001b[0;34m)\u001b[0m\u001b[0;34m\u001b[0m\u001b[0;34m\u001b[0m\u001b[0m\n\u001b[0m\u001b[1;32m     26\u001b[0m \u001b[0;31m#     print(roc_auc_score(df_aux['class'], df_aux['prob']))\u001b[0m\u001b[0;34m\u001b[0m\u001b[0;34m\u001b[0m\u001b[0;34m\u001b[0m\u001b[0m\n\u001b[1;32m     27\u001b[0m \u001b[0;34m\u001b[0m\u001b[0m\n",
      "\u001b[0;32m~/opt/anaconda3/lib/python3.8/site-packages/sklearn/metrics/_ranking.py\u001b[0m in \u001b[0;36mroc_auc_score\u001b[0;34m(y_true, y_score, average, sample_weight, max_fpr, multi_class, labels)\u001b[0m\n\u001b[1;32m    385\u001b[0m         \u001b[0mlabels\u001b[0m \u001b[0;34m=\u001b[0m \u001b[0mnp\u001b[0m\u001b[0;34m.\u001b[0m\u001b[0munique\u001b[0m\u001b[0;34m(\u001b[0m\u001b[0my_true\u001b[0m\u001b[0;34m)\u001b[0m\u001b[0;34m\u001b[0m\u001b[0;34m\u001b[0m\u001b[0m\n\u001b[1;32m    386\u001b[0m         \u001b[0my_true\u001b[0m \u001b[0;34m=\u001b[0m \u001b[0mlabel_binarize\u001b[0m\u001b[0;34m(\u001b[0m\u001b[0my_true\u001b[0m\u001b[0;34m,\u001b[0m \u001b[0mlabels\u001b[0m\u001b[0;34m)\u001b[0m\u001b[0;34m[\u001b[0m\u001b[0;34m:\u001b[0m\u001b[0;34m,\u001b[0m \u001b[0;36m0\u001b[0m\u001b[0;34m]\u001b[0m\u001b[0;34m\u001b[0m\u001b[0;34m\u001b[0m\u001b[0m\n\u001b[0;32m--> 387\u001b[0;31m         return _average_binary_score(partial(_binary_roc_auc_score,\n\u001b[0m\u001b[1;32m    388\u001b[0m                                              max_fpr=max_fpr),\n\u001b[1;32m    389\u001b[0m                                      \u001b[0my_true\u001b[0m\u001b[0;34m,\u001b[0m \u001b[0my_score\u001b[0m\u001b[0;34m,\u001b[0m \u001b[0maverage\u001b[0m\u001b[0;34m,\u001b[0m\u001b[0;34m\u001b[0m\u001b[0;34m\u001b[0m\u001b[0m\n",
      "\u001b[0;32m~/opt/anaconda3/lib/python3.8/site-packages/sklearn/metrics/_base.py\u001b[0m in \u001b[0;36m_average_binary_score\u001b[0;34m(binary_metric, y_true, y_score, average, sample_weight)\u001b[0m\n\u001b[1;32m     75\u001b[0m \u001b[0;34m\u001b[0m\u001b[0m\n\u001b[1;32m     76\u001b[0m     \u001b[0;32mif\u001b[0m \u001b[0my_type\u001b[0m \u001b[0;34m==\u001b[0m \u001b[0;34m\"binary\"\u001b[0m\u001b[0;34m:\u001b[0m\u001b[0;34m\u001b[0m\u001b[0;34m\u001b[0m\u001b[0m\n\u001b[0;32m---> 77\u001b[0;31m         \u001b[0;32mreturn\u001b[0m \u001b[0mbinary_metric\u001b[0m\u001b[0;34m(\u001b[0m\u001b[0my_true\u001b[0m\u001b[0;34m,\u001b[0m \u001b[0my_score\u001b[0m\u001b[0;34m,\u001b[0m \u001b[0msample_weight\u001b[0m\u001b[0;34m=\u001b[0m\u001b[0msample_weight\u001b[0m\u001b[0;34m)\u001b[0m\u001b[0;34m\u001b[0m\u001b[0;34m\u001b[0m\u001b[0m\n\u001b[0m\u001b[1;32m     78\u001b[0m \u001b[0;34m\u001b[0m\u001b[0m\n\u001b[1;32m     79\u001b[0m     \u001b[0mcheck_consistent_length\u001b[0m\u001b[0;34m(\u001b[0m\u001b[0my_true\u001b[0m\u001b[0;34m,\u001b[0m \u001b[0my_score\u001b[0m\u001b[0;34m,\u001b[0m \u001b[0msample_weight\u001b[0m\u001b[0;34m)\u001b[0m\u001b[0;34m\u001b[0m\u001b[0;34m\u001b[0m\u001b[0m\n",
      "\u001b[0;32m~/opt/anaconda3/lib/python3.8/site-packages/sklearn/metrics/_ranking.py\u001b[0m in \u001b[0;36m_binary_roc_auc_score\u001b[0;34m(y_true, y_score, sample_weight, max_fpr)\u001b[0m\n\u001b[1;32m    219\u001b[0m     \u001b[0;34m\"\"\"Binary roc auc score\"\"\"\u001b[0m\u001b[0;34m\u001b[0m\u001b[0;34m\u001b[0m\u001b[0m\n\u001b[1;32m    220\u001b[0m     \u001b[0;32mif\u001b[0m \u001b[0mlen\u001b[0m\u001b[0;34m(\u001b[0m\u001b[0mnp\u001b[0m\u001b[0;34m.\u001b[0m\u001b[0munique\u001b[0m\u001b[0;34m(\u001b[0m\u001b[0my_true\u001b[0m\u001b[0;34m)\u001b[0m\u001b[0;34m)\u001b[0m \u001b[0;34m!=\u001b[0m \u001b[0;36m2\u001b[0m\u001b[0;34m:\u001b[0m\u001b[0;34m\u001b[0m\u001b[0;34m\u001b[0m\u001b[0m\n\u001b[0;32m--> 221\u001b[0;31m         raise ValueError(\"Only one class present in y_true. ROC AUC score \"\n\u001b[0m\u001b[1;32m    222\u001b[0m                          \"is not defined in that case.\")\n\u001b[1;32m    223\u001b[0m \u001b[0;34m\u001b[0m\u001b[0m\n",
      "\u001b[0;31mValueError\u001b[0m: Only one class present in y_true. ROC AUC score is not defined in that case."
     ]
    }
   ],
   "source": [
    "pred = LR.predict(X_val)\n",
    "pred_prob = LR.predict_proba(X_val)\n",
    "fpr = {}\n",
    "tpr = {}\n",
    "thresh ={}\n",
    "n_class = 3\n",
    "\n",
    "for i in range(n_class):    \n",
    "    fpr[i], tpr[i], thresh[i] = roc_curve(y_val, pred_prob[:,i], pos_label=i+1)\n",
    "\n",
    "a = []\n",
    "classes = clf.classes_\n",
    "for i in range(len(classes)):\n",
    "    # Gets the class\n",
    "    c = classes[i]\n",
    "    \n",
    "    # Prepares an auxiliar dataframe to help with the plots\n",
    "    df_aux = X_val.copy()\n",
    "    df_aux['class'] = [1 if y == c else 0 for y in y_val]\n",
    "    df_aux['prob'] = pred_prob[:, i]\n",
    "    df_aux = df_aux.reset_index(drop = True)\n",
    "\n",
    "    \n",
    "    # Calculates the ROC AUC OvR\n",
    "    a.append(round(roc_auc_score(df_aux['class'], df_aux['prob']),3))\n",
    "#     print(roc_auc_score(df_aux['class'], df_aux['prob']))    \n",
    "    \n",
    "sns.set_style(\"white\")\n",
    "plt.plot(fpr[0], tpr[0], linestyle='-',color='orange', label=f'class-1 vs Rest {a[0]}')\n",
    "plt.plot(fpr[1], tpr[1], linestyle='-',color='green', label=f'class-2 vs Rest {a[1]}')\n",
    "plt.plot(fpr[2], tpr[2], linestyle='-',color='red', label=f'class-3 vs Rest {a[2]}')\n",
    "\n",
    "plt.title('Multiclass ROC curve using Logistic Regression (AUC)',fontsize=15)\n",
    "plt.xlabel('False Positive Rate',fontsize=15)\n",
    "plt.ylabel('True Positive rate',fontsize=15)\n",
    "plt.tick_params(labelsize=15)\n",
    "sns.set(rc={'figure.figsize':(6,6)})\n",
    "plt.plot([0, 1], [0, 1], linestyle='--', lw=2, color='grey', label='Random guess')\n",
    "# plt.legend(loc='best',fontsize=10)\n",
    "plt.legend(loc=\"lower right\", fontsize=10)\n",
    "plt.savefig(\"LR.pdf\",dpi=300);"
   ]
  },
  {
   "cell_type": "markdown",
   "id": "cf5d62b3",
   "metadata": {},
   "source": [
    "### OLD VERSION, PLEASE IGNORE IT"
   ]
  },
  {
   "cell_type": "code",
   "execution_count": null,
   "id": "dcd61eef",
   "metadata": {},
   "outputs": [],
   "source": [
    "# a = []\n",
    "# b = []\n",
    "# for i in np.arange(1,15):\n",
    "#     m1 = RandomForestClassifier(max_depth=i, random_state=42)\n",
    "#     m1.fit(X_train, y_train_1)\n",
    "#     a.append(i)\n",
    "#     b.append(m1.score(X_train, y_train_1))\n",
    "# m1 = RandomForestClassifier(max_depth=np.argmax(b)+1, random_state=42)\n",
    "# m1.fit(X_train, y_train_1)\n",
    "# m1.score(X_test, y_test_1)\n",
    "# b"
   ]
  },
  {
   "cell_type": "code",
   "execution_count": null,
   "id": "b11285dd",
   "metadata": {},
   "outputs": [],
   "source": [
    "# m1 = RandomForestClassifier(max_depth=15, random_state=42)\n",
    "# m1.fit(X_train, y_train_1)\n",
    "# m1.predict_proba(X_train)"
   ]
  },
  {
   "cell_type": "code",
   "execution_count": null,
   "id": "444d57f3",
   "metadata": {
    "scrolled": true
   },
   "outputs": [],
   "source": [
    "# from sklearn.linear_model import LogisticRegression ###l2\n",
    "# clf = LogisticRegression(random_state=0).fit(X_train, y_train_1)\n",
    "# clf.score(X_train, y_train_1)"
   ]
  },
  {
   "cell_type": "code",
   "execution_count": null,
   "id": "aa98e3fc",
   "metadata": {},
   "outputs": [],
   "source": [
    "# clf.predict_proba(X_train)"
   ]
  },
  {
   "cell_type": "code",
   "execution_count": null,
   "id": "d98823b9",
   "metadata": {
    "scrolled": true
   },
   "outputs": [],
   "source": [
    "# import tensorflow as tf\n",
    "# tf.keras.losses.SparseCategoricalCrossentropy()\n",
    "# clf.predict_proba(X_test)"
   ]
  },
  {
   "cell_type": "code",
   "execution_count": null,
   "id": "4395778b",
   "metadata": {
    "scrolled": true
   },
   "outputs": [],
   "source": [
    "# from sklearn.neighbors import KNeighborsClassifier\n",
    "# a = []\n",
    "# for i in np.arange(1,10):\n",
    "#     neigh = KNeighborsClassifier(n_neighbors=i).fit(X_train, y_train_1)\n",
    "#     a.append(neigh.score(X_train, y_train_1))\n",
    "# neigh = KNeighborsClassifier(n_neighbors=3).fit(X_train, y_train_1)\n",
    "# neigh.score(X_test, y_test_1)"
   ]
  },
  {
   "cell_type": "code",
   "execution_count": null,
   "id": "391e37ef",
   "metadata": {
    "scrolled": true
   },
   "outputs": [],
   "source": [
    "# a"
   ]
  },
  {
   "cell_type": "code",
   "execution_count": null,
   "id": "c863790c",
   "metadata": {
    "scrolled": true
   },
   "outputs": [],
   "source": [
    "# neigh = KNeighborsClassifier(n_neighbors=2).fit(X_train, y_train_1)\n",
    "# neigh.predict_proba(X_test)"
   ]
  },
  {
   "cell_type": "code",
   "execution_count": null,
   "id": "691c227a",
   "metadata": {},
   "outputs": [],
   "source": [
    "# from sklearn.pipeline import make_pipeline\n",
    "# from sklearn.preprocessing import StandardScaler\n",
    "# from sklearn.svm import SVC\n",
    "# clf = make_pipeline(StandardScaler(), SVC(gamma='auto', probability=True))\n",
    "# clf.fit(X_train, y_train_1)\n",
    "# clf.score(X_test, y_test_1)\n",
    "# clf.predict_proba(X_test)"
   ]
  },
  {
   "cell_type": "code",
   "execution_count": null,
   "id": "0814b005",
   "metadata": {
    "scrolled": false
   },
   "outputs": [],
   "source": [
    "# m1.predict(X_train)"
   ]
  },
  {
   "cell_type": "code",
   "execution_count": null,
   "id": "3377e071",
   "metadata": {
    "scrolled": true
   },
   "outputs": [],
   "source": [
    "# y_train_1"
   ]
  },
  {
   "cell_type": "code",
   "execution_count": null,
   "id": "32c90168",
   "metadata": {},
   "outputs": [],
   "source": [
    "# from sklearn.model_selection import cross_val_score\n",
    "# from sklearn.tree import DecisionTreeClassifier"
   ]
  },
  {
   "cell_type": "code",
   "execution_count": null,
   "id": "fecab8ce",
   "metadata": {},
   "outputs": [],
   "source": [
    "# clf = DecisionTreeClassifier(random_state=42, max_depth=2)"
   ]
  },
  {
   "cell_type": "code",
   "execution_count": null,
   "id": "efe3ad09",
   "metadata": {
    "scrolled": true
   },
   "outputs": [],
   "source": [
    "# clf.fit(X_train, y_train_1)"
   ]
  },
  {
   "cell_type": "code",
   "execution_count": null,
   "id": "319148b6",
   "metadata": {},
   "outputs": [],
   "source": [
    "# clf.score(X_train, y_train_1)"
   ]
  },
  {
   "cell_type": "code",
   "execution_count": null,
   "id": "7b5878ff",
   "metadata": {
    "scrolled": true
   },
   "outputs": [],
   "source": [
    "# clf.score(X_test, y_test_1)"
   ]
  },
  {
   "cell_type": "code",
   "execution_count": null,
   "id": "5047fad4",
   "metadata": {},
   "outputs": [],
   "source": [
    "# sum(dat[\"label_1_x\"] == 5)"
   ]
  },
  {
   "cell_type": "code",
   "execution_count": null,
   "id": "9c667079",
   "metadata": {},
   "outputs": [],
   "source": []
  },
  {
   "cell_type": "markdown",
   "id": "88ba74d8",
   "metadata": {},
   "source": [
    "## MLP"
   ]
  },
  {
   "cell_type": "code",
   "execution_count": null,
   "id": "5c75fabb",
   "metadata": {},
   "outputs": [],
   "source": [
    "# import ast\n",
    "# class allaction():\n",
    "    \n",
    "#     def __init__(self, file):\n",
    "#         self.df = pd.read_csv(file) \n",
    "#         self.orderId, self.taskId, self.taskTicks, self.workerId, self.workerTicks = [], [], [], [], []\n",
    "#         self.ResponseId, self.Round, self.Tick = [], [], []\n",
    "#     #taskId: 0~idle, 1~chop, 2~cook, 3~plate\n",
    "#     #workerId: 0~chef, 1~sou-chef, 2~server\n",
    "#     #           0~sou-chef, 1~server, CHANGE!!! 0~idle, 1~chef, 2~sou-chef, 3~server\n",
    "    \n",
    "#     def parse(self):\n",
    "#         # all id + 1, leaving 0 to be idle\n",
    "#         action = self.df\n",
    "#         for i in np.arange(action.shape[0]):\n",
    "#             row = action.iloc[i,:]\n",
    "#             for act in [\"action1\", \"action2\", \"action3\"]:\n",
    "#                 # when there is no action in this act\n",
    "#                 if type(row[act]) != str:\n",
    "#                     self.orderId.append(0)\n",
    "#                     self.taskId.append(0)\n",
    "#                     self.taskTicks.append(0)\n",
    "#                     self.workerId.append(0)\n",
    "#                     self.workerTicks.append(0)\n",
    "#                 else:\n",
    "#                     a = ast.literal_eval(row[act])\n",
    "#                     self.orderId.append(a[\"order_id\"] + 1)\n",
    "#                     self.taskId.append(a[\"task_id\"] + 1)\n",
    "#                     self.taskTicks.append(a[\"task_ticks\"])\n",
    "#                     self.workerId.append(a[\"worker_id\"] + 1)\n",
    "#                     self.workerTicks.append(a[\"worker_ticks\"])\n",
    "\n",
    "#                 self.ResponseId.append(row[\"ResponseId\"])\n",
    "#                 self.Round.append(row[\"round\"])\n",
    "#                 self.Tick.append(row[\"tick\"])\n",
    "                \n",
    "#     def get(self):\n",
    "#         self.parse()\n",
    "#         d = {\n",
    "#             \"ResponseId\": self.ResponseId,\n",
    "#             \"round\": self.Round,\n",
    "#             \"tick\": self.Tick,\n",
    "#             \"orderId\": self.orderId, \n",
    "#             \"taskId\": self.taskId, \n",
    "#             \"taskTicks\": self.taskTicks, \n",
    "#             \"workerId\": self.workerId, \n",
    "#             \"workerTicks\": self.workerTicks\n",
    "#         }\n",
    "#         return pd.DataFrame(d)\n",
    "\n"
   ]
  },
  {
   "cell_type": "code",
   "execution_count": null,
   "id": "da910f18",
   "metadata": {},
   "outputs": [],
   "source": [
    "# pwd"
   ]
  },
  {
   "cell_type": "code",
   "execution_count": null,
   "id": "8cc58f84",
   "metadata": {
    "scrolled": true
   },
   "outputs": [],
   "source": [
    "# file =  \"../data/phase2/phase2_action.csv\"\n",
    "# action = allaction(file).get()\n",
    "# action = action[action[\"round\"] <= 2]\n",
    "# action = action.drop(\"workerTicks\", axis=1)\n",
    "# action"
   ]
  },
  {
   "cell_type": "code",
   "execution_count": null,
   "id": "2bcfeb14",
   "metadata": {
    "scrolled": true
   },
   "outputs": [],
   "source": [
    "# t1 = action.drop(\"orderId\", axis=1)\n",
    "# t2 = t1.merge(pd.get_dummies(t1[\"taskId\"]), left_index=True, right_index=True).drop(\"taskId\", axis=1).rename(\n",
    "#     columns={0:\"idle\", 1:\"chop\", 2:\"cook\", 3:\"plate\"})\n",
    "# df = t2.merge(pd.get_dummies(t2[\"workerId\"]), left_index=True, right_index=True).drop(\"workerId\", axis=1).rename(\n",
    "#     columns={0:\"idle\", 1:\"chef\", 2:\"sou-chef\", 3:\"server\"})\n",
    "# df.drop(\"taskTicks\", axis=1).groupby([\"ResponseId\", \"round\", \"tick\"]).sum()"
   ]
  },
  {
   "cell_type": "code",
   "execution_count": null,
   "id": "b1c8cbf2",
   "metadata": {},
   "outputs": [],
   "source": []
  },
  {
   "cell_type": "code",
   "execution_count": null,
   "id": "643fa5e0",
   "metadata": {},
   "outputs": [],
   "source": [
    "# import torch\n",
    "# from tqdm import tqdm\n",
    "# class Feedforward(torch.nn.Module):\n",
    "#         def __init__(self, input_size):\n",
    "#             super(Feedforward, self).__init__()\n",
    "#             self.input_size = input_size\n",
    "#             self.hidden_size  = 30\n",
    "#             self.fc1 = torch.nn.Linear(self.input_size, self.hidden_size)\n",
    "#             self.fc3 = torch.nn.Linear(30, 50)\n",
    "#             self.fc4 = torch.nn.Linear(50, 60)\n",
    "#             self.fc11 = torch.nn.Linear(60, 50)\n",
    "#             self.fc5 = torch.nn.Linear(50, 30)\n",
    "#             self.fc6 = torch.nn.Linear(30, 15)\n",
    "#             self.fc7 = torch.nn.Linear(15, 10)\n",
    "#             self.fc8 = torch.nn.Linear(10, 5)\n",
    "#             self.relu = torch.nn.ReLU()\n",
    "# #             self.fc2 = torch.nn.Linear(5, 1)\n",
    "#             self.sigmoid = torch.nn.Softmax(dim=1)\n",
    "#         def forward(self, x):\n",
    "#             hidden = self.fc1(x)\n",
    "#             relu = self.relu(hidden)\n",
    "            \n",
    "#             hidden = self.fc3(relu)\n",
    "#             relu = self.relu(hidden)\n",
    "            \n",
    "#             hidden = self.fc4(relu)\n",
    "#             relu = self.relu(hidden)\n",
    "            \n",
    "#             hidden = self.fc11(relu)\n",
    "#             relu = self.relu(hidden)\n",
    "            \n",
    "#             hidden = self.fc5(relu)\n",
    "#             relu = self.relu(hidden)\n",
    "            \n",
    "#             hidden = self.fc6(relu)\n",
    "#             relu = self.relu(hidden)\n",
    "\n",
    "            \n",
    "#             hidden = self.fc7(relu)\n",
    "#             relu = self.relu(hidden)\n",
    "        \n",
    "#             output = self.fc8(relu)\n",
    "#             output = self.sigmoid(output)\n",
    "#             return output"
   ]
  },
  {
   "cell_type": "code",
   "execution_count": null,
   "id": "b6f8730a",
   "metadata": {},
   "outputs": [],
   "source": [
    "# from sklearn.ensemble import AdaBoostClassifier"
   ]
  },
  {
   "cell_type": "code",
   "execution_count": null,
   "id": "93e61c27",
   "metadata": {
    "scrolled": false
   },
   "outputs": [],
   "source": [
    "# b"
   ]
  },
  {
   "cell_type": "code",
   "execution_count": null,
   "id": "73ae57e2",
   "metadata": {},
   "outputs": [],
   "source": [
    "\n",
    "\n",
    "# a = []\n",
    "# b = []\n",
    "# for i in np.arange(100,1000):\n",
    "#     clf = AdaBoostClassifier(n_estimators=i, random_state=0)\n",
    "#     clf.fit(X_train,y_train_1)\n",
    "#     a.append(i)\n",
    "#     b.append(clf.score(X_test, y_test_1))\n",
    "# max(b)\n"
   ]
  },
  {
   "cell_type": "code",
   "execution_count": null,
   "id": "5a75c691",
   "metadata": {
    "scrolled": true
   },
   "outputs": [],
   "source": [
    "# df.groupby([\"ResponseId\", \"round\", \"tick\"]).agg(lambda x:x.iloc[0]).merge(\n",
    "#     df.groupby([\"ResponseId\", \"round\", \"tick\"]).agg(lambda x:x.iloc[1]).merge(\n",
    "#         df.groupby([\"ResponseId\", \"round\", \"tick\"]).agg(lambda x:x.iloc[2]),left_index=True,right_index=True),\n",
    "#             left_index=True,right_index=True)"
   ]
  },
  {
   "cell_type": "code",
   "execution_count": null,
   "id": "7c4df645",
   "metadata": {},
   "outputs": [],
   "source": [
    "# model = Feedforward(num_feature*3)\n",
    "# criterion = torch.nn.CrossEntropyLoss()\n",
    "\n",
    "# optimizer = torch.optim.SGD(model.parameters(), lr = 0.01)\n",
    "\n",
    "# def padding(arr):\n",
    "#     b = []\n",
    "#     for i in np.array(arr):\n",
    "#         a = [0,0,0,0,0,0,0]\n",
    "#         a[i-1] = 1\n",
    "#         b.append(a)\n",
    "#     return b\n",
    "# y_test = padding(np.array(y_test_1))\n",
    "# y_train = padding(np.array(y_train_1))"
   ]
  },
  {
   "cell_type": "code",
   "execution_count": null,
   "id": "3e0cd35f",
   "metadata": {},
   "outputs": [],
   "source": [
    "# def padding(arr):\n",
    "#     b = []\n",
    "#     for i in np.array(arr):\n",
    "#         a = [0,0,0,0,0,0,0]\n",
    "#         a[i-1] = 1\n",
    "#         b.append(a)\n",
    "#     return b\n",
    "# y_test = padding(np.array(y_test_1))\n",
    "# y_train = padding(np.array(y_train_1))"
   ]
  },
  {
   "cell_type": "code",
   "execution_count": null,
   "id": "66ca7a29",
   "metadata": {
    "scrolled": true
   },
   "outputs": [],
   "source": [
    "# model.eval()\n",
    "# y_pred = model(torch.FloatTensor(np.array(X_test)))\n",
    "# before_train = criterion(y_pred.squeeze(), torch.FloatTensor(y_test))\n",
    "# print('Test loss before training' , before_train.item())"
   ]
  },
  {
   "cell_type": "code",
   "execution_count": null,
   "id": "85f5ba74",
   "metadata": {},
   "outputs": [],
   "source": [
    "# action = action[action[\"round\"] <= 2]\n",
    "# action[\"workerId\"] = action[\"workerId\"] + 1\n",
    "# action = action.drop(\"workerTicks\", axis=1)\n",
    "# action"
   ]
  },
  {
   "cell_type": "code",
   "execution_count": null,
   "id": "acee796a",
   "metadata": {
    "scrolled": true
   },
   "outputs": [],
   "source": [
    "# t1"
   ]
  },
  {
   "cell_type": "code",
   "execution_count": null,
   "id": "8c688de7",
   "metadata": {},
   "outputs": [],
   "source": [
    "# model.train()\n",
    "# epoch = 10000\n",
    "# loss_train = []\n",
    "# loss_val = []\n",
    "# for epoch in tqdm(range(epoch)):\n",
    "#     optimizer.zero_grad()\n",
    "#     y_pred = model(torch.FloatTensor(np.array(X_train)))\n",
    "#     loss = criterion(y_pred.squeeze(), torch.FloatTensor(y_train))\n",
    "#     loss_train.append(loss.item())\n",
    "    \n",
    "#     y_pred_2 = model(torch.FloatTensor(np.array(X_test)))\n",
    "#     loss_val.append(criterion(y_pred_2.squeeze(), torch.FloatTensor(y_test)).item())\n",
    "\n",
    "#     loss.backward()\n",
    "#     optimizer.step()"
   ]
  },
  {
   "cell_type": "code",
   "execution_count": null,
   "id": "fa2be7e0",
   "metadata": {
    "scrolled": true
   },
   "outputs": [],
   "source": [
    "# t2"
   ]
  },
  {
   "cell_type": "code",
   "execution_count": null,
   "id": "7e5435fc",
   "metadata": {},
   "outputs": [],
   "source": [
    "# model.eval()\n",
    "# y_pred = model(torch.FloatTensor(np.array(X_test)))\n",
    "# after_train = criterion(y_pred.squeeze(), torch.FloatTensor(y_test)) \n",
    "# print('Test loss after Training' , after_train.item())"
   ]
  },
  {
   "cell_type": "code",
   "execution_count": null,
   "id": "93ec467b",
   "metadata": {},
   "outputs": [],
   "source": [
    "# model.eval()\n",
    "# y_pred = model(torch.FloatTensor(np.array(X_train)))\n",
    "# after_train = criterion(y_pred.squeeze(), torch.FloatTensor(y_train)) \n",
    "# print('Test loss after Training' , after_train.item())"
   ]
  },
  {
   "cell_type": "code",
   "execution_count": null,
   "id": "863de4a5",
   "metadata": {},
   "outputs": [],
   "source": [
    "# com = pd.DataFrame({\n",
    "#     \"types\": [\"train\" for _ in np.arange(10000)] + [\"val\" for _ in np.arange(10000)],\n",
    "#     \"mse\": loss_train + loss_val,\n",
    "#     \"epoch\": np.arange(1,10001).tolist() + np.arange(1,10001).tolist()\n",
    "# })\n",
    "# com"
   ]
  },
  {
   "cell_type": "code",
   "execution_count": null,
   "id": "0cf2805f",
   "metadata": {},
   "outputs": [],
   "source": [
    "# import seaborn as sns\n",
    "# sns.lineplot(data=com, x=\"epoch\", y=\"mse\", hue=\"types\")"
   ]
  },
  {
   "cell_type": "code",
   "execution_count": null,
   "id": "28abf072",
   "metadata": {
    "scrolled": true
   },
   "outputs": [],
   "source": [
    "# action[\"workerId\"] + 1"
   ]
  },
  {
   "cell_type": "code",
   "execution_count": null,
   "id": "b55efb95",
   "metadata": {},
   "outputs": [],
   "source": [
    "# sum(dat[\"label_1_x\"] == 4)"
   ]
  },
  {
   "cell_type": "code",
   "execution_count": null,
   "id": "aedd5805",
   "metadata": {
    "scrolled": true
   },
   "outputs": [],
   "source": [
    "# sum(dat[\"label_1_x\"] == 3)"
   ]
  },
  {
   "cell_type": "code",
   "execution_count": null,
   "id": "9ade293c",
   "metadata": {
    "scrolled": true
   },
   "outputs": [],
   "source": [
    "# sum(dat[\"label_1_x\"] == 2)"
   ]
  },
  {
   "cell_type": "code",
   "execution_count": null,
   "id": "a649e7f1",
   "metadata": {},
   "outputs": [],
   "source": [
    "# sum(dat[\"label_1_x\"] == 1)"
   ]
  },
  {
   "cell_type": "code",
   "execution_count": null,
   "id": "aea6816d",
   "metadata": {},
   "outputs": [],
   "source": [
    "# model(torch.FloatTensor(np.array(X_train)))"
   ]
  },
  {
   "cell_type": "code",
   "execution_count": null,
   "id": "6e5de373",
   "metadata": {},
   "outputs": [],
   "source": [
    "# y_train"
   ]
  },
  {
   "cell_type": "code",
   "execution_count": null,
   "id": "5aee8ab4",
   "metadata": {},
   "outputs": [],
   "source": [
    "# for p in model.parameters():\n",
    "#     print(p)"
   ]
  },
  {
   "cell_type": "code",
   "execution_count": null,
   "id": "edfb14cd",
   "metadata": {
    "scrolled": true
   },
   "outputs": [],
   "source": [
    "# torch.FloatTensor(np.array(X_test))"
   ]
  },
  {
   "cell_type": "code",
   "execution_count": null,
   "id": "d750491c",
   "metadata": {
    "scrolled": true
   },
   "outputs": [],
   "source": [
    "# y_pred.squeeze()"
   ]
  },
  {
   "cell_type": "code",
   "execution_count": null,
   "id": "c239887f",
   "metadata": {
    "scrolled": true
   },
   "outputs": [],
   "source": [
    "# y_train_1"
   ]
  }
 ],
 "metadata": {
  "kernelspec": {
   "display_name": "Python 3.8.3",
   "language": "python",
   "name": "python3"
  },
  "language_info": {
   "codemirror_mode": {
    "name": "ipython",
    "version": 3
   },
   "file_extension": ".py",
   "mimetype": "text/x-python",
   "name": "python",
   "nbconvert_exporter": "python",
   "pygments_lexer": "ipython3",
   "version": "3.8.3"
  },
  "vscode": {
   "interpreter": {
    "hash": "341c4afb2b7dace5ecccaff63a380b766b5d287faa11f6eafa4ff2f214a4f1c5"
   }
  }
 },
 "nbformat": 4,
 "nbformat_minor": 5
}
